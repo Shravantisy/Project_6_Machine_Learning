{
 "cells": [
  {
   "cell_type": "markdown",
   "metadata": {
    "id": "qXFGScYJv0zO"
   },
   "source": [
    "# Titanic 3: Creating a Pipeline and tuning the model with Grid Search Cross Validation"
   ]
  },
  {
   "cell_type": "markdown",
   "metadata": {
    "id": "hvblkIsDwBlI"
   },
   "source": [
    "## 1. Data reading and preprocessing\n",
    "\n",
    "We will first review everything we did in the previous notebook."
   ]
  },
  {
   "cell_type": "code",
   "execution_count": 15,
   "metadata": {
    "id": "fgUcuPKovu5T"
   },
   "outputs": [],
   "source": [
    "import pandas as pd\n",
    "\n",
    "data = pd.read_csv(\"housing-classification-iter-0-2.csv\") #reading data from csv"
   ]
  },
  {
   "cell_type": "markdown",
   "metadata": {
    "id": "57d0l4uEvu5W"
   },
   "source": [
    "### 1.1. Setting X and y\n",
    "\n",
    "- **X**: columns that help us make a prediction.\n",
    "- **y**: the column that we want to predict."
   ]
  },
  {
   "cell_type": "code",
   "execution_count": 16,
   "metadata": {
    "id": "3rX2vgy5vu5Y"
   },
   "outputs": [],
   "source": [
    "X = data\n",
    "y = X.pop(\"Expensive\")"
   ]
  },
  {
   "cell_type": "markdown",
   "metadata": {
    "id": "9kP78izKvu5Y"
   },
   "source": [
    "### 1.2. Feature Selection: keeping only numerical features\n",
    "\n",
    "Scikit-Learn models cannot deal with categorical features"
   ]
  },
  {
   "cell_type": "code",
   "execution_count": 17,
   "metadata": {
    "id": "JgVzbmBGvu5Z"
   },
   "outputs": [
    {
     "data": {
      "text/plain": [
       "(1460, 9)"
      ]
     },
     "execution_count": 17,
     "metadata": {},
     "output_type": "execute_result"
    }
   ],
   "source": [
    "X_num = X.select_dtypes(include=\"number\")\n",
    "X.shape"
   ]
  },
  {
   "cell_type": "markdown",
   "metadata": {
    "id": "IDfzSb5hvu5Z"
   },
   "source": [
    "### 1.3. Data splitting"
   ]
  },
  {
   "cell_type": "code",
   "execution_count": 18,
   "metadata": {
    "id": "ul_C6DXMvu5a"
   },
   "outputs": [],
   "source": [
    "from sklearn.model_selection import train_test_split\n",
    "\n",
    "X_num_train, X_num_test, y_train, y_test = train_test_split(X_num, \n",
    "                                                            y, \n",
    "                                                            test_size=0.2, \n",
    "                                                            random_state=31416)"
   ]
  },
  {
   "cell_type": "markdown",
   "metadata": {
    "id": "x9RPgKLhvu5b"
   },
   "source": [
    "### 1.4. Imputing missing values\n",
    "\n",
    "(Fit on train, transform train & test)"
   ]
  },
  {
   "cell_type": "code",
   "execution_count": 19,
   "metadata": {
    "id": "a6KZkxN3vu5b"
   },
   "outputs": [],
   "source": [
    "from sklearn.impute import SimpleImputer\n",
    "\n",
    "my_imputer = SimpleImputer() # initialize\n",
    "my_imputer.fit(X_num_train) # fit on the train set\n",
    "X_num_imputed_train = my_imputer.transform(X_num_train) # transform the train set\n",
    "X_num_imputed_test = my_imputer.transform(X_num_test) # transform the test set"
   ]
  },
  {
   "cell_type": "markdown",
   "metadata": {
    "id": "g0QFXBvGvu5c"
   },
   "source": [
    "### 1.5. Modelling: Decision Tree\n",
    "\n",
    "https://scikit-learn.org/stable/modules/generated/sklearn.tree.DecisionTreeClassifier.html"
   ]
  },
  {
   "cell_type": "code",
   "execution_count": 39,
   "metadata": {
    "colab": {
     "base_uri": "https://localhost:8080/"
    },
    "id": "oZmmxJ63vu5d",
    "outputId": "2761c069-eb00-406e-94d6-9bb50dcef4cf"
   },
   "outputs": [
    {
     "data": {
      "text/plain": [
       "DecisionTreeClassifier(max_depth=5, min_samples_leaf=12)"
      ]
     },
     "execution_count": 39,
     "metadata": {},
     "output_type": "execute_result"
    }
   ],
   "source": [
    "# 1. import the model\n",
    "from sklearn.tree import DecisionTreeClassifier \n",
    "\n",
    "# 2. initialize the model\n",
    "my_tree = DecisionTreeClassifier(max_depth=5,\n",
    "                                 min_samples_leaf=12\n",
    "                                )\n",
    "\n",
    "# 3. fit the model to the train data\n",
    "my_tree.fit(X = X_num_imputed_train, \n",
    "            y = y_train)"
   ]
  },
  {
   "cell_type": "markdown",
   "metadata": {
    "id": "mySTGdw_vu5d"
   },
   "source": [
    "### 1.6. Check accuracy on the train set"
   ]
  },
  {
   "cell_type": "code",
   "execution_count": 43,
   "metadata": {
    "colab": {
     "base_uri": "https://localhost:8080/"
    },
    "id": "kfa0Aoi6vu5e",
    "outputId": "b7800539-abc9-457d-f478-9b8fde7087a2"
   },
   "outputs": [
    {
     "data": {
      "text/plain": [
       "0.931"
      ]
     },
     "execution_count": 43,
     "metadata": {},
     "output_type": "execute_result"
    }
   ],
   "source": [
    "from sklearn.metrics import accuracy_score\n",
    "\n",
    "y_pred_tree_train = my_tree.predict(X_num_imputed_train)\n",
    "\n",
    "train_accuracy= accuracy_score(y_true = y_train,\n",
    "               y_pred = y_pred_tree_train)\n",
    "\n",
    "round(train_accuracy, 3)"
   ]
  },
  {
   "cell_type": "markdown",
   "metadata": {
    "id": "uAUerP3Gvu5e"
   },
   "source": [
    "### 1.7. Check accuracy on the test set"
   ]
  },
  {
   "cell_type": "code",
   "execution_count": 42,
   "metadata": {
    "colab": {
     "base_uri": "https://localhost:8080/"
    },
    "id": "P3DZqJnnvu5e",
    "outputId": "ad3673d1-4051-4c4b-a590-6499621d00c9"
   },
   "outputs": [
    {
     "data": {
      "text/plain": [
       "0.932"
      ]
     },
     "execution_count": 42,
     "metadata": {},
     "output_type": "execute_result"
    }
   ],
   "source": [
    "y_pred_tree_test = my_tree.predict(X_num_imputed_test)\n",
    "\n",
    "test_accuracy= accuracy_score(y_true = y_test,\n",
    "               y_pred = y_pred_tree_test)\n",
    "\n",
    "round(test_accuracy, 3)"
   ]
  },
  {
   "cell_type": "markdown",
   "metadata": {
    "id": "Rm08l1JBvu5h"
   },
   "source": [
    "## 2. Creating a Pipeline\n",
    "\n",
    "Before moving forward in our quest to improve the model, take a moment to learn how to use Scikit-Learn Pipelines. They will not increase your performance, but they are a necessary tool to compress all the steps in the data preparation + modelling phases into a single one, and this will become very relevant as we move forward and keep adding new steps:\n",
    "\n",
    "* Read the lesson \"Scikit-Learn Pipelines\" on the platform.\n",
    "\n",
    "* Check the docs: https://scikit-learn.org/stable/modules/generated/sklearn.pipeline.make_pipeline.html"
   ]
  },
  {
   "cell_type": "code",
   "execution_count": 44,
   "metadata": {
    "colab": {
     "base_uri": "https://localhost:8080/"
    },
    "id": "kdkaTOjYvu5h",
    "outputId": "b7bb6e0f-683f-4d92-cd7c-a857e7a67729"
   },
   "outputs": [
    {
     "data": {
      "text/plain": [
       "array([0, 0, 0, 0, 0, 0, 0, 0, 0, 0, 0, 0, 0, 0, 0, 0, 0, 1, 0, 0, 0, 0,\n",
       "       0, 0, 0, 1, 0, 0, 0, 0, 0, 0, 1, 0, 0, 0, 1, 0, 0, 0, 0, 0, 0, 0,\n",
       "       0, 1, 0, 0, 0, 0, 0, 0, 0, 0, 1, 0, 0, 0, 0, 0, 1, 0, 1, 0, 1, 1,\n",
       "       0, 0, 0, 0, 0, 0, 0, 0, 0, 0, 0, 0, 0, 0, 0, 0, 0, 0, 0, 1, 0, 1,\n",
       "       0, 0, 0, 1, 0, 0, 1, 0, 0, 0, 0, 0, 0, 0, 0, 0, 0, 0, 0, 1, 1, 0,\n",
       "       0, 0, 0, 0, 0, 0, 1, 0, 0, 0, 1, 0, 0, 0, 0, 0, 0, 0, 0, 0, 0, 0,\n",
       "       0, 0, 1, 0, 0, 0, 0, 0, 0, 0, 0, 0, 1, 0, 0, 0, 0, 0, 0, 0, 0, 0,\n",
       "       1, 0, 0, 0, 0, 0, 0, 0, 0, 0, 0, 0, 0, 0, 0, 1, 0, 0, 0, 0, 0, 1,\n",
       "       0, 0, 0, 1, 0, 0, 0, 0, 0, 0, 0, 0, 0, 0, 0, 0, 0, 0, 0, 0, 0, 0,\n",
       "       1, 1, 0, 0, 0, 1, 0, 1, 0, 0, 0, 0, 0, 0, 1, 0, 0, 0, 0, 0, 0, 0,\n",
       "       0, 0, 0, 0, 0, 0, 0, 0, 0, 0, 0, 0, 0, 0, 0, 0, 0, 0, 0, 0, 0, 0,\n",
       "       0, 0, 0, 0, 0, 0, 0, 0, 1, 0, 0, 0, 1, 0, 1, 0, 1, 0, 0, 0, 0, 0,\n",
       "       0, 0, 0, 0, 0, 0, 1, 1, 0, 0, 0, 1, 0, 0, 0, 0, 0, 0, 0, 0, 0, 0,\n",
       "       0, 0, 0, 0, 0, 0], dtype=int64)"
      ]
     },
     "execution_count": 44,
     "metadata": {},
     "output_type": "execute_result"
    }
   ],
   "source": [
    "from sklearn.impute import SimpleImputer\n",
    "from sklearn.tree import DecisionTreeClassifier\n",
    "from sklearn.pipeline import make_pipeline\n",
    "\n",
    "# 1. initialize transformers &amp; model\n",
    "imputer = SimpleImputer(strategy=\"median\")\n",
    "dtree = DecisionTreeClassifier(max_depth=5,\n",
    "                               min_samples_leaf=12)\n",
    " \n",
    "# 2. Create a pipeline*\n",
    "pipe = make_pipeline(imputer, dtree)\n",
    " \n",
    "# 3. Fit the pipeline to the training data\n",
    "pipe.fit(X_num_train, y_train)\n",
    " \n",
    "# 4. Use the pipeline to make predictions\n",
    "pipe.predict(X_num_test)"
   ]
  },
  {
   "cell_type": "markdown",
   "metadata": {
    "id": "oXN7nfdoa6IT"
   },
   "source": [
    "Now, the object `pipie` can take (almost) raw data as input and output predictions. We no longer need to impute missing values and use the model to make predictions in separate steps."
   ]
  },
  {
   "cell_type": "markdown",
   "metadata": {
    "id": "EuOESLyyvu5i"
   },
   "source": [
    "## 3. Using GridsearchCV to find the best parameters\n",
    "\n",
    "So far, we tuned the hyperparameters of the decision tree manually. This is not ideal, for two reasons:\n",
    "\n",
    "- It's not efficient in terms of quickly finding the best combination of parameters.\n",
    "- If we keep checking the performance on the test set over and over again, we might end up creating a model that fits that particular test set, but does not generalize as well with new data. Test sets are meant to reamain unseen until the very last moment of ML development —we have been cheating a bit!\n",
    "\n",
    "Grid Search Cross Validation solves both issues:\n",
    "\n",
    "* Read the lesson \"Housing Prices: Iteration 2, Grid Search & Cross Validation\" on the platform.\n",
    "\n",
    "* Check the docs: https://scikit-learn.org/stable/modules/generated/sklearn.model_selection.GridSearchCV.html"
   ]
  },
  {
   "cell_type": "code",
   "execution_count": 25,
   "metadata": {
    "id": "W7awfF-qvu5i"
   },
   "outputs": [],
   "source": [
    "# 1. initialize transformers &amp; model\n",
    "imputer = SimpleImputer()\n",
    "dtree = DecisionTreeClassifier()\n",
    " \n",
    "# 2. Create a pipeline*\n",
    "pipe = make_pipeline(imputer, dtree)\n",
    "\n",
    "param_grid = {\n",
    "    'decisiontreeclassifier__max_depth': range(2, 12),\n",
    "    'decisiontreeclassifier__min_samples_leaf': range(3, 10, 2),\n",
    "    'decisiontreeclassifier__min_samples_split': range(3, 40, 5),\n",
    "    'decisiontreeclassifier__criterion':['gini', 'entropy']\n",
    "    }\n",
    "    \n",
    "from sklearn.model_selection import GridSearchCV\n",
    " \n",
    "search = GridSearchCV(pipe, # you have defined this beforehand\n",
    "                      param_grid, # your parameter grid\n",
    "                      cv=5, # the value for K in K-fold Cross Validation\n",
    "                      scoring='accuracy', # the performance metric to use, \n",
    "                      verbose=1) # we want informative outputs during the training process"
   ]
  },
  {
   "cell_type": "code",
   "execution_count": 26,
   "metadata": {
    "id": "aHJ_JHWEvu5i"
   },
   "outputs": [
    {
     "name": "stdout",
     "output_type": "stream",
     "text": [
      "Fitting 5 folds for each of 640 candidates, totalling 3200 fits\n"
     ]
    },
    {
     "data": {
      "text/plain": [
       "GridSearchCV(cv=5,\n",
       "             estimator=Pipeline(steps=[('simpleimputer', SimpleImputer()),\n",
       "                                       ('decisiontreeclassifier',\n",
       "                                        DecisionTreeClassifier())]),\n",
       "             param_grid={'decisiontreeclassifier__criterion': ['gini',\n",
       "                                                               'entropy'],\n",
       "                         'decisiontreeclassifier__max_depth': range(2, 12),\n",
       "                         'decisiontreeclassifier__min_samples_leaf': range(3, 10, 2),\n",
       "                         'decisiontreeclassifier__min_samples_split': range(3, 40, 5)},\n",
       "             scoring='accuracy', verbose=1)"
      ]
     },
     "execution_count": 26,
     "metadata": {},
     "output_type": "execute_result"
    }
   ],
   "source": [
    "search.fit(X_num_imputed_train, y_train)"
   ]
  },
  {
   "cell_type": "code",
   "execution_count": 45,
   "metadata": {
    "id": "UhJHlajCvu5i"
   },
   "outputs": [
    {
     "data": {
      "text/plain": [
       "{'decisiontreeclassifier__criterion': 'gini',\n",
       " 'decisiontreeclassifier__max_depth': 5,\n",
       " 'decisiontreeclassifier__min_samples_leaf': 5,\n",
       " 'decisiontreeclassifier__min_samples_split': 38}"
      ]
     },
     "execution_count": 45,
     "metadata": {},
     "output_type": "execute_result"
    }
   ],
   "source": [
    "search.best_params_"
   ]
  },
  {
   "cell_type": "code",
   "execution_count": 46,
   "metadata": {
    "id": "UzXybXmDvu5i"
   },
   "outputs": [
    {
     "data": {
      "text/plain": [
       "0.9280950808847805"
      ]
     },
     "execution_count": 46,
     "metadata": {},
     "output_type": "execute_result"
    }
   ],
   "source": [
    "search.best_score_"
   ]
  },
  {
   "cell_type": "code",
   "execution_count": 69,
   "metadata": {},
   "outputs": [
    {
     "data": {
      "text/plain": [
       "DecisionTreeClassifier(max_depth=5, min_samples_leaf=5)"
      ]
     },
     "execution_count": 69,
     "metadata": {},
     "output_type": "execute_result"
    }
   ],
   "source": [
    "# 1. import the model\n",
    "from sklearn.tree import DecisionTreeClassifier \n",
    "\n",
    "# 2. initialize the model\n",
    "my_tree = DecisionTreeClassifier(max_depth=5,\n",
    "                                 min_samples_leaf=5\n",
    "                                )\n",
    "\n",
    "# 3. fit the model to the train data\n",
    "my_tree.fit(X = X_num_imputed_train, \n",
    "            y = y_train)"
   ]
  },
  {
   "cell_type": "code",
   "execution_count": 70,
   "metadata": {},
   "outputs": [
    {
     "data": {
      "text/plain": [
       "0.94"
      ]
     },
     "execution_count": 70,
     "metadata": {},
     "output_type": "execute_result"
    }
   ],
   "source": [
    "from sklearn.metrics import accuracy_score\n",
    "\n",
    "y_pred_tree_train = my_tree.predict(X_num_imputed_train)\n",
    "\n",
    "train_accuracy= accuracy_score(y_true = y_train,\n",
    "               y_pred = y_pred_tree_train)\n",
    "\n",
    "round(train_accuracy,2)"
   ]
  },
  {
   "cell_type": "code",
   "execution_count": 71,
   "metadata": {},
   "outputs": [
    {
     "data": {
      "text/plain": [
       "0.93"
      ]
     },
     "execution_count": 71,
     "metadata": {},
     "output_type": "execute_result"
    }
   ],
   "source": [
    "from sklearn.metrics import accuracy_score\n",
    "\n",
    "y_pred_tree_test = my_tree.predict(X_num_imputed_test)\n",
    "\n",
    "test_accuracy= accuracy_score(y_true = y_test,\n",
    "               y_pred = y_pred_tree_test)\n",
    "\n",
    "round(test_accuracy,2)"
   ]
  },
  {
   "cell_type": "markdown",
   "metadata": {},
   "source": [
    "## confusion_matrix"
   ]
  },
  {
   "cell_type": "code",
   "execution_count": 54,
   "metadata": {},
   "outputs": [
    {
     "data": {
      "text/plain": [
       "array([[247,   7],\n",
       "       [ 17,  21]], dtype=int64)"
      ]
     },
     "execution_count": 54,
     "metadata": {},
     "output_type": "execute_result"
    }
   ],
   "source": [
    "#sklearn.metrics.confusion_matrix(y_true, y_pred, *, labels=None,sample_weight=None, normalize=None)\n",
    "from sklearn.metrics import confusion_matrix\n",
    "\n",
    "confusion_matrix= confusion_matrix(y_test, y_pred_tree_test, labels=None, sample_weight=None, normalize=None)\n",
    "confusion_matrix"
   ]
  },
  {
   "cell_type": "code",
   "execution_count": 55,
   "metadata": {},
   "outputs": [],
   "source": [
    "#sklearn.metrics.recall_score(y_true, y_pred, *, labels=None, pos_label=1, average='binary', sample_weight=None, zero_division='warn')[source]¶"
   ]
  },
  {
   "cell_type": "code",
   "execution_count": 56,
   "metadata": {},
   "outputs": [
    {
     "data": {
      "text/plain": [
       "'              precision    recall  f1-score   support\\n\\n           0       0.94      0.97      0.95       254\\n           1       0.75      0.55      0.64        38\\n\\n    accuracy                           0.92       292\\n   macro avg       0.84      0.76      0.80       292\\nweighted avg       0.91      0.92      0.91       292\\n'"
      ]
     },
     "execution_count": 56,
     "metadata": {},
     "output_type": "execute_result"
    }
   ],
   "source": [
    "from sklearn.metrics import classification_report\n",
    "\n",
    "classification_report(y_test, y_pred_tree_test,labels=None, target_names=None, sample_weight=None, digits=2, output_dict=False, zero_division='warn')"
   ]
  },
  {
   "cell_type": "code",
   "execution_count": 57,
   "metadata": {},
   "outputs": [
    {
     "name": "stdout",
     "output_type": "stream",
     "text": [
      "              precision    recall  f1-score   support\n",
      "\n",
      "           0       0.94      0.97      0.95       254\n",
      "           1       0.75      0.55      0.64        38\n",
      "\n",
      "    accuracy                           0.92       292\n",
      "   macro avg       0.84      0.76      0.80       292\n",
      "weighted avg       0.91      0.92      0.91       292\n",
      "\n"
     ]
    }
   ],
   "source": [
    "print(classification_report(y_test, y_pred_tree_test))"
   ]
  },
  {
   "cell_type": "code",
   "execution_count": 62,
   "metadata": {},
   "outputs": [
    {
     "data": {
      "image/png": "[encoded data removed]",
      "text/plain": [
       "<Figure size 432x288 with 2 Axes>"
      ]
     },
     "metadata": {
      "needs_background": "light"
     },
     "output_type": "display_data"
    }
   ],
   "source": [
    "from sklearn.metrics import ConfusionMatrixDisplay\n",
    "import matplotlib.pyplot as plt\n",
    "\n",
    "display= ConfusionMatrixDisplay(confusion_matrix,display_labels=['Expensive','cheap'])\n",
    "display.plot()\n",
    "plt.show()"
   ]
  },
  {
   "cell_type": "code",
   "execution_count": 68,
   "metadata": {
    "tags": []
   },
   "outputs": [],
   "source": [
    "from sklearn.metrics import cohen_kappa_score\n",
    "\n",
    "#cohen_kappa_score('y_test', 'y_pred_tree_test', labels=None, weights=None, sample_weight=None)\n"
   ]
  },
  {
   "cell_type": "code",
   "execution_count": null,
   "metadata": {},
   "outputs": [],
   "source": []
  }
 ],
 "metadata": {
  "colab": {
   "collapsed_sections": [],
   "name": "Housing_data_pipeline-gridsearchCV-structure_s.ipynb",
   "provenance": []
  },
  "kernelspec": {
   "display_name": "Python 3 (ipykernel)",
   "language": "python",
   "name": "python3"
  },
  "language_info": {
   "codemirror_mode": {
    "name": "ipython",
    "version": 3
   },
   "file_extension": ".py",
   "mimetype": "text/x-python",
   "name": "python",
   "nbconvert_exporter": "python",
   "pygments_lexer": "ipython3",
   "version": "3.9.7"
  }
 },
 "nbformat": 4,
 "nbformat_minor": 4
}
