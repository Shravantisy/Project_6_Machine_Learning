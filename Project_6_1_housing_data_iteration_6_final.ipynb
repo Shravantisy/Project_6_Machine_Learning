{
  "nbformat": 4,
  "nbformat_minor": 0,
  "metadata": {
    "colab": {
      "name": "Project_6_housing_data_iteration_6_final.ipynb",
      "provenance": [],
      "collapsed_sections": []
    },
    "kernelspec": {
      "name": "python3",
      "display_name": "Python 3"
    },
    "language_info": {
      "name": "python"
    }
  },
  "cells": [
    {
      "cell_type": "markdown",
      "source": [
        "## 1. Data reading & first glance"
      ],
      "metadata": {
        "id": "wx9V_VQUx9pV"
      }
    },
    {
      "cell_type": "markdown",
      "source": [
        "**Challenge overview**\n",
        "\n",
        "You were tasked with creating a model that predicts the price of a house based on its characteristics. \n",
        "\n",
        "The project will be divided into two major phases:\n",
        "* Create a model to predict whether a house is expensive or not. \n",
        "* Create a model to predict the exact price of a house.\n"
      ],
      "metadata": {
        "id": "LURYUpAnx9Xa"
      }
    },
    {
      "cell_type": "code",
      "execution_count": 769,
      "metadata": {
        "id": "WdxV_p92xNQJ",
        "colab": {
          "base_uri": "https://localhost:8080/"
        },
        "outputId": "20960273-e9b2-4ee5-afaf-857f94643e4c"
      },
      "outputs": [
        {
          "output_type": "execute_result",
          "data": {
            "text/plain": [
              "(1460, 81)"
            ]
          },
          "metadata": {},
          "execution_count": 769
        }
      ],
      "source": [
        "import pandas as pd\n",
        "from sklearn.model_selection import train_test_split\n",
        "from sklearn.impute import SimpleImputer\n",
        "from sklearn.tree import DecisionTreeClassifier\n",
        "from sklearn.metrics import accuracy_score\n",
        "from sklearn.pipeline import make_pipeline\n",
        "from sklearn.preprocessing import OneHotEncoder\n",
        "from sklearn.preprocessing import StandardScaler\n",
        "\n",
        "\n",
        "# reading\n",
        "data =df = pd.read_csv(\"/content/drive/MyDrive/Colab Notebooks/housing-classification-iter6.csv\") #reading data from csv\n",
        "data.shape\n"
      ]
    },
    {
      "cell_type": "markdown",
      "source": [
        "The target column (what we want our model to predict) is usually denoted as y. We will \"pop\" it out from the rest of the data:\n"
      ],
      "metadata": {
        "id": "Uuxsita4ydV6"
      }
    },
    {
      "cell_type": "code",
      "source": [
        "# X and y creation\n",
        "X = data\n",
        "y = X.pop(\"Expensive\")\n"
      ],
      "metadata": {
        "id": "tMecUc6pxsaC"
      },
      "execution_count": 770,
      "outputs": []
    },
    {
      "cell_type": "markdown",
      "source": [
        "## 2. Train-test split\n",
        "\n",
        "Before performing a deeper exploration, we will split the dataset into 2 chunks: train and test. We will use the train set to find patterns in the data and create a model. The test set will remain untouched, unseen, unexplored. It will be the \"reality check\" for our model, it will let us know whether our model is able to generalize. \n",
        "\n",
        "Here, we're using the function `train_test_split` to shuffle the observations randomly and create the train and test sets for both the `X` and the `y` objects at the same time, ensuring that they are shuffled the same way:\n"
      ],
      "metadata": {
        "id": "dzjQiPOAy2bm"
      }
    },
    {
      "cell_type": "code",
      "source": [
        "# data splitting\n",
        "X_train, X_test, y_train, y_test = train_test_split(X, y, test_size=0.2, random_state=123000)"
      ],
      "metadata": {
        "id": "vEKdY26Hxsc-"
      },
      "execution_count": 771,
      "outputs": []
    },
    {
      "cell_type": "markdown",
      "metadata": {
        "id": "DtwPZWL2XmR8"
      },
      "source": [
        "## 3. Categorical encoding - \"Automated\" approach (Using Pipelines)\n",
        "\n",
        "In the manual approach, to encode the categorical columns numericall, we have:\n",
        "\n",
        "1. Selected the categorical columns.\n",
        "2. Fitted a `OneHotEncoder` to them.\n",
        "3. Transformed the categorical columns with the encoder.\n",
        "4. Converted the sparse matrix into a dataframe.\n",
        "5. Recovered the names of the columns.\n",
        "6. Concatenated the one-hot columns with the numerical columns.\n",
        "\n",
        "All these steps can be synthetised by using Scikit-Learn Pipelines and specifically something called `ColumnTransformer`, which allows us to apply different transformations to two or more groups of columns: in our case, categorical and numerical columns.\n",
        "\n",
        "This process is also called creating \"branches\" in the pipeline. One branch for the categorical columns and another for the numerical columns. Each branch will contain as many transformers as we want. Then, the branches will meet again, and the transformed columns will be automatically concatenated. Let's see the process in action:"
      ]
    },
    {
      "cell_type": "markdown",
      "source": [
        "### 3.1. Creating the \"numeric pipe\" and the \"categoric pipe\""
      ],
      "metadata": {
        "id": "4070uJkFddR1"
      }
    },
    {
      "cell_type": "code",
      "execution_count": 772,
      "metadata": {
        "id": "uPCtdcS3XmR8"
      },
      "outputs": [],
      "source": [
        "# select categorical and numerical column names\n",
        "X_cat_columns = X.select_dtypes(exclude=\"number\").copy().columns\n",
        "X_num_columns = X.select_dtypes(include=\"number\").copy().columns\n",
        "\n",
        "# create numerical pipeline, only with the SimpleImputer(strategy=\"mean\")\n",
        "numeric_pipe = make_pipeline(\n",
        "    SimpleImputer(strategy=\"median\"))\n",
        " \n",
        " # create categorical pipeline, with the SimpleImputer(fill_value=\"N_A\") and the OneHotEncoder\n",
        "categoric_pipe = make_pipeline(\n",
        "    SimpleImputer(strategy=\"most_frequent\"), # strategy=\"constant\", fill_value=\"N_A\"\n",
        "    OneHotEncoder(handle_unknown = 'ignore')\n",
        ")"
      ]
    },
    {
      "cell_type": "code",
      "source": [
        "# display pipeline\n",
        "from sklearn import set_config\n",
        "set_config(display = 'diagram')"
      ],
      "metadata": {
        "id": "apF2Daoj7ely"
      },
      "execution_count": 773,
      "outputs": []
    },
    {
      "cell_type": "markdown",
      "source": [
        "### 3.2. Using `ColumnTransformer` a pipeline with 2 branches (the `preprocessor`) \n",
        "\n",
        "We simply tell the pipeline the following:\n",
        "\n",
        "- One branch, called `\"num_pipe\"`, will apply the steps in the `numeric_pipe` to the columns named in `X_num_columns`\n",
        "- The second branch, called `\"cat_pipe\"`, will apply the steps in the `categoric_pipe` to the columns named in `X_cat_columns`"
      ],
      "metadata": {
        "id": "9zAvtEfDd7Mq"
      }
    },
    {
      "cell_type": "code",
      "execution_count": 774,
      "metadata": {
        "id": "PzGGtn1fXmR9",
        "colab": {
          "base_uri": "https://localhost:8080/",
          "height": 152
        },
        "outputId": "661c0b37-84b3-4ba3-ab18-aa7b91667ef4"
      },
      "outputs": [
        {
          "output_type": "execute_result",
          "data": {
            "text/plain": [
              "ColumnTransformer(transformers=[('num_pipe',\n",
              "                                 Pipeline(steps=[('simpleimputer',\n",
              "                                                  SimpleImputer(strategy='median'))]),\n",
              "                                 Index(['LotArea', 'LotFrontage', 'TotalBsmtSF', 'BedroomAbvGr', 'Fireplaces',\n",
              "       'PoolArea', 'GarageCars', 'WoodDeckSF', 'ScreenPorch', 'MSSubClass',\n",
              "       'OverallQual', 'OverallCond', 'YearBuilt', 'YearRemodAdd', 'MasVnrArea',\n",
              "       'BsmtFinSF1', 'BsmtFinSF2', 'BsmtU...\n",
              "       'LotShape', 'LandContour', 'Utilities', 'LotConfig', 'LandSlope',\n",
              "       'Neighborhood', 'Condition2', 'BldgType', 'HouseStyle', 'RoofStyle',\n",
              "       'RoofMatl', 'Exterior1st', 'Exterior2nd', 'MasVnrType', 'BsmtFinType2',\n",
              "       'HeatingQC', 'Electrical', 'Functional', 'GarageType', 'GarageFinish',\n",
              "       'GarageQual', 'GarageCond', 'PavedDrive', 'PoolQC', 'Fence',\n",
              "       'MiscFeature', 'SaleType', 'SaleCondition'],\n",
              "      dtype='object'))])"
            ],
            "text/html": [
              "<style>#sk-0f51bd5c-0178-42e4-969d-2db7b810ca33 {color: black;background-color: white;}#sk-0f51bd5c-0178-42e4-969d-2db7b810ca33 pre{padding: 0;}#sk-0f51bd5c-0178-42e4-969d-2db7b810ca33 div.sk-toggleable {background-color: white;}#sk-0f51bd5c-0178-42e4-969d-2db7b810ca33 label.sk-toggleable__label {cursor: pointer;display: block;width: 100%;margin-bottom: 0;padding: 0.3em;box-sizing: border-box;text-align: center;}#sk-0f51bd5c-0178-42e4-969d-2db7b810ca33 label.sk-toggleable__label-arrow:before {content: \"▸\";float: left;margin-right: 0.25em;color: #696969;}#sk-0f51bd5c-0178-42e4-969d-2db7b810ca33 label.sk-toggleable__label-arrow:hover:before {color: black;}#sk-0f51bd5c-0178-42e4-969d-2db7b810ca33 div.sk-estimator:hover label.sk-toggleable__label-arrow:before {color: black;}#sk-0f51bd5c-0178-42e4-969d-2db7b810ca33 div.sk-toggleable__content {max-height: 0;max-width: 0;overflow: hidden;text-align: left;background-color: #f0f8ff;}#sk-0f51bd5c-0178-42e4-969d-2db7b810ca33 div.sk-toggleable__content pre {margin: 0.2em;color: black;border-radius: 0.25em;background-color: #f0f8ff;}#sk-0f51bd5c-0178-42e4-969d-2db7b810ca33 input.sk-toggleable__control:checked~div.sk-toggleable__content {max-height: 200px;max-width: 100%;overflow: auto;}#sk-0f51bd5c-0178-42e4-969d-2db7b810ca33 input.sk-toggleable__control:checked~label.sk-toggleable__label-arrow:before {content: \"▾\";}#sk-0f51bd5c-0178-42e4-969d-2db7b810ca33 div.sk-estimator input.sk-toggleable__control:checked~label.sk-toggleable__label {background-color: #d4ebff;}#sk-0f51bd5c-0178-42e4-969d-2db7b810ca33 div.sk-label input.sk-toggleable__control:checked~label.sk-toggleable__label {background-color: #d4ebff;}#sk-0f51bd5c-0178-42e4-969d-2db7b810ca33 input.sk-hidden--visually {border: 0;clip: rect(1px 1px 1px 1px);clip: rect(1px, 1px, 1px, 1px);height: 1px;margin: -1px;overflow: hidden;padding: 0;position: absolute;width: 1px;}#sk-0f51bd5c-0178-42e4-969d-2db7b810ca33 div.sk-estimator {font-family: monospace;background-color: #f0f8ff;border: 1px dotted black;border-radius: 0.25em;box-sizing: border-box;margin-bottom: 0.5em;}#sk-0f51bd5c-0178-42e4-969d-2db7b810ca33 div.sk-estimator:hover {background-color: #d4ebff;}#sk-0f51bd5c-0178-42e4-969d-2db7b810ca33 div.sk-parallel-item::after {content: \"\";width: 100%;border-bottom: 1px solid gray;flex-grow: 1;}#sk-0f51bd5c-0178-42e4-969d-2db7b810ca33 div.sk-label:hover label.sk-toggleable__label {background-color: #d4ebff;}#sk-0f51bd5c-0178-42e4-969d-2db7b810ca33 div.sk-serial::before {content: \"\";position: absolute;border-left: 1px solid gray;box-sizing: border-box;top: 2em;bottom: 0;left: 50%;}#sk-0f51bd5c-0178-42e4-969d-2db7b810ca33 div.sk-serial {display: flex;flex-direction: column;align-items: center;background-color: white;padding-right: 0.2em;padding-left: 0.2em;}#sk-0f51bd5c-0178-42e4-969d-2db7b810ca33 div.sk-item {z-index: 1;}#sk-0f51bd5c-0178-42e4-969d-2db7b810ca33 div.sk-parallel {display: flex;align-items: stretch;justify-content: center;background-color: white;}#sk-0f51bd5c-0178-42e4-969d-2db7b810ca33 div.sk-parallel::before {content: \"\";position: absolute;border-left: 1px solid gray;box-sizing: border-box;top: 2em;bottom: 0;left: 50%;}#sk-0f51bd5c-0178-42e4-969d-2db7b810ca33 div.sk-parallel-item {display: flex;flex-direction: column;position: relative;background-color: white;}#sk-0f51bd5c-0178-42e4-969d-2db7b810ca33 div.sk-parallel-item:first-child::after {align-self: flex-end;width: 50%;}#sk-0f51bd5c-0178-42e4-969d-2db7b810ca33 div.sk-parallel-item:last-child::after {align-self: flex-start;width: 50%;}#sk-0f51bd5c-0178-42e4-969d-2db7b810ca33 div.sk-parallel-item:only-child::after {width: 0;}#sk-0f51bd5c-0178-42e4-969d-2db7b810ca33 div.sk-dashed-wrapped {border: 1px dashed gray;margin: 0 0.4em 0.5em 0.4em;box-sizing: border-box;padding-bottom: 0.4em;background-color: white;position: relative;}#sk-0f51bd5c-0178-42e4-969d-2db7b810ca33 div.sk-label label {font-family: monospace;font-weight: bold;background-color: white;display: inline-block;line-height: 1.2em;}#sk-0f51bd5c-0178-42e4-969d-2db7b810ca33 div.sk-label-container {position: relative;z-index: 2;text-align: center;}#sk-0f51bd5c-0178-42e4-969d-2db7b810ca33 div.sk-container {/* jupyter's `normalize.less` sets `[hidden] { display: none; }` but bootstrap.min.css set `[hidden] { display: none !important; }` so we also need the `!important` here to be able to override the default hidden behavior on the sphinx rendered scikit-learn.org. See: https://github.com/scikit-learn/scikit-learn/issues/21755 */display: inline-block !important;position: relative;}#sk-0f51bd5c-0178-42e4-969d-2db7b810ca33 div.sk-text-repr-fallback {display: none;}</style><div id=\"sk-0f51bd5c-0178-42e4-969d-2db7b810ca33\" class=\"sk-top-container\"><div class=\"sk-text-repr-fallback\"><pre>ColumnTransformer(transformers=[(&#x27;num_pipe&#x27;,\n",
              "                                 Pipeline(steps=[(&#x27;simpleimputer&#x27;,\n",
              "                                                  SimpleImputer(strategy=&#x27;median&#x27;))]),\n",
              "                                 Index([&#x27;LotArea&#x27;, &#x27;LotFrontage&#x27;, &#x27;TotalBsmtSF&#x27;, &#x27;BedroomAbvGr&#x27;, &#x27;Fireplaces&#x27;,\n",
              "       &#x27;PoolArea&#x27;, &#x27;GarageCars&#x27;, &#x27;WoodDeckSF&#x27;, &#x27;ScreenPorch&#x27;, &#x27;MSSubClass&#x27;,\n",
              "       &#x27;OverallQual&#x27;, &#x27;OverallCond&#x27;, &#x27;YearBuilt&#x27;, &#x27;YearRemodAdd&#x27;, &#x27;MasVnrArea&#x27;,\n",
              "       &#x27;BsmtFinSF1&#x27;, &#x27;BsmtFinSF2&#x27;, &#x27;BsmtU...\n",
              "       &#x27;LotShape&#x27;, &#x27;LandContour&#x27;, &#x27;Utilities&#x27;, &#x27;LotConfig&#x27;, &#x27;LandSlope&#x27;,\n",
              "       &#x27;Neighborhood&#x27;, &#x27;Condition2&#x27;, &#x27;BldgType&#x27;, &#x27;HouseStyle&#x27;, &#x27;RoofStyle&#x27;,\n",
              "       &#x27;RoofMatl&#x27;, &#x27;Exterior1st&#x27;, &#x27;Exterior2nd&#x27;, &#x27;MasVnrType&#x27;, &#x27;BsmtFinType2&#x27;,\n",
              "       &#x27;HeatingQC&#x27;, &#x27;Electrical&#x27;, &#x27;Functional&#x27;, &#x27;GarageType&#x27;, &#x27;GarageFinish&#x27;,\n",
              "       &#x27;GarageQual&#x27;, &#x27;GarageCond&#x27;, &#x27;PavedDrive&#x27;, &#x27;PoolQC&#x27;, &#x27;Fence&#x27;,\n",
              "       &#x27;MiscFeature&#x27;, &#x27;SaleType&#x27;, &#x27;SaleCondition&#x27;],\n",
              "      dtype=&#x27;object&#x27;))])</pre><b>Please rerun this cell to show the HTML repr or trust the notebook.</b></div><div class=\"sk-container\" hidden><div class=\"sk-item sk-dashed-wrapped\"><div class=\"sk-label-container\"><div class=\"sk-label sk-toggleable\"><input class=\"sk-toggleable__control sk-hidden--visually\" id=\"820e773c-0d59-41e4-a734-721003ef3c7e\" type=\"checkbox\" ><label for=\"820e773c-0d59-41e4-a734-721003ef3c7e\" class=\"sk-toggleable__label sk-toggleable__label-arrow\">ColumnTransformer</label><div class=\"sk-toggleable__content\"><pre>ColumnTransformer(transformers=[(&#x27;num_pipe&#x27;,\n",
              "                                 Pipeline(steps=[(&#x27;simpleimputer&#x27;,\n",
              "                                                  SimpleImputer(strategy=&#x27;median&#x27;))]),\n",
              "                                 Index([&#x27;LotArea&#x27;, &#x27;LotFrontage&#x27;, &#x27;TotalBsmtSF&#x27;, &#x27;BedroomAbvGr&#x27;, &#x27;Fireplaces&#x27;,\n",
              "       &#x27;PoolArea&#x27;, &#x27;GarageCars&#x27;, &#x27;WoodDeckSF&#x27;, &#x27;ScreenPorch&#x27;, &#x27;MSSubClass&#x27;,\n",
              "       &#x27;OverallQual&#x27;, &#x27;OverallCond&#x27;, &#x27;YearBuilt&#x27;, &#x27;YearRemodAdd&#x27;, &#x27;MasVnrArea&#x27;,\n",
              "       &#x27;BsmtFinSF1&#x27;, &#x27;BsmtFinSF2&#x27;, &#x27;BsmtU...\n",
              "       &#x27;LotShape&#x27;, &#x27;LandContour&#x27;, &#x27;Utilities&#x27;, &#x27;LotConfig&#x27;, &#x27;LandSlope&#x27;,\n",
              "       &#x27;Neighborhood&#x27;, &#x27;Condition2&#x27;, &#x27;BldgType&#x27;, &#x27;HouseStyle&#x27;, &#x27;RoofStyle&#x27;,\n",
              "       &#x27;RoofMatl&#x27;, &#x27;Exterior1st&#x27;, &#x27;Exterior2nd&#x27;, &#x27;MasVnrType&#x27;, &#x27;BsmtFinType2&#x27;,\n",
              "       &#x27;HeatingQC&#x27;, &#x27;Electrical&#x27;, &#x27;Functional&#x27;, &#x27;GarageType&#x27;, &#x27;GarageFinish&#x27;,\n",
              "       &#x27;GarageQual&#x27;, &#x27;GarageCond&#x27;, &#x27;PavedDrive&#x27;, &#x27;PoolQC&#x27;, &#x27;Fence&#x27;,\n",
              "       &#x27;MiscFeature&#x27;, &#x27;SaleType&#x27;, &#x27;SaleCondition&#x27;],\n",
              "      dtype=&#x27;object&#x27;))])</pre></div></div></div><div class=\"sk-parallel\"><div class=\"sk-parallel-item\"><div class=\"sk-item\"><div class=\"sk-label-container\"><div class=\"sk-label sk-toggleable\"><input class=\"sk-toggleable__control sk-hidden--visually\" id=\"0b6a1a37-ddf6-4c48-918f-ae561cfceb0b\" type=\"checkbox\" ><label for=\"0b6a1a37-ddf6-4c48-918f-ae561cfceb0b\" class=\"sk-toggleable__label sk-toggleable__label-arrow\">num_pipe</label><div class=\"sk-toggleable__content\"><pre>Index([&#x27;LotArea&#x27;, &#x27;LotFrontage&#x27;, &#x27;TotalBsmtSF&#x27;, &#x27;BedroomAbvGr&#x27;, &#x27;Fireplaces&#x27;,\n",
              "       &#x27;PoolArea&#x27;, &#x27;GarageCars&#x27;, &#x27;WoodDeckSF&#x27;, &#x27;ScreenPorch&#x27;, &#x27;MSSubClass&#x27;,\n",
              "       &#x27;OverallQual&#x27;, &#x27;OverallCond&#x27;, &#x27;YearBuilt&#x27;, &#x27;YearRemodAdd&#x27;, &#x27;MasVnrArea&#x27;,\n",
              "       &#x27;BsmtFinSF1&#x27;, &#x27;BsmtFinSF2&#x27;, &#x27;BsmtUnfSF&#x27;, &#x27;1stFlrSF&#x27;, &#x27;2ndFlrSF&#x27;,\n",
              "       &#x27;LowQualFinSF&#x27;, &#x27;GrLivArea&#x27;, &#x27;BsmtFullBath&#x27;, &#x27;BsmtHalfBath&#x27;, &#x27;FullBath&#x27;,\n",
              "       &#x27;HalfBath&#x27;, &#x27;KitchenAbvGr&#x27;, &#x27;TotRmsAbvGrd&#x27;, &#x27;GarageYrBlt&#x27;, &#x27;GarageArea&#x27;,\n",
              "       &#x27;OpenPorchSF&#x27;, &#x27;EnclosedPorch&#x27;, &#x27;3SsnPorch&#x27;, &#x27;MiscVal&#x27;, &#x27;MoSold&#x27;,\n",
              "       &#x27;YrSold&#x27;, &#x27;Id&#x27;],\n",
              "      dtype=&#x27;object&#x27;)</pre></div></div></div><div class=\"sk-serial\"><div class=\"sk-item\"><div class=\"sk-serial\"><div class=\"sk-item\"><div class=\"sk-estimator sk-toggleable\"><input class=\"sk-toggleable__control sk-hidden--visually\" id=\"d1c689ed-d861-4511-a84d-f8567f217283\" type=\"checkbox\" ><label for=\"d1c689ed-d861-4511-a84d-f8567f217283\" class=\"sk-toggleable__label sk-toggleable__label-arrow\">SimpleImputer</label><div class=\"sk-toggleable__content\"><pre>SimpleImputer(strategy=&#x27;median&#x27;)</pre></div></div></div></div></div></div></div></div><div class=\"sk-parallel-item\"><div class=\"sk-item\"><div class=\"sk-label-container\"><div class=\"sk-label sk-toggleable\"><input class=\"sk-toggleable__control sk-hidden--visually\" id=\"6f82f7c8-679e-4b83-8fb2-b0b4ac200dd7\" type=\"checkbox\" ><label for=\"6f82f7c8-679e-4b83-8fb2-b0b4ac200dd7\" class=\"sk-toggleable__label sk-toggleable__label-arrow\">cat_pipe</label><div class=\"sk-toggleable__content\"><pre>Index([&#x27;MSZoning&#x27;, &#x27;Condition1&#x27;, &#x27;Heating&#x27;, &#x27;Street&#x27;, &#x27;CentralAir&#x27;,\n",
              "       &#x27;Foundation&#x27;, &#x27;ExterQual&#x27;, &#x27;ExterCond&#x27;, &#x27;BsmtQual&#x27;, &#x27;BsmtCond&#x27;,\n",
              "       &#x27;BsmtExposure&#x27;, &#x27;BsmtFinType1&#x27;, &#x27;KitchenQual&#x27;, &#x27;FireplaceQu&#x27;, &#x27;Alley&#x27;,\n",
              "       &#x27;LotShape&#x27;, &#x27;LandContour&#x27;, &#x27;Utilities&#x27;, &#x27;LotConfig&#x27;, &#x27;LandSlope&#x27;,\n",
              "       &#x27;Neighborhood&#x27;, &#x27;Condition2&#x27;, &#x27;BldgType&#x27;, &#x27;HouseStyle&#x27;, &#x27;RoofStyle&#x27;,\n",
              "       &#x27;RoofMatl&#x27;, &#x27;Exterior1st&#x27;, &#x27;Exterior2nd&#x27;, &#x27;MasVnrType&#x27;, &#x27;BsmtFinType2&#x27;,\n",
              "       &#x27;HeatingQC&#x27;, &#x27;Electrical&#x27;, &#x27;Functional&#x27;, &#x27;GarageType&#x27;, &#x27;GarageFinish&#x27;,\n",
              "       &#x27;GarageQual&#x27;, &#x27;GarageCond&#x27;, &#x27;PavedDrive&#x27;, &#x27;PoolQC&#x27;, &#x27;Fence&#x27;,\n",
              "       &#x27;MiscFeature&#x27;, &#x27;SaleType&#x27;, &#x27;SaleCondition&#x27;],\n",
              "      dtype=&#x27;object&#x27;)</pre></div></div></div><div class=\"sk-serial\"><div class=\"sk-item\"><div class=\"sk-serial\"><div class=\"sk-item\"><div class=\"sk-estimator sk-toggleable\"><input class=\"sk-toggleable__control sk-hidden--visually\" id=\"26ad58b5-b123-412d-8e77-995ee8be6df4\" type=\"checkbox\" ><label for=\"26ad58b5-b123-412d-8e77-995ee8be6df4\" class=\"sk-toggleable__label sk-toggleable__label-arrow\">SimpleImputer</label><div class=\"sk-toggleable__content\"><pre>SimpleImputer(strategy=&#x27;most_frequent&#x27;)</pre></div></div></div><div class=\"sk-item\"><div class=\"sk-estimator sk-toggleable\"><input class=\"sk-toggleable__control sk-hidden--visually\" id=\"bddab929-84d6-4bbf-bf81-533dcc35f25b\" type=\"checkbox\" ><label for=\"bddab929-84d6-4bbf-bf81-533dcc35f25b\" class=\"sk-toggleable__label sk-toggleable__label-arrow\">OneHotEncoder</label><div class=\"sk-toggleable__content\"><pre>OneHotEncoder(handle_unknown=&#x27;ignore&#x27;)</pre></div></div></div></div></div></div></div></div></div></div></div></div>"
            ]
          },
          "metadata": {},
          "execution_count": 774
        }
      ],
      "source": [
        "from sklearn.compose import ColumnTransformer\n",
        "\n",
        "preprocessor = ColumnTransformer(\n",
        "    transformers=[\n",
        "        (\"num_pipe\", numeric_pipe, X_num_columns),\n",
        "        (\"cat_pipe\", categoric_pipe, X_cat_columns)\n",
        "        #(\"scale\", StandardScalar())\n",
        "      \n",
        "    ]\n",
        ")\n",
        "preprocessor"
      ]
    },
    {
      "cell_type": "markdown",
      "metadata": {
        "id": "NBr8PBSAXmR9"
      },
      "source": [
        "### 3.3. Creating the `full_pipeline` (`preprocessor` + Decision Tree)\n",
        "\n",
        "Pipelines are modular. The `preprocessor` we created above with the `ColumnTransformer` can become now a step in a new pipeline, that we'll call `full_piepline` and will include, as a last step, a Decision Tree model:"
      ]
    },
    {
      "cell_type": "code",
      "execution_count": 775,
      "metadata": {
        "id": "W_d2BN_QXmR9",
        "colab": {
          "base_uri": "https://localhost:8080/",
          "height": 227
        },
        "outputId": "bc15ad61-b5fb-450c-dc0c-0d01afff1808"
      },
      "outputs": [
        {
          "output_type": "execute_result",
          "data": {
            "text/plain": [
              "Pipeline(steps=[('columntransformer',\n",
              "                 ColumnTransformer(transformers=[('num_pipe',\n",
              "                                                  Pipeline(steps=[('simpleimputer',\n",
              "                                                                   SimpleImputer(strategy='median'))]),\n",
              "                                                  Index(['LotArea', 'LotFrontage', 'TotalBsmtSF', 'BedroomAbvGr', 'Fireplaces',\n",
              "       'PoolArea', 'GarageCars', 'WoodDeckSF', 'ScreenPorch', 'MSSubClass',\n",
              "       'OverallQual', 'OverallCond', 'YearBuilt', 'YearRemodAdd', 'MasVnrA...\n",
              "       'Neighborhood', 'Condition2', 'BldgType', 'HouseStyle', 'RoofStyle',\n",
              "       'RoofMatl', 'Exterior1st', 'Exterior2nd', 'MasVnrType', 'BsmtFinType2',\n",
              "       'HeatingQC', 'Electrical', 'Functional', 'GarageType', 'GarageFinish',\n",
              "       'GarageQual', 'GarageCond', 'PavedDrive', 'PoolQC', 'Fence',\n",
              "       'MiscFeature', 'SaleType', 'SaleCondition'],\n",
              "      dtype='object'))])),\n",
              "                ('decisiontreeclassifier', DecisionTreeClassifier())])"
            ],
            "text/html": [
              "<style>#sk-507adb1b-cd95-4107-abfe-d0dda8f8b33c {color: black;background-color: white;}#sk-507adb1b-cd95-4107-abfe-d0dda8f8b33c pre{padding: 0;}#sk-507adb1b-cd95-4107-abfe-d0dda8f8b33c div.sk-toggleable {background-color: white;}#sk-507adb1b-cd95-4107-abfe-d0dda8f8b33c label.sk-toggleable__label {cursor: pointer;display: block;width: 100%;margin-bottom: 0;padding: 0.3em;box-sizing: border-box;text-align: center;}#sk-507adb1b-cd95-4107-abfe-d0dda8f8b33c label.sk-toggleable__label-arrow:before {content: \"▸\";float: left;margin-right: 0.25em;color: #696969;}#sk-507adb1b-cd95-4107-abfe-d0dda8f8b33c label.sk-toggleable__label-arrow:hover:before {color: black;}#sk-507adb1b-cd95-4107-abfe-d0dda8f8b33c div.sk-estimator:hover label.sk-toggleable__label-arrow:before {color: black;}#sk-507adb1b-cd95-4107-abfe-d0dda8f8b33c div.sk-toggleable__content {max-height: 0;max-width: 0;overflow: hidden;text-align: left;background-color: #f0f8ff;}#sk-507adb1b-cd95-4107-abfe-d0dda8f8b33c div.sk-toggleable__content pre {margin: 0.2em;color: black;border-radius: 0.25em;background-color: #f0f8ff;}#sk-507adb1b-cd95-4107-abfe-d0dda8f8b33c input.sk-toggleable__control:checked~div.sk-toggleable__content {max-height: 200px;max-width: 100%;overflow: auto;}#sk-507adb1b-cd95-4107-abfe-d0dda8f8b33c input.sk-toggleable__control:checked~label.sk-toggleable__label-arrow:before {content: \"▾\";}#sk-507adb1b-cd95-4107-abfe-d0dda8f8b33c div.sk-estimator input.sk-toggleable__control:checked~label.sk-toggleable__label {background-color: #d4ebff;}#sk-507adb1b-cd95-4107-abfe-d0dda8f8b33c div.sk-label input.sk-toggleable__control:checked~label.sk-toggleable__label {background-color: #d4ebff;}#sk-507adb1b-cd95-4107-abfe-d0dda8f8b33c input.sk-hidden--visually {border: 0;clip: rect(1px 1px 1px 1px);clip: rect(1px, 1px, 1px, 1px);height: 1px;margin: -1px;overflow: hidden;padding: 0;position: absolute;width: 1px;}#sk-507adb1b-cd95-4107-abfe-d0dda8f8b33c div.sk-estimator {font-family: monospace;background-color: #f0f8ff;border: 1px dotted black;border-radius: 0.25em;box-sizing: border-box;margin-bottom: 0.5em;}#sk-507adb1b-cd95-4107-abfe-d0dda8f8b33c div.sk-estimator:hover {background-color: #d4ebff;}#sk-507adb1b-cd95-4107-abfe-d0dda8f8b33c div.sk-parallel-item::after {content: \"\";width: 100%;border-bottom: 1px solid gray;flex-grow: 1;}#sk-507adb1b-cd95-4107-abfe-d0dda8f8b33c div.sk-label:hover label.sk-toggleable__label {background-color: #d4ebff;}#sk-507adb1b-cd95-4107-abfe-d0dda8f8b33c div.sk-serial::before {content: \"\";position: absolute;border-left: 1px solid gray;box-sizing: border-box;top: 2em;bottom: 0;left: 50%;}#sk-507adb1b-cd95-4107-abfe-d0dda8f8b33c div.sk-serial {display: flex;flex-direction: column;align-items: center;background-color: white;padding-right: 0.2em;padding-left: 0.2em;}#sk-507adb1b-cd95-4107-abfe-d0dda8f8b33c div.sk-item {z-index: 1;}#sk-507adb1b-cd95-4107-abfe-d0dda8f8b33c div.sk-parallel {display: flex;align-items: stretch;justify-content: center;background-color: white;}#sk-507adb1b-cd95-4107-abfe-d0dda8f8b33c div.sk-parallel::before {content: \"\";position: absolute;border-left: 1px solid gray;box-sizing: border-box;top: 2em;bottom: 0;left: 50%;}#sk-507adb1b-cd95-4107-abfe-d0dda8f8b33c div.sk-parallel-item {display: flex;flex-direction: column;position: relative;background-color: white;}#sk-507adb1b-cd95-4107-abfe-d0dda8f8b33c div.sk-parallel-item:first-child::after {align-self: flex-end;width: 50%;}#sk-507adb1b-cd95-4107-abfe-d0dda8f8b33c div.sk-parallel-item:last-child::after {align-self: flex-start;width: 50%;}#sk-507adb1b-cd95-4107-abfe-d0dda8f8b33c div.sk-parallel-item:only-child::after {width: 0;}#sk-507adb1b-cd95-4107-abfe-d0dda8f8b33c div.sk-dashed-wrapped {border: 1px dashed gray;margin: 0 0.4em 0.5em 0.4em;box-sizing: border-box;padding-bottom: 0.4em;background-color: white;position: relative;}#sk-507adb1b-cd95-4107-abfe-d0dda8f8b33c div.sk-label label {font-family: monospace;font-weight: bold;background-color: white;display: inline-block;line-height: 1.2em;}#sk-507adb1b-cd95-4107-abfe-d0dda8f8b33c div.sk-label-container {position: relative;z-index: 2;text-align: center;}#sk-507adb1b-cd95-4107-abfe-d0dda8f8b33c div.sk-container {/* jupyter's `normalize.less` sets `[hidden] { display: none; }` but bootstrap.min.css set `[hidden] { display: none !important; }` so we also need the `!important` here to be able to override the default hidden behavior on the sphinx rendered scikit-learn.org. See: https://github.com/scikit-learn/scikit-learn/issues/21755 */display: inline-block !important;position: relative;}#sk-507adb1b-cd95-4107-abfe-d0dda8f8b33c div.sk-text-repr-fallback {display: none;}</style><div id=\"sk-507adb1b-cd95-4107-abfe-d0dda8f8b33c\" class=\"sk-top-container\"><div class=\"sk-text-repr-fallback\"><pre>Pipeline(steps=[(&#x27;columntransformer&#x27;,\n",
              "                 ColumnTransformer(transformers=[(&#x27;num_pipe&#x27;,\n",
              "                                                  Pipeline(steps=[(&#x27;simpleimputer&#x27;,\n",
              "                                                                   SimpleImputer(strategy=&#x27;median&#x27;))]),\n",
              "                                                  Index([&#x27;LotArea&#x27;, &#x27;LotFrontage&#x27;, &#x27;TotalBsmtSF&#x27;, &#x27;BedroomAbvGr&#x27;, &#x27;Fireplaces&#x27;,\n",
              "       &#x27;PoolArea&#x27;, &#x27;GarageCars&#x27;, &#x27;WoodDeckSF&#x27;, &#x27;ScreenPorch&#x27;, &#x27;MSSubClass&#x27;,\n",
              "       &#x27;OverallQual&#x27;, &#x27;OverallCond&#x27;, &#x27;YearBuilt&#x27;, &#x27;YearRemodAdd&#x27;, &#x27;MasVnrA...\n",
              "       &#x27;Neighborhood&#x27;, &#x27;Condition2&#x27;, &#x27;BldgType&#x27;, &#x27;HouseStyle&#x27;, &#x27;RoofStyle&#x27;,\n",
              "       &#x27;RoofMatl&#x27;, &#x27;Exterior1st&#x27;, &#x27;Exterior2nd&#x27;, &#x27;MasVnrType&#x27;, &#x27;BsmtFinType2&#x27;,\n",
              "       &#x27;HeatingQC&#x27;, &#x27;Electrical&#x27;, &#x27;Functional&#x27;, &#x27;GarageType&#x27;, &#x27;GarageFinish&#x27;,\n",
              "       &#x27;GarageQual&#x27;, &#x27;GarageCond&#x27;, &#x27;PavedDrive&#x27;, &#x27;PoolQC&#x27;, &#x27;Fence&#x27;,\n",
              "       &#x27;MiscFeature&#x27;, &#x27;SaleType&#x27;, &#x27;SaleCondition&#x27;],\n",
              "      dtype=&#x27;object&#x27;))])),\n",
              "                (&#x27;decisiontreeclassifier&#x27;, DecisionTreeClassifier())])</pre><b>Please rerun this cell to show the HTML repr or trust the notebook.</b></div><div class=\"sk-container\" hidden><div class=\"sk-item sk-dashed-wrapped\"><div class=\"sk-label-container\"><div class=\"sk-label sk-toggleable\"><input class=\"sk-toggleable__control sk-hidden--visually\" id=\"e0df06c3-f8df-46fc-8cd3-14604f573766\" type=\"checkbox\" ><label for=\"e0df06c3-f8df-46fc-8cd3-14604f573766\" class=\"sk-toggleable__label sk-toggleable__label-arrow\">Pipeline</label><div class=\"sk-toggleable__content\"><pre>Pipeline(steps=[(&#x27;columntransformer&#x27;,\n",
              "                 ColumnTransformer(transformers=[(&#x27;num_pipe&#x27;,\n",
              "                                                  Pipeline(steps=[(&#x27;simpleimputer&#x27;,\n",
              "                                                                   SimpleImputer(strategy=&#x27;median&#x27;))]),\n",
              "                                                  Index([&#x27;LotArea&#x27;, &#x27;LotFrontage&#x27;, &#x27;TotalBsmtSF&#x27;, &#x27;BedroomAbvGr&#x27;, &#x27;Fireplaces&#x27;,\n",
              "       &#x27;PoolArea&#x27;, &#x27;GarageCars&#x27;, &#x27;WoodDeckSF&#x27;, &#x27;ScreenPorch&#x27;, &#x27;MSSubClass&#x27;,\n",
              "       &#x27;OverallQual&#x27;, &#x27;OverallCond&#x27;, &#x27;YearBuilt&#x27;, &#x27;YearRemodAdd&#x27;, &#x27;MasVnrA...\n",
              "       &#x27;Neighborhood&#x27;, &#x27;Condition2&#x27;, &#x27;BldgType&#x27;, &#x27;HouseStyle&#x27;, &#x27;RoofStyle&#x27;,\n",
              "       &#x27;RoofMatl&#x27;, &#x27;Exterior1st&#x27;, &#x27;Exterior2nd&#x27;, &#x27;MasVnrType&#x27;, &#x27;BsmtFinType2&#x27;,\n",
              "       &#x27;HeatingQC&#x27;, &#x27;Electrical&#x27;, &#x27;Functional&#x27;, &#x27;GarageType&#x27;, &#x27;GarageFinish&#x27;,\n",
              "       &#x27;GarageQual&#x27;, &#x27;GarageCond&#x27;, &#x27;PavedDrive&#x27;, &#x27;PoolQC&#x27;, &#x27;Fence&#x27;,\n",
              "       &#x27;MiscFeature&#x27;, &#x27;SaleType&#x27;, &#x27;SaleCondition&#x27;],\n",
              "      dtype=&#x27;object&#x27;))])),\n",
              "                (&#x27;decisiontreeclassifier&#x27;, DecisionTreeClassifier())])</pre></div></div></div><div class=\"sk-serial\"><div class=\"sk-item sk-dashed-wrapped\"><div class=\"sk-label-container\"><div class=\"sk-label sk-toggleable\"><input class=\"sk-toggleable__control sk-hidden--visually\" id=\"fb1a2dd9-69cb-4690-9117-bba969dbd6f7\" type=\"checkbox\" ><label for=\"fb1a2dd9-69cb-4690-9117-bba969dbd6f7\" class=\"sk-toggleable__label sk-toggleable__label-arrow\">columntransformer: ColumnTransformer</label><div class=\"sk-toggleable__content\"><pre>ColumnTransformer(transformers=[(&#x27;num_pipe&#x27;,\n",
              "                                 Pipeline(steps=[(&#x27;simpleimputer&#x27;,\n",
              "                                                  SimpleImputer(strategy=&#x27;median&#x27;))]),\n",
              "                                 Index([&#x27;LotArea&#x27;, &#x27;LotFrontage&#x27;, &#x27;TotalBsmtSF&#x27;, &#x27;BedroomAbvGr&#x27;, &#x27;Fireplaces&#x27;,\n",
              "       &#x27;PoolArea&#x27;, &#x27;GarageCars&#x27;, &#x27;WoodDeckSF&#x27;, &#x27;ScreenPorch&#x27;, &#x27;MSSubClass&#x27;,\n",
              "       &#x27;OverallQual&#x27;, &#x27;OverallCond&#x27;, &#x27;YearBuilt&#x27;, &#x27;YearRemodAdd&#x27;, &#x27;MasVnrArea&#x27;,\n",
              "       &#x27;BsmtFinSF1&#x27;, &#x27;BsmtFinSF2&#x27;, &#x27;BsmtU...\n",
              "       &#x27;LotShape&#x27;, &#x27;LandContour&#x27;, &#x27;Utilities&#x27;, &#x27;LotConfig&#x27;, &#x27;LandSlope&#x27;,\n",
              "       &#x27;Neighborhood&#x27;, &#x27;Condition2&#x27;, &#x27;BldgType&#x27;, &#x27;HouseStyle&#x27;, &#x27;RoofStyle&#x27;,\n",
              "       &#x27;RoofMatl&#x27;, &#x27;Exterior1st&#x27;, &#x27;Exterior2nd&#x27;, &#x27;MasVnrType&#x27;, &#x27;BsmtFinType2&#x27;,\n",
              "       &#x27;HeatingQC&#x27;, &#x27;Electrical&#x27;, &#x27;Functional&#x27;, &#x27;GarageType&#x27;, &#x27;GarageFinish&#x27;,\n",
              "       &#x27;GarageQual&#x27;, &#x27;GarageCond&#x27;, &#x27;PavedDrive&#x27;, &#x27;PoolQC&#x27;, &#x27;Fence&#x27;,\n",
              "       &#x27;MiscFeature&#x27;, &#x27;SaleType&#x27;, &#x27;SaleCondition&#x27;],\n",
              "      dtype=&#x27;object&#x27;))])</pre></div></div></div><div class=\"sk-parallel\"><div class=\"sk-parallel-item\"><div class=\"sk-item\"><div class=\"sk-label-container\"><div class=\"sk-label sk-toggleable\"><input class=\"sk-toggleable__control sk-hidden--visually\" id=\"f00aac5d-4e5c-4cc0-a11b-f68a490bdd6c\" type=\"checkbox\" ><label for=\"f00aac5d-4e5c-4cc0-a11b-f68a490bdd6c\" class=\"sk-toggleable__label sk-toggleable__label-arrow\">num_pipe</label><div class=\"sk-toggleable__content\"><pre>Index([&#x27;LotArea&#x27;, &#x27;LotFrontage&#x27;, &#x27;TotalBsmtSF&#x27;, &#x27;BedroomAbvGr&#x27;, &#x27;Fireplaces&#x27;,\n",
              "       &#x27;PoolArea&#x27;, &#x27;GarageCars&#x27;, &#x27;WoodDeckSF&#x27;, &#x27;ScreenPorch&#x27;, &#x27;MSSubClass&#x27;,\n",
              "       &#x27;OverallQual&#x27;, &#x27;OverallCond&#x27;, &#x27;YearBuilt&#x27;, &#x27;YearRemodAdd&#x27;, &#x27;MasVnrArea&#x27;,\n",
              "       &#x27;BsmtFinSF1&#x27;, &#x27;BsmtFinSF2&#x27;, &#x27;BsmtUnfSF&#x27;, &#x27;1stFlrSF&#x27;, &#x27;2ndFlrSF&#x27;,\n",
              "       &#x27;LowQualFinSF&#x27;, &#x27;GrLivArea&#x27;, &#x27;BsmtFullBath&#x27;, &#x27;BsmtHalfBath&#x27;, &#x27;FullBath&#x27;,\n",
              "       &#x27;HalfBath&#x27;, &#x27;KitchenAbvGr&#x27;, &#x27;TotRmsAbvGrd&#x27;, &#x27;GarageYrBlt&#x27;, &#x27;GarageArea&#x27;,\n",
              "       &#x27;OpenPorchSF&#x27;, &#x27;EnclosedPorch&#x27;, &#x27;3SsnPorch&#x27;, &#x27;MiscVal&#x27;, &#x27;MoSold&#x27;,\n",
              "       &#x27;YrSold&#x27;, &#x27;Id&#x27;],\n",
              "      dtype=&#x27;object&#x27;)</pre></div></div></div><div class=\"sk-serial\"><div class=\"sk-item\"><div class=\"sk-serial\"><div class=\"sk-item\"><div class=\"sk-estimator sk-toggleable\"><input class=\"sk-toggleable__control sk-hidden--visually\" id=\"845bf15f-2d58-4639-a0b9-bd5a2165074b\" type=\"checkbox\" ><label for=\"845bf15f-2d58-4639-a0b9-bd5a2165074b\" class=\"sk-toggleable__label sk-toggleable__label-arrow\">SimpleImputer</label><div class=\"sk-toggleable__content\"><pre>SimpleImputer(strategy=&#x27;median&#x27;)</pre></div></div></div></div></div></div></div></div><div class=\"sk-parallel-item\"><div class=\"sk-item\"><div class=\"sk-label-container\"><div class=\"sk-label sk-toggleable\"><input class=\"sk-toggleable__control sk-hidden--visually\" id=\"ddd76d35-99ce-43ad-affd-fb22019f4bdd\" type=\"checkbox\" ><label for=\"ddd76d35-99ce-43ad-affd-fb22019f4bdd\" class=\"sk-toggleable__label sk-toggleable__label-arrow\">cat_pipe</label><div class=\"sk-toggleable__content\"><pre>Index([&#x27;MSZoning&#x27;, &#x27;Condition1&#x27;, &#x27;Heating&#x27;, &#x27;Street&#x27;, &#x27;CentralAir&#x27;,\n",
              "       &#x27;Foundation&#x27;, &#x27;ExterQual&#x27;, &#x27;ExterCond&#x27;, &#x27;BsmtQual&#x27;, &#x27;BsmtCond&#x27;,\n",
              "       &#x27;BsmtExposure&#x27;, &#x27;BsmtFinType1&#x27;, &#x27;KitchenQual&#x27;, &#x27;FireplaceQu&#x27;, &#x27;Alley&#x27;,\n",
              "       &#x27;LotShape&#x27;, &#x27;LandContour&#x27;, &#x27;Utilities&#x27;, &#x27;LotConfig&#x27;, &#x27;LandSlope&#x27;,\n",
              "       &#x27;Neighborhood&#x27;, &#x27;Condition2&#x27;, &#x27;BldgType&#x27;, &#x27;HouseStyle&#x27;, &#x27;RoofStyle&#x27;,\n",
              "       &#x27;RoofMatl&#x27;, &#x27;Exterior1st&#x27;, &#x27;Exterior2nd&#x27;, &#x27;MasVnrType&#x27;, &#x27;BsmtFinType2&#x27;,\n",
              "       &#x27;HeatingQC&#x27;, &#x27;Electrical&#x27;, &#x27;Functional&#x27;, &#x27;GarageType&#x27;, &#x27;GarageFinish&#x27;,\n",
              "       &#x27;GarageQual&#x27;, &#x27;GarageCond&#x27;, &#x27;PavedDrive&#x27;, &#x27;PoolQC&#x27;, &#x27;Fence&#x27;,\n",
              "       &#x27;MiscFeature&#x27;, &#x27;SaleType&#x27;, &#x27;SaleCondition&#x27;],\n",
              "      dtype=&#x27;object&#x27;)</pre></div></div></div><div class=\"sk-serial\"><div class=\"sk-item\"><div class=\"sk-serial\"><div class=\"sk-item\"><div class=\"sk-estimator sk-toggleable\"><input class=\"sk-toggleable__control sk-hidden--visually\" id=\"ad2f83c3-e1d1-42aa-b40b-28c6dceb808f\" type=\"checkbox\" ><label for=\"ad2f83c3-e1d1-42aa-b40b-28c6dceb808f\" class=\"sk-toggleable__label sk-toggleable__label-arrow\">SimpleImputer</label><div class=\"sk-toggleable__content\"><pre>SimpleImputer(strategy=&#x27;most_frequent&#x27;)</pre></div></div></div><div class=\"sk-item\"><div class=\"sk-estimator sk-toggleable\"><input class=\"sk-toggleable__control sk-hidden--visually\" id=\"6f2eeea4-5e1a-4a25-96bb-a53071b955a4\" type=\"checkbox\" ><label for=\"6f2eeea4-5e1a-4a25-96bb-a53071b955a4\" class=\"sk-toggleable__label sk-toggleable__label-arrow\">OneHotEncoder</label><div class=\"sk-toggleable__content\"><pre>OneHotEncoder(handle_unknown=&#x27;ignore&#x27;)</pre></div></div></div></div></div></div></div></div></div></div><div class=\"sk-item\"><div class=\"sk-estimator sk-toggleable\"><input class=\"sk-toggleable__control sk-hidden--visually\" id=\"ffaf743e-a2e1-4d72-9ab7-76120d963b4d\" type=\"checkbox\" ><label for=\"ffaf743e-a2e1-4d72-9ab7-76120d963b4d\" class=\"sk-toggleable__label sk-toggleable__label-arrow\">DecisionTreeClassifier</label><div class=\"sk-toggleable__content\"><pre>DecisionTreeClassifier()</pre></div></div></div></div></div></div></div>"
            ]
          },
          "metadata": {},
          "execution_count": 775
        }
      ],
      "source": [
        "full_pipeline = make_pipeline(preprocessor, \n",
        "                              DecisionTreeClassifier())\n",
        "\n",
        "full_pipeline"
      ]
    },
    {
      "cell_type": "code",
      "source": [
        "full_pipeline_test = make_pipeline(preprocessor, \n",
        "                              DecisionTreeClassifier())\n",
        "\n",
        "full_pipeline"
      ],
      "metadata": {
        "colab": {
          "base_uri": "https://localhost:8080/",
          "height": 227
        },
        "id": "OBsXjdGACnfX",
        "outputId": "361765b4-4f7d-4439-d3d7-35152b700b36"
      },
      "execution_count": 776,
      "outputs": [
        {
          "output_type": "execute_result",
          "data": {
            "text/plain": [
              "Pipeline(steps=[('columntransformer',\n",
              "                 ColumnTransformer(transformers=[('num_pipe',\n",
              "                                                  Pipeline(steps=[('simpleimputer',\n",
              "                                                                   SimpleImputer(strategy='median'))]),\n",
              "                                                  Index(['LotArea', 'LotFrontage', 'TotalBsmtSF', 'BedroomAbvGr', 'Fireplaces',\n",
              "       'PoolArea', 'GarageCars', 'WoodDeckSF', 'ScreenPorch', 'MSSubClass',\n",
              "       'OverallQual', 'OverallCond', 'YearBuilt', 'YearRemodAdd', 'MasVnrA...\n",
              "       'Neighborhood', 'Condition2', 'BldgType', 'HouseStyle', 'RoofStyle',\n",
              "       'RoofMatl', 'Exterior1st', 'Exterior2nd', 'MasVnrType', 'BsmtFinType2',\n",
              "       'HeatingQC', 'Electrical', 'Functional', 'GarageType', 'GarageFinish',\n",
              "       'GarageQual', 'GarageCond', 'PavedDrive', 'PoolQC', 'Fence',\n",
              "       'MiscFeature', 'SaleType', 'SaleCondition'],\n",
              "      dtype='object'))])),\n",
              "                ('decisiontreeclassifier', DecisionTreeClassifier())])"
            ],
            "text/html": [
              "<style>#sk-5a02cb87-ee21-467a-ad00-ada0edb1feaa {color: black;background-color: white;}#sk-5a02cb87-ee21-467a-ad00-ada0edb1feaa pre{padding: 0;}#sk-5a02cb87-ee21-467a-ad00-ada0edb1feaa div.sk-toggleable {background-color: white;}#sk-5a02cb87-ee21-467a-ad00-ada0edb1feaa label.sk-toggleable__label {cursor: pointer;display: block;width: 100%;margin-bottom: 0;padding: 0.3em;box-sizing: border-box;text-align: center;}#sk-5a02cb87-ee21-467a-ad00-ada0edb1feaa label.sk-toggleable__label-arrow:before {content: \"▸\";float: left;margin-right: 0.25em;color: #696969;}#sk-5a02cb87-ee21-467a-ad00-ada0edb1feaa label.sk-toggleable__label-arrow:hover:before {color: black;}#sk-5a02cb87-ee21-467a-ad00-ada0edb1feaa div.sk-estimator:hover label.sk-toggleable__label-arrow:before {color: black;}#sk-5a02cb87-ee21-467a-ad00-ada0edb1feaa div.sk-toggleable__content {max-height: 0;max-width: 0;overflow: hidden;text-align: left;background-color: #f0f8ff;}#sk-5a02cb87-ee21-467a-ad00-ada0edb1feaa div.sk-toggleable__content pre {margin: 0.2em;color: black;border-radius: 0.25em;background-color: #f0f8ff;}#sk-5a02cb87-ee21-467a-ad00-ada0edb1feaa input.sk-toggleable__control:checked~div.sk-toggleable__content {max-height: 200px;max-width: 100%;overflow: auto;}#sk-5a02cb87-ee21-467a-ad00-ada0edb1feaa input.sk-toggleable__control:checked~label.sk-toggleable__label-arrow:before {content: \"▾\";}#sk-5a02cb87-ee21-467a-ad00-ada0edb1feaa div.sk-estimator input.sk-toggleable__control:checked~label.sk-toggleable__label {background-color: #d4ebff;}#sk-5a02cb87-ee21-467a-ad00-ada0edb1feaa div.sk-label input.sk-toggleable__control:checked~label.sk-toggleable__label {background-color: #d4ebff;}#sk-5a02cb87-ee21-467a-ad00-ada0edb1feaa input.sk-hidden--visually {border: 0;clip: rect(1px 1px 1px 1px);clip: rect(1px, 1px, 1px, 1px);height: 1px;margin: -1px;overflow: hidden;padding: 0;position: absolute;width: 1px;}#sk-5a02cb87-ee21-467a-ad00-ada0edb1feaa div.sk-estimator {font-family: monospace;background-color: #f0f8ff;border: 1px dotted black;border-radius: 0.25em;box-sizing: border-box;margin-bottom: 0.5em;}#sk-5a02cb87-ee21-467a-ad00-ada0edb1feaa div.sk-estimator:hover {background-color: #d4ebff;}#sk-5a02cb87-ee21-467a-ad00-ada0edb1feaa div.sk-parallel-item::after {content: \"\";width: 100%;border-bottom: 1px solid gray;flex-grow: 1;}#sk-5a02cb87-ee21-467a-ad00-ada0edb1feaa div.sk-label:hover label.sk-toggleable__label {background-color: #d4ebff;}#sk-5a02cb87-ee21-467a-ad00-ada0edb1feaa div.sk-serial::before {content: \"\";position: absolute;border-left: 1px solid gray;box-sizing: border-box;top: 2em;bottom: 0;left: 50%;}#sk-5a02cb87-ee21-467a-ad00-ada0edb1feaa div.sk-serial {display: flex;flex-direction: column;align-items: center;background-color: white;padding-right: 0.2em;padding-left: 0.2em;}#sk-5a02cb87-ee21-467a-ad00-ada0edb1feaa div.sk-item {z-index: 1;}#sk-5a02cb87-ee21-467a-ad00-ada0edb1feaa div.sk-parallel {display: flex;align-items: stretch;justify-content: center;background-color: white;}#sk-5a02cb87-ee21-467a-ad00-ada0edb1feaa div.sk-parallel::before {content: \"\";position: absolute;border-left: 1px solid gray;box-sizing: border-box;top: 2em;bottom: 0;left: 50%;}#sk-5a02cb87-ee21-467a-ad00-ada0edb1feaa div.sk-parallel-item {display: flex;flex-direction: column;position: relative;background-color: white;}#sk-5a02cb87-ee21-467a-ad00-ada0edb1feaa div.sk-parallel-item:first-child::after {align-self: flex-end;width: 50%;}#sk-5a02cb87-ee21-467a-ad00-ada0edb1feaa div.sk-parallel-item:last-child::after {align-self: flex-start;width: 50%;}#sk-5a02cb87-ee21-467a-ad00-ada0edb1feaa div.sk-parallel-item:only-child::after {width: 0;}#sk-5a02cb87-ee21-467a-ad00-ada0edb1feaa div.sk-dashed-wrapped {border: 1px dashed gray;margin: 0 0.4em 0.5em 0.4em;box-sizing: border-box;padding-bottom: 0.4em;background-color: white;position: relative;}#sk-5a02cb87-ee21-467a-ad00-ada0edb1feaa div.sk-label label {font-family: monospace;font-weight: bold;background-color: white;display: inline-block;line-height: 1.2em;}#sk-5a02cb87-ee21-467a-ad00-ada0edb1feaa div.sk-label-container {position: relative;z-index: 2;text-align: center;}#sk-5a02cb87-ee21-467a-ad00-ada0edb1feaa div.sk-container {/* jupyter's `normalize.less` sets `[hidden] { display: none; }` but bootstrap.min.css set `[hidden] { display: none !important; }` so we also need the `!important` here to be able to override the default hidden behavior on the sphinx rendered scikit-learn.org. See: https://github.com/scikit-learn/scikit-learn/issues/21755 */display: inline-block !important;position: relative;}#sk-5a02cb87-ee21-467a-ad00-ada0edb1feaa div.sk-text-repr-fallback {display: none;}</style><div id=\"sk-5a02cb87-ee21-467a-ad00-ada0edb1feaa\" class=\"sk-top-container\"><div class=\"sk-text-repr-fallback\"><pre>Pipeline(steps=[(&#x27;columntransformer&#x27;,\n",
              "                 ColumnTransformer(transformers=[(&#x27;num_pipe&#x27;,\n",
              "                                                  Pipeline(steps=[(&#x27;simpleimputer&#x27;,\n",
              "                                                                   SimpleImputer(strategy=&#x27;median&#x27;))]),\n",
              "                                                  Index([&#x27;LotArea&#x27;, &#x27;LotFrontage&#x27;, &#x27;TotalBsmtSF&#x27;, &#x27;BedroomAbvGr&#x27;, &#x27;Fireplaces&#x27;,\n",
              "       &#x27;PoolArea&#x27;, &#x27;GarageCars&#x27;, &#x27;WoodDeckSF&#x27;, &#x27;ScreenPorch&#x27;, &#x27;MSSubClass&#x27;,\n",
              "       &#x27;OverallQual&#x27;, &#x27;OverallCond&#x27;, &#x27;YearBuilt&#x27;, &#x27;YearRemodAdd&#x27;, &#x27;MasVnrA...\n",
              "       &#x27;Neighborhood&#x27;, &#x27;Condition2&#x27;, &#x27;BldgType&#x27;, &#x27;HouseStyle&#x27;, &#x27;RoofStyle&#x27;,\n",
              "       &#x27;RoofMatl&#x27;, &#x27;Exterior1st&#x27;, &#x27;Exterior2nd&#x27;, &#x27;MasVnrType&#x27;, &#x27;BsmtFinType2&#x27;,\n",
              "       &#x27;HeatingQC&#x27;, &#x27;Electrical&#x27;, &#x27;Functional&#x27;, &#x27;GarageType&#x27;, &#x27;GarageFinish&#x27;,\n",
              "       &#x27;GarageQual&#x27;, &#x27;GarageCond&#x27;, &#x27;PavedDrive&#x27;, &#x27;PoolQC&#x27;, &#x27;Fence&#x27;,\n",
              "       &#x27;MiscFeature&#x27;, &#x27;SaleType&#x27;, &#x27;SaleCondition&#x27;],\n",
              "      dtype=&#x27;object&#x27;))])),\n",
              "                (&#x27;decisiontreeclassifier&#x27;, DecisionTreeClassifier())])</pre><b>Please rerun this cell to show the HTML repr or trust the notebook.</b></div><div class=\"sk-container\" hidden><div class=\"sk-item sk-dashed-wrapped\"><div class=\"sk-label-container\"><div class=\"sk-label sk-toggleable\"><input class=\"sk-toggleable__control sk-hidden--visually\" id=\"78760ad3-9fad-4916-9804-69d29267c0c4\" type=\"checkbox\" ><label for=\"78760ad3-9fad-4916-9804-69d29267c0c4\" class=\"sk-toggleable__label sk-toggleable__label-arrow\">Pipeline</label><div class=\"sk-toggleable__content\"><pre>Pipeline(steps=[(&#x27;columntransformer&#x27;,\n",
              "                 ColumnTransformer(transformers=[(&#x27;num_pipe&#x27;,\n",
              "                                                  Pipeline(steps=[(&#x27;simpleimputer&#x27;,\n",
              "                                                                   SimpleImputer(strategy=&#x27;median&#x27;))]),\n",
              "                                                  Index([&#x27;LotArea&#x27;, &#x27;LotFrontage&#x27;, &#x27;TotalBsmtSF&#x27;, &#x27;BedroomAbvGr&#x27;, &#x27;Fireplaces&#x27;,\n",
              "       &#x27;PoolArea&#x27;, &#x27;GarageCars&#x27;, &#x27;WoodDeckSF&#x27;, &#x27;ScreenPorch&#x27;, &#x27;MSSubClass&#x27;,\n",
              "       &#x27;OverallQual&#x27;, &#x27;OverallCond&#x27;, &#x27;YearBuilt&#x27;, &#x27;YearRemodAdd&#x27;, &#x27;MasVnrA...\n",
              "       &#x27;Neighborhood&#x27;, &#x27;Condition2&#x27;, &#x27;BldgType&#x27;, &#x27;HouseStyle&#x27;, &#x27;RoofStyle&#x27;,\n",
              "       &#x27;RoofMatl&#x27;, &#x27;Exterior1st&#x27;, &#x27;Exterior2nd&#x27;, &#x27;MasVnrType&#x27;, &#x27;BsmtFinType2&#x27;,\n",
              "       &#x27;HeatingQC&#x27;, &#x27;Electrical&#x27;, &#x27;Functional&#x27;, &#x27;GarageType&#x27;, &#x27;GarageFinish&#x27;,\n",
              "       &#x27;GarageQual&#x27;, &#x27;GarageCond&#x27;, &#x27;PavedDrive&#x27;, &#x27;PoolQC&#x27;, &#x27;Fence&#x27;,\n",
              "       &#x27;MiscFeature&#x27;, &#x27;SaleType&#x27;, &#x27;SaleCondition&#x27;],\n",
              "      dtype=&#x27;object&#x27;))])),\n",
              "                (&#x27;decisiontreeclassifier&#x27;, DecisionTreeClassifier())])</pre></div></div></div><div class=\"sk-serial\"><div class=\"sk-item sk-dashed-wrapped\"><div class=\"sk-label-container\"><div class=\"sk-label sk-toggleable\"><input class=\"sk-toggleable__control sk-hidden--visually\" id=\"af757128-ba88-42c4-a943-8f381a51a177\" type=\"checkbox\" ><label for=\"af757128-ba88-42c4-a943-8f381a51a177\" class=\"sk-toggleable__label sk-toggleable__label-arrow\">columntransformer: ColumnTransformer</label><div class=\"sk-toggleable__content\"><pre>ColumnTransformer(transformers=[(&#x27;num_pipe&#x27;,\n",
              "                                 Pipeline(steps=[(&#x27;simpleimputer&#x27;,\n",
              "                                                  SimpleImputer(strategy=&#x27;median&#x27;))]),\n",
              "                                 Index([&#x27;LotArea&#x27;, &#x27;LotFrontage&#x27;, &#x27;TotalBsmtSF&#x27;, &#x27;BedroomAbvGr&#x27;, &#x27;Fireplaces&#x27;,\n",
              "       &#x27;PoolArea&#x27;, &#x27;GarageCars&#x27;, &#x27;WoodDeckSF&#x27;, &#x27;ScreenPorch&#x27;, &#x27;MSSubClass&#x27;,\n",
              "       &#x27;OverallQual&#x27;, &#x27;OverallCond&#x27;, &#x27;YearBuilt&#x27;, &#x27;YearRemodAdd&#x27;, &#x27;MasVnrArea&#x27;,\n",
              "       &#x27;BsmtFinSF1&#x27;, &#x27;BsmtFinSF2&#x27;, &#x27;BsmtU...\n",
              "       &#x27;LotShape&#x27;, &#x27;LandContour&#x27;, &#x27;Utilities&#x27;, &#x27;LotConfig&#x27;, &#x27;LandSlope&#x27;,\n",
              "       &#x27;Neighborhood&#x27;, &#x27;Condition2&#x27;, &#x27;BldgType&#x27;, &#x27;HouseStyle&#x27;, &#x27;RoofStyle&#x27;,\n",
              "       &#x27;RoofMatl&#x27;, &#x27;Exterior1st&#x27;, &#x27;Exterior2nd&#x27;, &#x27;MasVnrType&#x27;, &#x27;BsmtFinType2&#x27;,\n",
              "       &#x27;HeatingQC&#x27;, &#x27;Electrical&#x27;, &#x27;Functional&#x27;, &#x27;GarageType&#x27;, &#x27;GarageFinish&#x27;,\n",
              "       &#x27;GarageQual&#x27;, &#x27;GarageCond&#x27;, &#x27;PavedDrive&#x27;, &#x27;PoolQC&#x27;, &#x27;Fence&#x27;,\n",
              "       &#x27;MiscFeature&#x27;, &#x27;SaleType&#x27;, &#x27;SaleCondition&#x27;],\n",
              "      dtype=&#x27;object&#x27;))])</pre></div></div></div><div class=\"sk-parallel\"><div class=\"sk-parallel-item\"><div class=\"sk-item\"><div class=\"sk-label-container\"><div class=\"sk-label sk-toggleable\"><input class=\"sk-toggleable__control sk-hidden--visually\" id=\"337c6267-9422-47af-b887-4e68a6dc3e15\" type=\"checkbox\" ><label for=\"337c6267-9422-47af-b887-4e68a6dc3e15\" class=\"sk-toggleable__label sk-toggleable__label-arrow\">num_pipe</label><div class=\"sk-toggleable__content\"><pre>Index([&#x27;LotArea&#x27;, &#x27;LotFrontage&#x27;, &#x27;TotalBsmtSF&#x27;, &#x27;BedroomAbvGr&#x27;, &#x27;Fireplaces&#x27;,\n",
              "       &#x27;PoolArea&#x27;, &#x27;GarageCars&#x27;, &#x27;WoodDeckSF&#x27;, &#x27;ScreenPorch&#x27;, &#x27;MSSubClass&#x27;,\n",
              "       &#x27;OverallQual&#x27;, &#x27;OverallCond&#x27;, &#x27;YearBuilt&#x27;, &#x27;YearRemodAdd&#x27;, &#x27;MasVnrArea&#x27;,\n",
              "       &#x27;BsmtFinSF1&#x27;, &#x27;BsmtFinSF2&#x27;, &#x27;BsmtUnfSF&#x27;, &#x27;1stFlrSF&#x27;, &#x27;2ndFlrSF&#x27;,\n",
              "       &#x27;LowQualFinSF&#x27;, &#x27;GrLivArea&#x27;, &#x27;BsmtFullBath&#x27;, &#x27;BsmtHalfBath&#x27;, &#x27;FullBath&#x27;,\n",
              "       &#x27;HalfBath&#x27;, &#x27;KitchenAbvGr&#x27;, &#x27;TotRmsAbvGrd&#x27;, &#x27;GarageYrBlt&#x27;, &#x27;GarageArea&#x27;,\n",
              "       &#x27;OpenPorchSF&#x27;, &#x27;EnclosedPorch&#x27;, &#x27;3SsnPorch&#x27;, &#x27;MiscVal&#x27;, &#x27;MoSold&#x27;,\n",
              "       &#x27;YrSold&#x27;, &#x27;Id&#x27;],\n",
              "      dtype=&#x27;object&#x27;)</pre></div></div></div><div class=\"sk-serial\"><div class=\"sk-item\"><div class=\"sk-serial\"><div class=\"sk-item\"><div class=\"sk-estimator sk-toggleable\"><input class=\"sk-toggleable__control sk-hidden--visually\" id=\"e52df617-db91-426e-b3a5-e8480782d5df\" type=\"checkbox\" ><label for=\"e52df617-db91-426e-b3a5-e8480782d5df\" class=\"sk-toggleable__label sk-toggleable__label-arrow\">SimpleImputer</label><div class=\"sk-toggleable__content\"><pre>SimpleImputer(strategy=&#x27;median&#x27;)</pre></div></div></div></div></div></div></div></div><div class=\"sk-parallel-item\"><div class=\"sk-item\"><div class=\"sk-label-container\"><div class=\"sk-label sk-toggleable\"><input class=\"sk-toggleable__control sk-hidden--visually\" id=\"916764c0-42de-4e88-8393-e2584eb26049\" type=\"checkbox\" ><label for=\"916764c0-42de-4e88-8393-e2584eb26049\" class=\"sk-toggleable__label sk-toggleable__label-arrow\">cat_pipe</label><div class=\"sk-toggleable__content\"><pre>Index([&#x27;MSZoning&#x27;, &#x27;Condition1&#x27;, &#x27;Heating&#x27;, &#x27;Street&#x27;, &#x27;CentralAir&#x27;,\n",
              "       &#x27;Foundation&#x27;, &#x27;ExterQual&#x27;, &#x27;ExterCond&#x27;, &#x27;BsmtQual&#x27;, &#x27;BsmtCond&#x27;,\n",
              "       &#x27;BsmtExposure&#x27;, &#x27;BsmtFinType1&#x27;, &#x27;KitchenQual&#x27;, &#x27;FireplaceQu&#x27;, &#x27;Alley&#x27;,\n",
              "       &#x27;LotShape&#x27;, &#x27;LandContour&#x27;, &#x27;Utilities&#x27;, &#x27;LotConfig&#x27;, &#x27;LandSlope&#x27;,\n",
              "       &#x27;Neighborhood&#x27;, &#x27;Condition2&#x27;, &#x27;BldgType&#x27;, &#x27;HouseStyle&#x27;, &#x27;RoofStyle&#x27;,\n",
              "       &#x27;RoofMatl&#x27;, &#x27;Exterior1st&#x27;, &#x27;Exterior2nd&#x27;, &#x27;MasVnrType&#x27;, &#x27;BsmtFinType2&#x27;,\n",
              "       &#x27;HeatingQC&#x27;, &#x27;Electrical&#x27;, &#x27;Functional&#x27;, &#x27;GarageType&#x27;, &#x27;GarageFinish&#x27;,\n",
              "       &#x27;GarageQual&#x27;, &#x27;GarageCond&#x27;, &#x27;PavedDrive&#x27;, &#x27;PoolQC&#x27;, &#x27;Fence&#x27;,\n",
              "       &#x27;MiscFeature&#x27;, &#x27;SaleType&#x27;, &#x27;SaleCondition&#x27;],\n",
              "      dtype=&#x27;object&#x27;)</pre></div></div></div><div class=\"sk-serial\"><div class=\"sk-item\"><div class=\"sk-serial\"><div class=\"sk-item\"><div class=\"sk-estimator sk-toggleable\"><input class=\"sk-toggleable__control sk-hidden--visually\" id=\"36c8695a-4864-442d-a70a-02a1b250f831\" type=\"checkbox\" ><label for=\"36c8695a-4864-442d-a70a-02a1b250f831\" class=\"sk-toggleable__label sk-toggleable__label-arrow\">SimpleImputer</label><div class=\"sk-toggleable__content\"><pre>SimpleImputer(strategy=&#x27;most_frequent&#x27;)</pre></div></div></div><div class=\"sk-item\"><div class=\"sk-estimator sk-toggleable\"><input class=\"sk-toggleable__control sk-hidden--visually\" id=\"7fc574d9-3fe3-4397-b30f-11282f296bf8\" type=\"checkbox\" ><label for=\"7fc574d9-3fe3-4397-b30f-11282f296bf8\" class=\"sk-toggleable__label sk-toggleable__label-arrow\">OneHotEncoder</label><div class=\"sk-toggleable__content\"><pre>OneHotEncoder(handle_unknown=&#x27;ignore&#x27;)</pre></div></div></div></div></div></div></div></div></div></div><div class=\"sk-item\"><div class=\"sk-estimator sk-toggleable\"><input class=\"sk-toggleable__control sk-hidden--visually\" id=\"5457ebcd-ea91-4e46-be02-e86200333df7\" type=\"checkbox\" ><label for=\"5457ebcd-ea91-4e46-be02-e86200333df7\" class=\"sk-toggleable__label sk-toggleable__label-arrow\">DecisionTreeClassifier</label><div class=\"sk-toggleable__content\"><pre>DecisionTreeClassifier()</pre></div></div></div></div></div></div></div>"
            ]
          },
          "metadata": {},
          "execution_count": 776
        }
      ]
    },
    {
      "cell_type": "markdown",
      "source": [
        "We can then fit this `full_pipeline` to the data:\n",
        "\n",
        "Note: notice that we did not fit the `preprocessor` before —we only fit the pipeline once it has been full assembled."
      ],
      "metadata": {
        "id": "GXRdCfmTfQLW"
      }
    },
    {
      "cell_type": "code",
      "execution_count": 777,
      "metadata": {
        "colab": {
          "base_uri": "https://localhost:8080/",
          "height": 227
        },
        "id": "_LKr9Je_XmR9",
        "outputId": "53234713-2718-4efa-c71b-49c2b7b3f795"
      },
      "outputs": [
        {
          "output_type": "execute_result",
          "data": {
            "text/plain": [
              "Pipeline(steps=[('columntransformer',\n",
              "                 ColumnTransformer(transformers=[('num_pipe',\n",
              "                                                  Pipeline(steps=[('simpleimputer',\n",
              "                                                                   SimpleImputer(strategy='median'))]),\n",
              "                                                  Index(['LotArea', 'LotFrontage', 'TotalBsmtSF', 'BedroomAbvGr', 'Fireplaces',\n",
              "       'PoolArea', 'GarageCars', 'WoodDeckSF', 'ScreenPorch', 'MSSubClass',\n",
              "       'OverallQual', 'OverallCond', 'YearBuilt', 'YearRemodAdd', 'MasVnrA...\n",
              "       'Neighborhood', 'Condition2', 'BldgType', 'HouseStyle', 'RoofStyle',\n",
              "       'RoofMatl', 'Exterior1st', 'Exterior2nd', 'MasVnrType', 'BsmtFinType2',\n",
              "       'HeatingQC', 'Electrical', 'Functional', 'GarageType', 'GarageFinish',\n",
              "       'GarageQual', 'GarageCond', 'PavedDrive', 'PoolQC', 'Fence',\n",
              "       'MiscFeature', 'SaleType', 'SaleCondition'],\n",
              "      dtype='object'))])),\n",
              "                ('decisiontreeclassifier', DecisionTreeClassifier())])"
            ],
            "text/html": [
              "<style>#sk-2dec3968-70c2-4688-b89a-37abf1a1a57a {color: black;background-color: white;}#sk-2dec3968-70c2-4688-b89a-37abf1a1a57a pre{padding: 0;}#sk-2dec3968-70c2-4688-b89a-37abf1a1a57a div.sk-toggleable {background-color: white;}#sk-2dec3968-70c2-4688-b89a-37abf1a1a57a label.sk-toggleable__label {cursor: pointer;display: block;width: 100%;margin-bottom: 0;padding: 0.3em;box-sizing: border-box;text-align: center;}#sk-2dec3968-70c2-4688-b89a-37abf1a1a57a label.sk-toggleable__label-arrow:before {content: \"▸\";float: left;margin-right: 0.25em;color: #696969;}#sk-2dec3968-70c2-4688-b89a-37abf1a1a57a label.sk-toggleable__label-arrow:hover:before {color: black;}#sk-2dec3968-70c2-4688-b89a-37abf1a1a57a div.sk-estimator:hover label.sk-toggleable__label-arrow:before {color: black;}#sk-2dec3968-70c2-4688-b89a-37abf1a1a57a div.sk-toggleable__content {max-height: 0;max-width: 0;overflow: hidden;text-align: left;background-color: #f0f8ff;}#sk-2dec3968-70c2-4688-b89a-37abf1a1a57a div.sk-toggleable__content pre {margin: 0.2em;color: black;border-radius: 0.25em;background-color: #f0f8ff;}#sk-2dec3968-70c2-4688-b89a-37abf1a1a57a input.sk-toggleable__control:checked~div.sk-toggleable__content {max-height: 200px;max-width: 100%;overflow: auto;}#sk-2dec3968-70c2-4688-b89a-37abf1a1a57a input.sk-toggleable__control:checked~label.sk-toggleable__label-arrow:before {content: \"▾\";}#sk-2dec3968-70c2-4688-b89a-37abf1a1a57a div.sk-estimator input.sk-toggleable__control:checked~label.sk-toggleable__label {background-color: #d4ebff;}#sk-2dec3968-70c2-4688-b89a-37abf1a1a57a div.sk-label input.sk-toggleable__control:checked~label.sk-toggleable__label {background-color: #d4ebff;}#sk-2dec3968-70c2-4688-b89a-37abf1a1a57a input.sk-hidden--visually {border: 0;clip: rect(1px 1px 1px 1px);clip: rect(1px, 1px, 1px, 1px);height: 1px;margin: -1px;overflow: hidden;padding: 0;position: absolute;width: 1px;}#sk-2dec3968-70c2-4688-b89a-37abf1a1a57a div.sk-estimator {font-family: monospace;background-color: #f0f8ff;border: 1px dotted black;border-radius: 0.25em;box-sizing: border-box;margin-bottom: 0.5em;}#sk-2dec3968-70c2-4688-b89a-37abf1a1a57a div.sk-estimator:hover {background-color: #d4ebff;}#sk-2dec3968-70c2-4688-b89a-37abf1a1a57a div.sk-parallel-item::after {content: \"\";width: 100%;border-bottom: 1px solid gray;flex-grow: 1;}#sk-2dec3968-70c2-4688-b89a-37abf1a1a57a div.sk-label:hover label.sk-toggleable__label {background-color: #d4ebff;}#sk-2dec3968-70c2-4688-b89a-37abf1a1a57a div.sk-serial::before {content: \"\";position: absolute;border-left: 1px solid gray;box-sizing: border-box;top: 2em;bottom: 0;left: 50%;}#sk-2dec3968-70c2-4688-b89a-37abf1a1a57a div.sk-serial {display: flex;flex-direction: column;align-items: center;background-color: white;padding-right: 0.2em;padding-left: 0.2em;}#sk-2dec3968-70c2-4688-b89a-37abf1a1a57a div.sk-item {z-index: 1;}#sk-2dec3968-70c2-4688-b89a-37abf1a1a57a div.sk-parallel {display: flex;align-items: stretch;justify-content: center;background-color: white;}#sk-2dec3968-70c2-4688-b89a-37abf1a1a57a div.sk-parallel::before {content: \"\";position: absolute;border-left: 1px solid gray;box-sizing: border-box;top: 2em;bottom: 0;left: 50%;}#sk-2dec3968-70c2-4688-b89a-37abf1a1a57a div.sk-parallel-item {display: flex;flex-direction: column;position: relative;background-color: white;}#sk-2dec3968-70c2-4688-b89a-37abf1a1a57a div.sk-parallel-item:first-child::after {align-self: flex-end;width: 50%;}#sk-2dec3968-70c2-4688-b89a-37abf1a1a57a div.sk-parallel-item:last-child::after {align-self: flex-start;width: 50%;}#sk-2dec3968-70c2-4688-b89a-37abf1a1a57a div.sk-parallel-item:only-child::after {width: 0;}#sk-2dec3968-70c2-4688-b89a-37abf1a1a57a div.sk-dashed-wrapped {border: 1px dashed gray;margin: 0 0.4em 0.5em 0.4em;box-sizing: border-box;padding-bottom: 0.4em;background-color: white;position: relative;}#sk-2dec3968-70c2-4688-b89a-37abf1a1a57a div.sk-label label {font-family: monospace;font-weight: bold;background-color: white;display: inline-block;line-height: 1.2em;}#sk-2dec3968-70c2-4688-b89a-37abf1a1a57a div.sk-label-container {position: relative;z-index: 2;text-align: center;}#sk-2dec3968-70c2-4688-b89a-37abf1a1a57a div.sk-container {/* jupyter's `normalize.less` sets `[hidden] { display: none; }` but bootstrap.min.css set `[hidden] { display: none !important; }` so we also need the `!important` here to be able to override the default hidden behavior on the sphinx rendered scikit-learn.org. See: https://github.com/scikit-learn/scikit-learn/issues/21755 */display: inline-block !important;position: relative;}#sk-2dec3968-70c2-4688-b89a-37abf1a1a57a div.sk-text-repr-fallback {display: none;}</style><div id=\"sk-2dec3968-70c2-4688-b89a-37abf1a1a57a\" class=\"sk-top-container\"><div class=\"sk-text-repr-fallback\"><pre>Pipeline(steps=[(&#x27;columntransformer&#x27;,\n",
              "                 ColumnTransformer(transformers=[(&#x27;num_pipe&#x27;,\n",
              "                                                  Pipeline(steps=[(&#x27;simpleimputer&#x27;,\n",
              "                                                                   SimpleImputer(strategy=&#x27;median&#x27;))]),\n",
              "                                                  Index([&#x27;LotArea&#x27;, &#x27;LotFrontage&#x27;, &#x27;TotalBsmtSF&#x27;, &#x27;BedroomAbvGr&#x27;, &#x27;Fireplaces&#x27;,\n",
              "       &#x27;PoolArea&#x27;, &#x27;GarageCars&#x27;, &#x27;WoodDeckSF&#x27;, &#x27;ScreenPorch&#x27;, &#x27;MSSubClass&#x27;,\n",
              "       &#x27;OverallQual&#x27;, &#x27;OverallCond&#x27;, &#x27;YearBuilt&#x27;, &#x27;YearRemodAdd&#x27;, &#x27;MasVnrA...\n",
              "       &#x27;Neighborhood&#x27;, &#x27;Condition2&#x27;, &#x27;BldgType&#x27;, &#x27;HouseStyle&#x27;, &#x27;RoofStyle&#x27;,\n",
              "       &#x27;RoofMatl&#x27;, &#x27;Exterior1st&#x27;, &#x27;Exterior2nd&#x27;, &#x27;MasVnrType&#x27;, &#x27;BsmtFinType2&#x27;,\n",
              "       &#x27;HeatingQC&#x27;, &#x27;Electrical&#x27;, &#x27;Functional&#x27;, &#x27;GarageType&#x27;, &#x27;GarageFinish&#x27;,\n",
              "       &#x27;GarageQual&#x27;, &#x27;GarageCond&#x27;, &#x27;PavedDrive&#x27;, &#x27;PoolQC&#x27;, &#x27;Fence&#x27;,\n",
              "       &#x27;MiscFeature&#x27;, &#x27;SaleType&#x27;, &#x27;SaleCondition&#x27;],\n",
              "      dtype=&#x27;object&#x27;))])),\n",
              "                (&#x27;decisiontreeclassifier&#x27;, DecisionTreeClassifier())])</pre><b>Please rerun this cell to show the HTML repr or trust the notebook.</b></div><div class=\"sk-container\" hidden><div class=\"sk-item sk-dashed-wrapped\"><div class=\"sk-label-container\"><div class=\"sk-label sk-toggleable\"><input class=\"sk-toggleable__control sk-hidden--visually\" id=\"21f6b1b6-a19d-4e4f-a201-2aa74d1b2bb6\" type=\"checkbox\" ><label for=\"21f6b1b6-a19d-4e4f-a201-2aa74d1b2bb6\" class=\"sk-toggleable__label sk-toggleable__label-arrow\">Pipeline</label><div class=\"sk-toggleable__content\"><pre>Pipeline(steps=[(&#x27;columntransformer&#x27;,\n",
              "                 ColumnTransformer(transformers=[(&#x27;num_pipe&#x27;,\n",
              "                                                  Pipeline(steps=[(&#x27;simpleimputer&#x27;,\n",
              "                                                                   SimpleImputer(strategy=&#x27;median&#x27;))]),\n",
              "                                                  Index([&#x27;LotArea&#x27;, &#x27;LotFrontage&#x27;, &#x27;TotalBsmtSF&#x27;, &#x27;BedroomAbvGr&#x27;, &#x27;Fireplaces&#x27;,\n",
              "       &#x27;PoolArea&#x27;, &#x27;GarageCars&#x27;, &#x27;WoodDeckSF&#x27;, &#x27;ScreenPorch&#x27;, &#x27;MSSubClass&#x27;,\n",
              "       &#x27;OverallQual&#x27;, &#x27;OverallCond&#x27;, &#x27;YearBuilt&#x27;, &#x27;YearRemodAdd&#x27;, &#x27;MasVnrA...\n",
              "       &#x27;Neighborhood&#x27;, &#x27;Condition2&#x27;, &#x27;BldgType&#x27;, &#x27;HouseStyle&#x27;, &#x27;RoofStyle&#x27;,\n",
              "       &#x27;RoofMatl&#x27;, &#x27;Exterior1st&#x27;, &#x27;Exterior2nd&#x27;, &#x27;MasVnrType&#x27;, &#x27;BsmtFinType2&#x27;,\n",
              "       &#x27;HeatingQC&#x27;, &#x27;Electrical&#x27;, &#x27;Functional&#x27;, &#x27;GarageType&#x27;, &#x27;GarageFinish&#x27;,\n",
              "       &#x27;GarageQual&#x27;, &#x27;GarageCond&#x27;, &#x27;PavedDrive&#x27;, &#x27;PoolQC&#x27;, &#x27;Fence&#x27;,\n",
              "       &#x27;MiscFeature&#x27;, &#x27;SaleType&#x27;, &#x27;SaleCondition&#x27;],\n",
              "      dtype=&#x27;object&#x27;))])),\n",
              "                (&#x27;decisiontreeclassifier&#x27;, DecisionTreeClassifier())])</pre></div></div></div><div class=\"sk-serial\"><div class=\"sk-item sk-dashed-wrapped\"><div class=\"sk-label-container\"><div class=\"sk-label sk-toggleable\"><input class=\"sk-toggleable__control sk-hidden--visually\" id=\"096ecc49-9f80-4724-bf15-7042c4df0a8d\" type=\"checkbox\" ><label for=\"096ecc49-9f80-4724-bf15-7042c4df0a8d\" class=\"sk-toggleable__label sk-toggleable__label-arrow\">columntransformer: ColumnTransformer</label><div class=\"sk-toggleable__content\"><pre>ColumnTransformer(transformers=[(&#x27;num_pipe&#x27;,\n",
              "                                 Pipeline(steps=[(&#x27;simpleimputer&#x27;,\n",
              "                                                  SimpleImputer(strategy=&#x27;median&#x27;))]),\n",
              "                                 Index([&#x27;LotArea&#x27;, &#x27;LotFrontage&#x27;, &#x27;TotalBsmtSF&#x27;, &#x27;BedroomAbvGr&#x27;, &#x27;Fireplaces&#x27;,\n",
              "       &#x27;PoolArea&#x27;, &#x27;GarageCars&#x27;, &#x27;WoodDeckSF&#x27;, &#x27;ScreenPorch&#x27;, &#x27;MSSubClass&#x27;,\n",
              "       &#x27;OverallQual&#x27;, &#x27;OverallCond&#x27;, &#x27;YearBuilt&#x27;, &#x27;YearRemodAdd&#x27;, &#x27;MasVnrArea&#x27;,\n",
              "       &#x27;BsmtFinSF1&#x27;, &#x27;BsmtFinSF2&#x27;, &#x27;BsmtU...\n",
              "       &#x27;LotShape&#x27;, &#x27;LandContour&#x27;, &#x27;Utilities&#x27;, &#x27;LotConfig&#x27;, &#x27;LandSlope&#x27;,\n",
              "       &#x27;Neighborhood&#x27;, &#x27;Condition2&#x27;, &#x27;BldgType&#x27;, &#x27;HouseStyle&#x27;, &#x27;RoofStyle&#x27;,\n",
              "       &#x27;RoofMatl&#x27;, &#x27;Exterior1st&#x27;, &#x27;Exterior2nd&#x27;, &#x27;MasVnrType&#x27;, &#x27;BsmtFinType2&#x27;,\n",
              "       &#x27;HeatingQC&#x27;, &#x27;Electrical&#x27;, &#x27;Functional&#x27;, &#x27;GarageType&#x27;, &#x27;GarageFinish&#x27;,\n",
              "       &#x27;GarageQual&#x27;, &#x27;GarageCond&#x27;, &#x27;PavedDrive&#x27;, &#x27;PoolQC&#x27;, &#x27;Fence&#x27;,\n",
              "       &#x27;MiscFeature&#x27;, &#x27;SaleType&#x27;, &#x27;SaleCondition&#x27;],\n",
              "      dtype=&#x27;object&#x27;))])</pre></div></div></div><div class=\"sk-parallel\"><div class=\"sk-parallel-item\"><div class=\"sk-item\"><div class=\"sk-label-container\"><div class=\"sk-label sk-toggleable\"><input class=\"sk-toggleable__control sk-hidden--visually\" id=\"bc084fc6-8d5b-484c-ba3c-31333ac36e4c\" type=\"checkbox\" ><label for=\"bc084fc6-8d5b-484c-ba3c-31333ac36e4c\" class=\"sk-toggleable__label sk-toggleable__label-arrow\">num_pipe</label><div class=\"sk-toggleable__content\"><pre>Index([&#x27;LotArea&#x27;, &#x27;LotFrontage&#x27;, &#x27;TotalBsmtSF&#x27;, &#x27;BedroomAbvGr&#x27;, &#x27;Fireplaces&#x27;,\n",
              "       &#x27;PoolArea&#x27;, &#x27;GarageCars&#x27;, &#x27;WoodDeckSF&#x27;, &#x27;ScreenPorch&#x27;, &#x27;MSSubClass&#x27;,\n",
              "       &#x27;OverallQual&#x27;, &#x27;OverallCond&#x27;, &#x27;YearBuilt&#x27;, &#x27;YearRemodAdd&#x27;, &#x27;MasVnrArea&#x27;,\n",
              "       &#x27;BsmtFinSF1&#x27;, &#x27;BsmtFinSF2&#x27;, &#x27;BsmtUnfSF&#x27;, &#x27;1stFlrSF&#x27;, &#x27;2ndFlrSF&#x27;,\n",
              "       &#x27;LowQualFinSF&#x27;, &#x27;GrLivArea&#x27;, &#x27;BsmtFullBath&#x27;, &#x27;BsmtHalfBath&#x27;, &#x27;FullBath&#x27;,\n",
              "       &#x27;HalfBath&#x27;, &#x27;KitchenAbvGr&#x27;, &#x27;TotRmsAbvGrd&#x27;, &#x27;GarageYrBlt&#x27;, &#x27;GarageArea&#x27;,\n",
              "       &#x27;OpenPorchSF&#x27;, &#x27;EnclosedPorch&#x27;, &#x27;3SsnPorch&#x27;, &#x27;MiscVal&#x27;, &#x27;MoSold&#x27;,\n",
              "       &#x27;YrSold&#x27;, &#x27;Id&#x27;],\n",
              "      dtype=&#x27;object&#x27;)</pre></div></div></div><div class=\"sk-serial\"><div class=\"sk-item\"><div class=\"sk-serial\"><div class=\"sk-item\"><div class=\"sk-estimator sk-toggleable\"><input class=\"sk-toggleable__control sk-hidden--visually\" id=\"a1806858-37f4-48be-b015-e32f7e9ec5c4\" type=\"checkbox\" ><label for=\"a1806858-37f4-48be-b015-e32f7e9ec5c4\" class=\"sk-toggleable__label sk-toggleable__label-arrow\">SimpleImputer</label><div class=\"sk-toggleable__content\"><pre>SimpleImputer(strategy=&#x27;median&#x27;)</pre></div></div></div></div></div></div></div></div><div class=\"sk-parallel-item\"><div class=\"sk-item\"><div class=\"sk-label-container\"><div class=\"sk-label sk-toggleable\"><input class=\"sk-toggleable__control sk-hidden--visually\" id=\"429ba02f-16c9-4791-b2b0-a203e9a74123\" type=\"checkbox\" ><label for=\"429ba02f-16c9-4791-b2b0-a203e9a74123\" class=\"sk-toggleable__label sk-toggleable__label-arrow\">cat_pipe</label><div class=\"sk-toggleable__content\"><pre>Index([&#x27;MSZoning&#x27;, &#x27;Condition1&#x27;, &#x27;Heating&#x27;, &#x27;Street&#x27;, &#x27;CentralAir&#x27;,\n",
              "       &#x27;Foundation&#x27;, &#x27;ExterQual&#x27;, &#x27;ExterCond&#x27;, &#x27;BsmtQual&#x27;, &#x27;BsmtCond&#x27;,\n",
              "       &#x27;BsmtExposure&#x27;, &#x27;BsmtFinType1&#x27;, &#x27;KitchenQual&#x27;, &#x27;FireplaceQu&#x27;, &#x27;Alley&#x27;,\n",
              "       &#x27;LotShape&#x27;, &#x27;LandContour&#x27;, &#x27;Utilities&#x27;, &#x27;LotConfig&#x27;, &#x27;LandSlope&#x27;,\n",
              "       &#x27;Neighborhood&#x27;, &#x27;Condition2&#x27;, &#x27;BldgType&#x27;, &#x27;HouseStyle&#x27;, &#x27;RoofStyle&#x27;,\n",
              "       &#x27;RoofMatl&#x27;, &#x27;Exterior1st&#x27;, &#x27;Exterior2nd&#x27;, &#x27;MasVnrType&#x27;, &#x27;BsmtFinType2&#x27;,\n",
              "       &#x27;HeatingQC&#x27;, &#x27;Electrical&#x27;, &#x27;Functional&#x27;, &#x27;GarageType&#x27;, &#x27;GarageFinish&#x27;,\n",
              "       &#x27;GarageQual&#x27;, &#x27;GarageCond&#x27;, &#x27;PavedDrive&#x27;, &#x27;PoolQC&#x27;, &#x27;Fence&#x27;,\n",
              "       &#x27;MiscFeature&#x27;, &#x27;SaleType&#x27;, &#x27;SaleCondition&#x27;],\n",
              "      dtype=&#x27;object&#x27;)</pre></div></div></div><div class=\"sk-serial\"><div class=\"sk-item\"><div class=\"sk-serial\"><div class=\"sk-item\"><div class=\"sk-estimator sk-toggleable\"><input class=\"sk-toggleable__control sk-hidden--visually\" id=\"d82ac89e-6170-442a-a63e-f7620d82db31\" type=\"checkbox\" ><label for=\"d82ac89e-6170-442a-a63e-f7620d82db31\" class=\"sk-toggleable__label sk-toggleable__label-arrow\">SimpleImputer</label><div class=\"sk-toggleable__content\"><pre>SimpleImputer(strategy=&#x27;most_frequent&#x27;)</pre></div></div></div><div class=\"sk-item\"><div class=\"sk-estimator sk-toggleable\"><input class=\"sk-toggleable__control sk-hidden--visually\" id=\"8afe472a-7bec-4f5c-96e7-c1c91180bfcb\" type=\"checkbox\" ><label for=\"8afe472a-7bec-4f5c-96e7-c1c91180bfcb\" class=\"sk-toggleable__label sk-toggleable__label-arrow\">OneHotEncoder</label><div class=\"sk-toggleable__content\"><pre>OneHotEncoder(handle_unknown=&#x27;ignore&#x27;)</pre></div></div></div></div></div></div></div></div></div></div><div class=\"sk-item\"><div class=\"sk-estimator sk-toggleable\"><input class=\"sk-toggleable__control sk-hidden--visually\" id=\"658b1e16-74d8-4b76-9ab4-f830beb88511\" type=\"checkbox\" ><label for=\"658b1e16-74d8-4b76-9ab4-f830beb88511\" class=\"sk-toggleable__label sk-toggleable__label-arrow\">DecisionTreeClassifier</label><div class=\"sk-toggleable__content\"><pre>DecisionTreeClassifier()</pre></div></div></div></div></div></div></div>"
            ]
          },
          "metadata": {},
          "execution_count": 777
        }
      ],
      "source": [
        "full_pipeline.fit(X_train, y_train)"
      ]
    },
    {
      "cell_type": "code",
      "source": [
        "full_pipeline.predict(X_train)"
      ],
      "metadata": {
        "colab": {
          "base_uri": "https://localhost:8080/"
        },
        "id": "0jkjqBvVC6tG",
        "outputId": "cde6538b-1223-4dec-8d10-7840124e5c6e"
      },
      "execution_count": 778,
      "outputs": [
        {
          "output_type": "execute_result",
          "data": {
            "text/plain": [
              "array([0, 1, 0, ..., 0, 0, 0])"
            ]
          },
          "metadata": {},
          "execution_count": 778
        }
      ]
    },
    {
      "cell_type": "markdown",
      "source": [
        "This full pipeline can make predictions, as any othet pipeline that ends with a model:"
      ],
      "metadata": {
        "id": "ldW3NIyxflGp"
      }
    },
    {
      "cell_type": "markdown",
      "source": [
        "We are basically asking to combine what you have learned in this notebook (categorical encoding & branches) with what you learned in the previous one (using GridSearchCV for a whole Pipeline).\n"
      ],
      "metadata": {
        "id": "8cLc504w3gFG"
      }
    },
    {
      "cell_type": "code",
      "execution_count": 779,
      "metadata": {
        "id": "0KtztiVgXmR-",
        "colab": {
          "base_uri": "https://localhost:8080/",
          "height": 246
        },
        "outputId": "c4479c36-c73f-4508-c40e-1af053364c18"
      },
      "outputs": [
        {
          "output_type": "stream",
          "name": "stdout",
          "text": [
            "Fitting 10 folds for each of 504 candidates, totalling 5040 fits\n"
          ]
        },
        {
          "output_type": "execute_result",
          "data": {
            "text/plain": [
              "GridSearchCV(cv=10,\n",
              "             estimator=Pipeline(steps=[('columntransformer',\n",
              "                                        ColumnTransformer(transformers=[('num_pipe',\n",
              "                                                                         Pipeline(steps=[('simpleimputer',\n",
              "                                                                                          SimpleImputer(strategy='median'))]),\n",
              "                                                                         Index(['LotArea', 'LotFrontage', 'TotalBsmtSF', 'BedroomAbvGr', 'Fireplaces',\n",
              "       'PoolArea', 'GarageCars', 'WoodDeckSF', 'ScreenPorch', 'MSSubClass',\n",
              "       'OverallQual', 'OverallCond', 'YearB...\n",
              "       'MiscFeature', 'SaleType', 'SaleCondition'],\n",
              "      dtype='object'))])),\n",
              "                                       ('decisiontreeclassifier',\n",
              "                                        DecisionTreeClassifier())]),\n",
              "             param_grid={'columntransformer__num_pipe__simpleimputer__strategy': ['mean',\n",
              "                                                                                  'median'],\n",
              "                         'decisiontreeclassifier__criterion': ['gini',\n",
              "                                                               'entropy'],\n",
              "                         'decisiontreeclassifier__max_depth': range(2, 30, 2),\n",
              "                         'decisiontreeclassifier__min_samples_leaf': range(3, 20, 2)},\n",
              "             verbose=1)"
            ],
            "text/html": [
              "<style>#sk-696d706c-36a3-411b-a3b4-b2f3b42a58c5 {color: black;background-color: white;}#sk-696d706c-36a3-411b-a3b4-b2f3b42a58c5 pre{padding: 0;}#sk-696d706c-36a3-411b-a3b4-b2f3b42a58c5 div.sk-toggleable {background-color: white;}#sk-696d706c-36a3-411b-a3b4-b2f3b42a58c5 label.sk-toggleable__label {cursor: pointer;display: block;width: 100%;margin-bottom: 0;padding: 0.3em;box-sizing: border-box;text-align: center;}#sk-696d706c-36a3-411b-a3b4-b2f3b42a58c5 label.sk-toggleable__label-arrow:before {content: \"▸\";float: left;margin-right: 0.25em;color: #696969;}#sk-696d706c-36a3-411b-a3b4-b2f3b42a58c5 label.sk-toggleable__label-arrow:hover:before {color: black;}#sk-696d706c-36a3-411b-a3b4-b2f3b42a58c5 div.sk-estimator:hover label.sk-toggleable__label-arrow:before {color: black;}#sk-696d706c-36a3-411b-a3b4-b2f3b42a58c5 div.sk-toggleable__content {max-height: 0;max-width: 0;overflow: hidden;text-align: left;background-color: #f0f8ff;}#sk-696d706c-36a3-411b-a3b4-b2f3b42a58c5 div.sk-toggleable__content pre {margin: 0.2em;color: black;border-radius: 0.25em;background-color: #f0f8ff;}#sk-696d706c-36a3-411b-a3b4-b2f3b42a58c5 input.sk-toggleable__control:checked~div.sk-toggleable__content {max-height: 200px;max-width: 100%;overflow: auto;}#sk-696d706c-36a3-411b-a3b4-b2f3b42a58c5 input.sk-toggleable__control:checked~label.sk-toggleable__label-arrow:before {content: \"▾\";}#sk-696d706c-36a3-411b-a3b4-b2f3b42a58c5 div.sk-estimator input.sk-toggleable__control:checked~label.sk-toggleable__label {background-color: #d4ebff;}#sk-696d706c-36a3-411b-a3b4-b2f3b42a58c5 div.sk-label input.sk-toggleable__control:checked~label.sk-toggleable__label {background-color: #d4ebff;}#sk-696d706c-36a3-411b-a3b4-b2f3b42a58c5 input.sk-hidden--visually {border: 0;clip: rect(1px 1px 1px 1px);clip: rect(1px, 1px, 1px, 1px);height: 1px;margin: -1px;overflow: hidden;padding: 0;position: absolute;width: 1px;}#sk-696d706c-36a3-411b-a3b4-b2f3b42a58c5 div.sk-estimator {font-family: monospace;background-color: #f0f8ff;border: 1px dotted black;border-radius: 0.25em;box-sizing: border-box;margin-bottom: 0.5em;}#sk-696d706c-36a3-411b-a3b4-b2f3b42a58c5 div.sk-estimator:hover {background-color: #d4ebff;}#sk-696d706c-36a3-411b-a3b4-b2f3b42a58c5 div.sk-parallel-item::after {content: \"\";width: 100%;border-bottom: 1px solid gray;flex-grow: 1;}#sk-696d706c-36a3-411b-a3b4-b2f3b42a58c5 div.sk-label:hover label.sk-toggleable__label {background-color: #d4ebff;}#sk-696d706c-36a3-411b-a3b4-b2f3b42a58c5 div.sk-serial::before {content: \"\";position: absolute;border-left: 1px solid gray;box-sizing: border-box;top: 2em;bottom: 0;left: 50%;}#sk-696d706c-36a3-411b-a3b4-b2f3b42a58c5 div.sk-serial {display: flex;flex-direction: column;align-items: center;background-color: white;padding-right: 0.2em;padding-left: 0.2em;}#sk-696d706c-36a3-411b-a3b4-b2f3b42a58c5 div.sk-item {z-index: 1;}#sk-696d706c-36a3-411b-a3b4-b2f3b42a58c5 div.sk-parallel {display: flex;align-items: stretch;justify-content: center;background-color: white;}#sk-696d706c-36a3-411b-a3b4-b2f3b42a58c5 div.sk-parallel::before {content: \"\";position: absolute;border-left: 1px solid gray;box-sizing: border-box;top: 2em;bottom: 0;left: 50%;}#sk-696d706c-36a3-411b-a3b4-b2f3b42a58c5 div.sk-parallel-item {display: flex;flex-direction: column;position: relative;background-color: white;}#sk-696d706c-36a3-411b-a3b4-b2f3b42a58c5 div.sk-parallel-item:first-child::after {align-self: flex-end;width: 50%;}#sk-696d706c-36a3-411b-a3b4-b2f3b42a58c5 div.sk-parallel-item:last-child::after {align-self: flex-start;width: 50%;}#sk-696d706c-36a3-411b-a3b4-b2f3b42a58c5 div.sk-parallel-item:only-child::after {width: 0;}#sk-696d706c-36a3-411b-a3b4-b2f3b42a58c5 div.sk-dashed-wrapped {border: 1px dashed gray;margin: 0 0.4em 0.5em 0.4em;box-sizing: border-box;padding-bottom: 0.4em;background-color: white;position: relative;}#sk-696d706c-36a3-411b-a3b4-b2f3b42a58c5 div.sk-label label {font-family: monospace;font-weight: bold;background-color: white;display: inline-block;line-height: 1.2em;}#sk-696d706c-36a3-411b-a3b4-b2f3b42a58c5 div.sk-label-container {position: relative;z-index: 2;text-align: center;}#sk-696d706c-36a3-411b-a3b4-b2f3b42a58c5 div.sk-container {/* jupyter's `normalize.less` sets `[hidden] { display: none; }` but bootstrap.min.css set `[hidden] { display: none !important; }` so we also need the `!important` here to be able to override the default hidden behavior on the sphinx rendered scikit-learn.org. See: https://github.com/scikit-learn/scikit-learn/issues/21755 */display: inline-block !important;position: relative;}#sk-696d706c-36a3-411b-a3b4-b2f3b42a58c5 div.sk-text-repr-fallback {display: none;}</style><div id=\"sk-696d706c-36a3-411b-a3b4-b2f3b42a58c5\" class=\"sk-top-container\"><div class=\"sk-text-repr-fallback\"><pre>GridSearchCV(cv=10,\n",
              "             estimator=Pipeline(steps=[(&#x27;columntransformer&#x27;,\n",
              "                                        ColumnTransformer(transformers=[(&#x27;num_pipe&#x27;,\n",
              "                                                                         Pipeline(steps=[(&#x27;simpleimputer&#x27;,\n",
              "                                                                                          SimpleImputer(strategy=&#x27;median&#x27;))]),\n",
              "                                                                         Index([&#x27;LotArea&#x27;, &#x27;LotFrontage&#x27;, &#x27;TotalBsmtSF&#x27;, &#x27;BedroomAbvGr&#x27;, &#x27;Fireplaces&#x27;,\n",
              "       &#x27;PoolArea&#x27;, &#x27;GarageCars&#x27;, &#x27;WoodDeckSF&#x27;, &#x27;ScreenPorch&#x27;, &#x27;MSSubClass&#x27;,\n",
              "       &#x27;OverallQual&#x27;, &#x27;OverallCond&#x27;, &#x27;YearB...\n",
              "       &#x27;MiscFeature&#x27;, &#x27;SaleType&#x27;, &#x27;SaleCondition&#x27;],\n",
              "      dtype=&#x27;object&#x27;))])),\n",
              "                                       (&#x27;decisiontreeclassifier&#x27;,\n",
              "                                        DecisionTreeClassifier())]),\n",
              "             param_grid={&#x27;columntransformer__num_pipe__simpleimputer__strategy&#x27;: [&#x27;mean&#x27;,\n",
              "                                                                                  &#x27;median&#x27;],\n",
              "                         &#x27;decisiontreeclassifier__criterion&#x27;: [&#x27;gini&#x27;,\n",
              "                                                               &#x27;entropy&#x27;],\n",
              "                         &#x27;decisiontreeclassifier__max_depth&#x27;: range(2, 30, 2),\n",
              "                         &#x27;decisiontreeclassifier__min_samples_leaf&#x27;: range(3, 20, 2)},\n",
              "             verbose=1)</pre><b>Please rerun this cell to show the HTML repr or trust the notebook.</b></div><div class=\"sk-container\" hidden><div class=\"sk-item sk-dashed-wrapped\"><div class=\"sk-label-container\"><div class=\"sk-label sk-toggleable\"><input class=\"sk-toggleable__control sk-hidden--visually\" id=\"557951c3-0315-47a5-809c-40b409d31a26\" type=\"checkbox\" ><label for=\"557951c3-0315-47a5-809c-40b409d31a26\" class=\"sk-toggleable__label sk-toggleable__label-arrow\">GridSearchCV</label><div class=\"sk-toggleable__content\"><pre>GridSearchCV(cv=10,\n",
              "             estimator=Pipeline(steps=[(&#x27;columntransformer&#x27;,\n",
              "                                        ColumnTransformer(transformers=[(&#x27;num_pipe&#x27;,\n",
              "                                                                         Pipeline(steps=[(&#x27;simpleimputer&#x27;,\n",
              "                                                                                          SimpleImputer(strategy=&#x27;median&#x27;))]),\n",
              "                                                                         Index([&#x27;LotArea&#x27;, &#x27;LotFrontage&#x27;, &#x27;TotalBsmtSF&#x27;, &#x27;BedroomAbvGr&#x27;, &#x27;Fireplaces&#x27;,\n",
              "       &#x27;PoolArea&#x27;, &#x27;GarageCars&#x27;, &#x27;WoodDeckSF&#x27;, &#x27;ScreenPorch&#x27;, &#x27;MSSubClass&#x27;,\n",
              "       &#x27;OverallQual&#x27;, &#x27;OverallCond&#x27;, &#x27;YearB...\n",
              "       &#x27;MiscFeature&#x27;, &#x27;SaleType&#x27;, &#x27;SaleCondition&#x27;],\n",
              "      dtype=&#x27;object&#x27;))])),\n",
              "                                       (&#x27;decisiontreeclassifier&#x27;,\n",
              "                                        DecisionTreeClassifier())]),\n",
              "             param_grid={&#x27;columntransformer__num_pipe__simpleimputer__strategy&#x27;: [&#x27;mean&#x27;,\n",
              "                                                                                  &#x27;median&#x27;],\n",
              "                         &#x27;decisiontreeclassifier__criterion&#x27;: [&#x27;gini&#x27;,\n",
              "                                                               &#x27;entropy&#x27;],\n",
              "                         &#x27;decisiontreeclassifier__max_depth&#x27;: range(2, 30, 2),\n",
              "                         &#x27;decisiontreeclassifier__min_samples_leaf&#x27;: range(3, 20, 2)},\n",
              "             verbose=1)</pre></div></div></div><div class=\"sk-parallel\"><div class=\"sk-parallel-item\"><div class=\"sk-item\"><div class=\"sk-serial\"><div class=\"sk-item\"><div class=\"sk-serial\"><div class=\"sk-item sk-dashed-wrapped\"><div class=\"sk-label-container\"><div class=\"sk-label sk-toggleable\"><input class=\"sk-toggleable__control sk-hidden--visually\" id=\"849c6b5e-48d7-4979-ae33-983becebec8e\" type=\"checkbox\" ><label for=\"849c6b5e-48d7-4979-ae33-983becebec8e\" class=\"sk-toggleable__label sk-toggleable__label-arrow\">columntransformer: ColumnTransformer</label><div class=\"sk-toggleable__content\"><pre>ColumnTransformer(transformers=[(&#x27;num_pipe&#x27;,\n",
              "                                 Pipeline(steps=[(&#x27;simpleimputer&#x27;,\n",
              "                                                  SimpleImputer(strategy=&#x27;median&#x27;))]),\n",
              "                                 Index([&#x27;LotArea&#x27;, &#x27;LotFrontage&#x27;, &#x27;TotalBsmtSF&#x27;, &#x27;BedroomAbvGr&#x27;, &#x27;Fireplaces&#x27;,\n",
              "       &#x27;PoolArea&#x27;, &#x27;GarageCars&#x27;, &#x27;WoodDeckSF&#x27;, &#x27;ScreenPorch&#x27;, &#x27;MSSubClass&#x27;,\n",
              "       &#x27;OverallQual&#x27;, &#x27;OverallCond&#x27;, &#x27;YearBuilt&#x27;, &#x27;YearRemodAdd&#x27;, &#x27;MasVnrArea&#x27;,\n",
              "       &#x27;BsmtFinSF1&#x27;, &#x27;BsmtFinSF2&#x27;, &#x27;BsmtU...\n",
              "       &#x27;LotShape&#x27;, &#x27;LandContour&#x27;, &#x27;Utilities&#x27;, &#x27;LotConfig&#x27;, &#x27;LandSlope&#x27;,\n",
              "       &#x27;Neighborhood&#x27;, &#x27;Condition2&#x27;, &#x27;BldgType&#x27;, &#x27;HouseStyle&#x27;, &#x27;RoofStyle&#x27;,\n",
              "       &#x27;RoofMatl&#x27;, &#x27;Exterior1st&#x27;, &#x27;Exterior2nd&#x27;, &#x27;MasVnrType&#x27;, &#x27;BsmtFinType2&#x27;,\n",
              "       &#x27;HeatingQC&#x27;, &#x27;Electrical&#x27;, &#x27;Functional&#x27;, &#x27;GarageType&#x27;, &#x27;GarageFinish&#x27;,\n",
              "       &#x27;GarageQual&#x27;, &#x27;GarageCond&#x27;, &#x27;PavedDrive&#x27;, &#x27;PoolQC&#x27;, &#x27;Fence&#x27;,\n",
              "       &#x27;MiscFeature&#x27;, &#x27;SaleType&#x27;, &#x27;SaleCondition&#x27;],\n",
              "      dtype=&#x27;object&#x27;))])</pre></div></div></div><div class=\"sk-parallel\"><div class=\"sk-parallel-item\"><div class=\"sk-item\"><div class=\"sk-label-container\"><div class=\"sk-label sk-toggleable\"><input class=\"sk-toggleable__control sk-hidden--visually\" id=\"33237800-6386-462f-9746-69003ea3b470\" type=\"checkbox\" ><label for=\"33237800-6386-462f-9746-69003ea3b470\" class=\"sk-toggleable__label sk-toggleable__label-arrow\">num_pipe</label><div class=\"sk-toggleable__content\"><pre>Index([&#x27;LotArea&#x27;, &#x27;LotFrontage&#x27;, &#x27;TotalBsmtSF&#x27;, &#x27;BedroomAbvGr&#x27;, &#x27;Fireplaces&#x27;,\n",
              "       &#x27;PoolArea&#x27;, &#x27;GarageCars&#x27;, &#x27;WoodDeckSF&#x27;, &#x27;ScreenPorch&#x27;, &#x27;MSSubClass&#x27;,\n",
              "       &#x27;OverallQual&#x27;, &#x27;OverallCond&#x27;, &#x27;YearBuilt&#x27;, &#x27;YearRemodAdd&#x27;, &#x27;MasVnrArea&#x27;,\n",
              "       &#x27;BsmtFinSF1&#x27;, &#x27;BsmtFinSF2&#x27;, &#x27;BsmtUnfSF&#x27;, &#x27;1stFlrSF&#x27;, &#x27;2ndFlrSF&#x27;,\n",
              "       &#x27;LowQualFinSF&#x27;, &#x27;GrLivArea&#x27;, &#x27;BsmtFullBath&#x27;, &#x27;BsmtHalfBath&#x27;, &#x27;FullBath&#x27;,\n",
              "       &#x27;HalfBath&#x27;, &#x27;KitchenAbvGr&#x27;, &#x27;TotRmsAbvGrd&#x27;, &#x27;GarageYrBlt&#x27;, &#x27;GarageArea&#x27;,\n",
              "       &#x27;OpenPorchSF&#x27;, &#x27;EnclosedPorch&#x27;, &#x27;3SsnPorch&#x27;, &#x27;MiscVal&#x27;, &#x27;MoSold&#x27;,\n",
              "       &#x27;YrSold&#x27;, &#x27;Id&#x27;],\n",
              "      dtype=&#x27;object&#x27;)</pre></div></div></div><div class=\"sk-serial\"><div class=\"sk-item\"><div class=\"sk-serial\"><div class=\"sk-item\"><div class=\"sk-estimator sk-toggleable\"><input class=\"sk-toggleable__control sk-hidden--visually\" id=\"2c065bec-3ebd-4414-b709-867b74bbbcd5\" type=\"checkbox\" ><label for=\"2c065bec-3ebd-4414-b709-867b74bbbcd5\" class=\"sk-toggleable__label sk-toggleable__label-arrow\">SimpleImputer</label><div class=\"sk-toggleable__content\"><pre>SimpleImputer(strategy=&#x27;median&#x27;)</pre></div></div></div></div></div></div></div></div><div class=\"sk-parallel-item\"><div class=\"sk-item\"><div class=\"sk-label-container\"><div class=\"sk-label sk-toggleable\"><input class=\"sk-toggleable__control sk-hidden--visually\" id=\"a2097a13-b6ed-4ecd-996c-9d6c58c8c73e\" type=\"checkbox\" ><label for=\"a2097a13-b6ed-4ecd-996c-9d6c58c8c73e\" class=\"sk-toggleable__label sk-toggleable__label-arrow\">cat_pipe</label><div class=\"sk-toggleable__content\"><pre>Index([&#x27;MSZoning&#x27;, &#x27;Condition1&#x27;, &#x27;Heating&#x27;, &#x27;Street&#x27;, &#x27;CentralAir&#x27;,\n",
              "       &#x27;Foundation&#x27;, &#x27;ExterQual&#x27;, &#x27;ExterCond&#x27;, &#x27;BsmtQual&#x27;, &#x27;BsmtCond&#x27;,\n",
              "       &#x27;BsmtExposure&#x27;, &#x27;BsmtFinType1&#x27;, &#x27;KitchenQual&#x27;, &#x27;FireplaceQu&#x27;, &#x27;Alley&#x27;,\n",
              "       &#x27;LotShape&#x27;, &#x27;LandContour&#x27;, &#x27;Utilities&#x27;, &#x27;LotConfig&#x27;, &#x27;LandSlope&#x27;,\n",
              "       &#x27;Neighborhood&#x27;, &#x27;Condition2&#x27;, &#x27;BldgType&#x27;, &#x27;HouseStyle&#x27;, &#x27;RoofStyle&#x27;,\n",
              "       &#x27;RoofMatl&#x27;, &#x27;Exterior1st&#x27;, &#x27;Exterior2nd&#x27;, &#x27;MasVnrType&#x27;, &#x27;BsmtFinType2&#x27;,\n",
              "       &#x27;HeatingQC&#x27;, &#x27;Electrical&#x27;, &#x27;Functional&#x27;, &#x27;GarageType&#x27;, &#x27;GarageFinish&#x27;,\n",
              "       &#x27;GarageQual&#x27;, &#x27;GarageCond&#x27;, &#x27;PavedDrive&#x27;, &#x27;PoolQC&#x27;, &#x27;Fence&#x27;,\n",
              "       &#x27;MiscFeature&#x27;, &#x27;SaleType&#x27;, &#x27;SaleCondition&#x27;],\n",
              "      dtype=&#x27;object&#x27;)</pre></div></div></div><div class=\"sk-serial\"><div class=\"sk-item\"><div class=\"sk-serial\"><div class=\"sk-item\"><div class=\"sk-estimator sk-toggleable\"><input class=\"sk-toggleable__control sk-hidden--visually\" id=\"b79fe852-1fa7-427b-80d0-3b082d55a8a6\" type=\"checkbox\" ><label for=\"b79fe852-1fa7-427b-80d0-3b082d55a8a6\" class=\"sk-toggleable__label sk-toggleable__label-arrow\">SimpleImputer</label><div class=\"sk-toggleable__content\"><pre>SimpleImputer(strategy=&#x27;most_frequent&#x27;)</pre></div></div></div><div class=\"sk-item\"><div class=\"sk-estimator sk-toggleable\"><input class=\"sk-toggleable__control sk-hidden--visually\" id=\"f2f9a0f9-2724-462b-bb2c-13a04f32a27c\" type=\"checkbox\" ><label for=\"f2f9a0f9-2724-462b-bb2c-13a04f32a27c\" class=\"sk-toggleable__label sk-toggleable__label-arrow\">OneHotEncoder</label><div class=\"sk-toggleable__content\"><pre>OneHotEncoder(handle_unknown=&#x27;ignore&#x27;)</pre></div></div></div></div></div></div></div></div></div></div><div class=\"sk-item\"><div class=\"sk-estimator sk-toggleable\"><input class=\"sk-toggleable__control sk-hidden--visually\" id=\"2498d3f9-4821-4b1b-bac0-0bb7e1b2ce78\" type=\"checkbox\" ><label for=\"2498d3f9-4821-4b1b-bac0-0bb7e1b2ce78\" class=\"sk-toggleable__label sk-toggleable__label-arrow\">DecisionTreeClassifier</label><div class=\"sk-toggleable__content\"><pre>DecisionTreeClassifier()</pre></div></div></div></div></div></div></div></div></div></div></div></div>"
            ]
          },
          "metadata": {},
          "execution_count": 779
        }
      ],
      "source": [
        "\n",
        "from sklearn.model_selection import GridSearchCV\n",
        "\n",
        "full_pipeline = make_pipeline(preprocessor, \n",
        "                              DecisionTreeClassifier())\n",
        "\n",
        "param_grid = {\n",
        "    \"columntransformer__num_pipe__simpleimputer__strategy\":[\"mean\", \"median\"],\n",
        "    \"decisiontreeclassifier__max_depth\": range(2, 30, 2),\n",
        "    \"decisiontreeclassifier__min_samples_leaf\": range(3, 20, 2),\n",
        "    \"decisiontreeclassifier__criterion\":[\"gini\",\"entropy\"]\n",
        "}\n",
        "\n",
        "search = GridSearchCV(full_pipeline,\n",
        "                      param_grid,\n",
        "                      cv=10,\n",
        "                      verbose=1)\n",
        "\n",
        "search.fit(X_train, y_train)"
      ]
    },
    {
      "cell_type": "code",
      "source": [
        "search.best_params_"
      ],
      "metadata": {
        "colab": {
          "base_uri": "https://localhost:8080/"
        },
        "id": "0w8RZuQ-8IYP",
        "outputId": "314f7f36-68af-4ed2-f066-92923a0ae5ed"
      },
      "execution_count": 780,
      "outputs": [
        {
          "output_type": "execute_result",
          "data": {
            "text/plain": [
              "{'columntransformer__num_pipe__simpleimputer__strategy': 'mean',\n",
              " 'decisiontreeclassifier__criterion': 'entropy',\n",
              " 'decisiontreeclassifier__max_depth': 20,\n",
              " 'decisiontreeclassifier__min_samples_leaf': 13}"
            ]
          },
          "metadata": {},
          "execution_count": 780
        }
      ]
    },
    {
      "cell_type": "code",
      "source": [
        "# cross validation average accuracy\n",
        "search.best_score_"
      ],
      "metadata": {
        "colab": {
          "base_uri": "https://localhost:8080/"
        },
        "id": "VBjSdMwA8IVG",
        "outputId": "15639b3b-2eec-42d3-acd2-845e1dfd1866"
      },
      "execution_count": 781,
      "outputs": [
        {
          "output_type": "execute_result",
          "data": {
            "text/plain": [
              "0.9298334806955497"
            ]
          },
          "metadata": {},
          "execution_count": 781
        }
      ]
    },
    {
      "cell_type": "code",
      "source": [
        "# training accuracy\n",
        "y_train_pred = search.predict(X_train)\n",
        "\n",
        "train_accuracy= accuracy_score(y_train, y_train_pred)\n",
        "\n",
        "round(train_accuracy, 2)"
      ],
      "metadata": {
        "colab": {
          "base_uri": "https://localhost:8080/"
        },
        "id": "jPt8ZvZ48IQp",
        "outputId": "c2ceb2a9-f09d-4e98-fef5-4d135cc2e3c6"
      },
      "execution_count": 782,
      "outputs": [
        {
          "output_type": "execute_result",
          "data": {
            "text/plain": [
              "0.95"
            ]
          },
          "metadata": {},
          "execution_count": 782
        }
      ]
    },
    {
      "cell_type": "code",
      "source": [
        "# testing accuracy\n",
        "y_test_pred = search.predict(X_test)\n",
        "\n",
        "test_accuracy= accuracy_score(y_test, y_test_pred)\n",
        "\n",
        "round(test_accuracy, 2)"
      ],
      "metadata": {
        "colab": {
          "base_uri": "https://localhost:8080/"
        },
        "id": "qZlB-Bnt8IOf",
        "outputId": "7018bab9-34dc-4b09-9c1a-fddb654ea1ac"
      },
      "execution_count": 783,
      "outputs": [
        {
          "output_type": "execute_result",
          "data": {
            "text/plain": [
              "0.95"
            ]
          },
          "metadata": {},
          "execution_count": 783
        }
      ]
    },
    {
      "cell_type": "markdown",
      "source": [
        "### confusion matrix\n"
      ],
      "metadata": {
        "id": "T86Ym2Gk9JQ3"
      }
    },
    {
      "cell_type": "code",
      "source": [
        "from sklearn.metrics import confusion_matrix\n",
        "\n",
        "confusion_matrix= confusion_matrix(y_test, y_test_pred, labels=None, sample_weight=None, normalize=None)\n",
        "confusion_matrix"
      ],
      "metadata": {
        "colab": {
          "base_uri": "https://localhost:8080/"
        },
        "id": "kcI0VSzo8eJ_",
        "outputId": "4941a468-7e97-4453-d958-509353326326"
      },
      "execution_count": 784,
      "outputs": [
        {
          "output_type": "execute_result",
          "data": {
            "text/plain": [
              "array([[239,   6],\n",
              "       [ 10,  37]])"
            ]
          },
          "metadata": {},
          "execution_count": 784
        }
      ]
    },
    {
      "cell_type": "code",
      "source": [
        "from sklearn.metrics import classification_report\n",
        "\n",
        "classification_report(y_test, y_test_pred,labels=None, target_names=None, sample_weight=None, digits=2, output_dict=False, zero_division='warn')"
      ],
      "metadata": {
        "colab": {
          "base_uri": "https://localhost:8080/",
          "height": 72
        },
        "id": "G2MLVocl8eNJ",
        "outputId": "f6a30262-1476-4d75-98dc-1a19081d310d"
      },
      "execution_count": 785,
      "outputs": [
        {
          "output_type": "execute_result",
          "data": {
            "text/plain": [
              "'              precision    recall  f1-score   support\\n\\n           0       0.96      0.98      0.97       245\\n           1       0.86      0.79      0.82        47\\n\\n    accuracy                           0.95       292\\n   macro avg       0.91      0.88      0.89       292\\nweighted avg       0.94      0.95      0.94       292\\n'"
            ],
            "application/vnd.google.colaboratory.intrinsic+json": {
              "type": "string"
            }
          },
          "metadata": {},
          "execution_count": 785
        }
      ]
    },
    {
      "cell_type": "code",
      "source": [
        "print(classification_report(y_test, y_test_pred))"
      ],
      "metadata": {
        "colab": {
          "base_uri": "https://localhost:8080/"
        },
        "id": "bBSIxGrQ8eb8",
        "outputId": "0d399756-29e0-4707-9cd8-bb97a145a45e"
      },
      "execution_count": 786,
      "outputs": [
        {
          "output_type": "stream",
          "name": "stdout",
          "text": [
            "              precision    recall  f1-score   support\n",
            "\n",
            "           0       0.96      0.98      0.97       245\n",
            "           1       0.86      0.79      0.82        47\n",
            "\n",
            "    accuracy                           0.95       292\n",
            "   macro avg       0.91      0.88      0.89       292\n",
            "weighted avg       0.94      0.95      0.94       292\n",
            "\n"
          ]
        }
      ]
    },
    {
      "cell_type": "code",
      "source": [
        "from sklearn.metrics import ConfusionMatrixDisplay\n",
        "import matplotlib.pyplot as plt\n",
        "\n",
        "display= ConfusionMatrixDisplay(confusion_matrix,display_labels=['Expensive','cheap'])\n",
        "display.plot()\n",
        "plt.show()"
      ],
      "metadata": {
        "colab": {
          "base_uri": "https://localhost:8080/",
          "height": 279
        },
        "id": "5AZE1XzW8efE",
        "outputId": "ba109063-e4c8-4fe2-f89a-21be15829ebe"
      },
      "execution_count": 787,
      "outputs": [
        {
          "output_type": "display_data",
          "data": {
            "text/plain": [
              "<Figure size 432x288 with 2 Axes>"
            ],
            "image/png": "[encoded data removed]"
          },
          "metadata": {
            "needs_background": "light"
          }
        }
      ]
    },
    {
      "cell_type": "markdown",
      "source": [
        "For Test"
      ],
      "metadata": {
        "id": "v9kfW1HvmdKl"
      }
    },
    {
      "cell_type": "code",
      "source": [
        "data1 =df = pd.read_csv(\"/content/drive/MyDrive/Colab Notebooks/test.csv\") #reading data from csv\n",
        "data1.shape"
      ],
      "metadata": {
        "colab": {
          "base_uri": "https://localhost:8080/"
        },
        "id": "G3j8Hv3Def9I",
        "outputId": "c9c53275-49d5-43f8-993b-2bdd23e9d5ee"
      },
      "execution_count": 788,
      "outputs": [
        {
          "output_type": "execute_result",
          "data": {
            "text/plain": [
              "(1459, 80)"
            ]
          },
          "metadata": {},
          "execution_count": 788
        }
      ]
    },
    {
      "cell_type": "code",
      "source": [
        "testtest= search.predict(data1)"
      ],
      "metadata": {
        "id": "QT7-lMKWfkMH"
      },
      "execution_count": 789,
      "outputs": []
    },
    {
      "cell_type": "code",
      "source": [
        "data1[\"Expensive\"] = testtest"
      ],
      "metadata": {
        "id": "53Ms9Ds5fkEg"
      },
      "execution_count": 790,
      "outputs": []
    },
    {
      "cell_type": "code",
      "source": [
        "data1[\"Expensive\"]"
      ],
      "metadata": {
        "colab": {
          "base_uri": "https://localhost:8080/"
        },
        "id": "Zxv72-jtfj3M",
        "outputId": "928fb251-204f-4e92-fe64-8fbd6d35ac58"
      },
      "execution_count": 791,
      "outputs": [
        {
          "output_type": "execute_result",
          "data": {
            "text/plain": [
              "0       0\n",
              "1       0\n",
              "2       0\n",
              "3       0\n",
              "4       0\n",
              "       ..\n",
              "1454    0\n",
              "1455    0\n",
              "1456    0\n",
              "1457    0\n",
              "1458    0\n",
              "Name: Expensive, Length: 1459, dtype: int64"
            ]
          },
          "metadata": {},
          "execution_count": 791
        }
      ]
    },
    {
      "cell_type": "code",
      "source": [
        "Submission = data1[[\"Id\", \"Expensive\"]]"
      ],
      "metadata": {
        "id": "zNrXhcjojpGO"
      },
      "execution_count": 792,
      "outputs": []
    },
    {
      "cell_type": "code",
      "source": [
        "Submission.to_csv(\"Hangman.csv\", index = False)"
      ],
      "metadata": {
        "id": "esi9mRCNWl7f"
      },
      "execution_count": 793,
      "outputs": []
    },
    {
      "cell_type": "code",
      "source": [
        "from google.colab import files\n",
        "files.download(\"Hangman.csv\")"
      ],
      "metadata": {
        "colab": {
          "base_uri": "https://localhost:8080/",
          "height": 17
        },
        "id": "5XKAphDzW4C6",
        "outputId": "c8c19e78-70ae-4aa7-afb4-96ff7a083acb"
      },
      "execution_count": 794,
      "outputs": [
        {
          "output_type": "display_data",
          "data": {
            "text/plain": [
              "<IPython.core.display.Javascript object>"
            ],
            "application/javascript": [
              "\n",
              "    async function download(id, filename, size) {\n",
              "      if (!google.colab.kernel.accessAllowed) {\n",
              "        return;\n",
              "      }\n",
              "      const div = document.createElement('div');\n",
              "      const label = document.createElement('label');\n",
              "      label.textContent = `Downloading \"${filename}\": `;\n",
              "      div.appendChild(label);\n",
              "      const progress = document.createElement('progress');\n",
              "      progress.max = size;\n",
              "      div.appendChild(progress);\n",
              "      document.body.appendChild(div);\n",
              "\n",
              "      const buffers = [];\n",
              "      let downloaded = 0;\n",
              "\n",
              "      const channel = await google.colab.kernel.comms.open(id);\n",
              "      // Send a message to notify the kernel that we're ready.\n",
              "      channel.send({})\n",
              "\n",
              "      for await (const message of channel.messages) {\n",
              "        // Send a message to notify the kernel that we're ready.\n",
              "        channel.send({})\n",
              "        if (message.buffers) {\n",
              "          for (const buffer of message.buffers) {\n",
              "            buffers.push(buffer);\n",
              "            downloaded += buffer.byteLength;\n",
              "            progress.value = downloaded;\n",
              "          }\n",
              "        }\n",
              "      }\n",
              "      const blob = new Blob(buffers, {type: 'application/binary'});\n",
              "      const a = document.createElement('a');\n",
              "      a.href = window.URL.createObjectURL(blob);\n",
              "      a.download = filename;\n",
              "      div.appendChild(a);\n",
              "      a.click();\n",
              "      div.remove();\n",
              "    }\n",
              "  "
            ]
          },
          "metadata": {}
        },
        {
          "output_type": "display_data",
          "data": {
            "text/plain": [
              "<IPython.core.display.Javascript object>"
            ],
            "application/javascript": [
              "download(\"download_8d6514e1-5539-4546-af1f-98458040403c\", \"Hangman.csv\", 10226)"
            ]
          },
          "metadata": {}
        }
      ]
    }
  ]
}