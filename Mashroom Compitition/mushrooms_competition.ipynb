{
  "cells": [
    {
      "cell_type": "markdown",
      "metadata": {
        "id": "46SFv3VCsG9y"
      },
      "source": [
        "# Mushrooms ML competition\n",
        "\n",
        "A sample solution using `predict_proba` and the ROC curve."
      ]
    },
    {
      "cell_type": "markdown",
      "metadata": {
        "id": "9e94EC7LsG90"
      },
      "source": [
        "## 1. Import libraries"
      ]
    },
    {
      "cell_type": "code",
      "execution_count": null,
      "metadata": {
        "tags": [],
        "id": "T87sxTmAsG90"
      },
      "outputs": [],
      "source": [
        "import numpy as np\n",
        "import pandas as pd\n",
        "import matplotlib.pyplot as plt\n",
        "import seaborn as sns\n",
        "from sklearn.model_selection import train_test_split\n",
        "\n",
        "\n",
        "from sklearn.pipeline import Pipeline\n",
        "from sklearn.compose import ColumnTransformer\n",
        "from sklearn.preprocessing import OneHotEncoder\n",
        "\n",
        "from sklearn.metrics import confusion_matrix\n",
        "from sklearn.metrics import plot_confusion_matrix\n",
        "\n",
        "from sklearn.ensemble import RandomForestClassifier"
      ]
    },
    {
      "cell_type": "markdown",
      "metadata": {
        "id": "yQbdG68msG91"
      },
      "source": [
        "## 2. Read, manipulate and split data"
      ]
    },
    {
      "cell_type": "code",
      "execution_count": null,
      "metadata": {
        "tags": [],
        "id": "SuvbkdqSsG92"
      },
      "outputs": [],
      "source": [
        "url = 'https://drive.google.com/file/d/1Op1vQftBKN1lrPVGGLJU-UOlv_dScTup/view?usp=sharing' # train.csv\n",
        "path = 'https://drive.google.com/uc?export=download&id='+url.split('/')[-2]\n",
        "mush = pd.read_csv(path)"
      ]
    },
    {
      "cell_type": "code",
      "execution_count": null,
      "metadata": {
        "tags": [],
        "id": "hCtkBSt_sG92"
      },
      "outputs": [],
      "source": [
        "url = 'https://drive.google.com/file/d/16S9TzU3JkhwlGhXczibK9f2UbgNaHdM3/view?usp=sharing' # test.csv\n",
        "path = 'https://drive.google.com/uc?export=download&id='+url.split('/')[-2]\n",
        "mush_test = pd.read_csv(path)"
      ]
    },
    {
      "cell_type": "code",
      "execution_count": null,
      "metadata": {
        "id": "EpQfMHidsG92"
      },
      "outputs": [],
      "source": [
        "mush.drop('Id',axis=1,inplace=True)"
      ]
    },
    {
      "cell_type": "code",
      "execution_count": null,
      "metadata": {
        "id": "W00gItHEsG93"
      },
      "outputs": [],
      "source": [
        "mush_test.set_index('Id',inplace=True)"
      ]
    },
    {
      "cell_type": "code",
      "execution_count": null,
      "metadata": {
        "tags": [],
        "colab": {
          "base_uri": "https://localhost:8080/",
          "height": 206
        },
        "id": "NERJiVLXsG93",
        "outputId": "010a2b96-ffd4-47c1-c4d2-26b0c43b3a6b"
      },
      "outputs": [
        {
          "output_type": "execute_result",
          "data": {
            "text/plain": [
              "     cap.shape cap.color  bruises stalk.color.above.ring  \\\n",
              "1725         f         g     True                      w   \n",
              "1260         f         g     True                      g   \n",
              "4551         x         y    False                      p   \n",
              "2442         f         c    False                      w   \n",
              "6109         x         g     True                      g   \n",
              "\n",
              "     stalk.color.below.ring population  \n",
              "1725                      p          y  \n",
              "1260                      g          v  \n",
              "4551                      b          y  \n",
              "2442                      n          v  \n",
              "6109                      w          v  "
            ],
            "text/html": [
              "\n",
              "  <div id=\"df-a2c04f45-c7a5-4abb-8d10-9f0df02fa81b\">\n",
              "    <div class=\"colab-df-container\">\n",
              "      <div>\n",
              "<style scoped>\n",
              "    .dataframe tbody tr th:only-of-type {\n",
              "        vertical-align: middle;\n",
              "    }\n",
              "\n",
              "    .dataframe tbody tr th {\n",
              "        vertical-align: top;\n",
              "    }\n",
              "\n",
              "    .dataframe thead th {\n",
              "        text-align: right;\n",
              "    }\n",
              "</style>\n",
              "<table border=\"1\" class=\"dataframe\">\n",
              "  <thead>\n",
              "    <tr style=\"text-align: right;\">\n",
              "      <th></th>\n",
              "      <th>cap.shape</th>\n",
              "      <th>cap.color</th>\n",
              "      <th>bruises</th>\n",
              "      <th>stalk.color.above.ring</th>\n",
              "      <th>stalk.color.below.ring</th>\n",
              "      <th>population</th>\n",
              "    </tr>\n",
              "  </thead>\n",
              "  <tbody>\n",
              "    <tr>\n",
              "      <th>1725</th>\n",
              "      <td>f</td>\n",
              "      <td>g</td>\n",
              "      <td>True</td>\n",
              "      <td>w</td>\n",
              "      <td>p</td>\n",
              "      <td>y</td>\n",
              "    </tr>\n",
              "    <tr>\n",
              "      <th>1260</th>\n",
              "      <td>f</td>\n",
              "      <td>g</td>\n",
              "      <td>True</td>\n",
              "      <td>g</td>\n",
              "      <td>g</td>\n",
              "      <td>v</td>\n",
              "    </tr>\n",
              "    <tr>\n",
              "      <th>4551</th>\n",
              "      <td>x</td>\n",
              "      <td>y</td>\n",
              "      <td>False</td>\n",
              "      <td>p</td>\n",
              "      <td>b</td>\n",
              "      <td>y</td>\n",
              "    </tr>\n",
              "    <tr>\n",
              "      <th>2442</th>\n",
              "      <td>f</td>\n",
              "      <td>c</td>\n",
              "      <td>False</td>\n",
              "      <td>w</td>\n",
              "      <td>n</td>\n",
              "      <td>v</td>\n",
              "    </tr>\n",
              "    <tr>\n",
              "      <th>6109</th>\n",
              "      <td>x</td>\n",
              "      <td>g</td>\n",
              "      <td>True</td>\n",
              "      <td>g</td>\n",
              "      <td>w</td>\n",
              "      <td>v</td>\n",
              "    </tr>\n",
              "  </tbody>\n",
              "</table>\n",
              "</div>\n",
              "      <button class=\"colab-df-convert\" onclick=\"convertToInteractive('df-a2c04f45-c7a5-4abb-8d10-9f0df02fa81b')\"\n",
              "              title=\"Convert this dataframe to an interactive table.\"\n",
              "              style=\"display:none;\">\n",
              "        \n",
              "  <svg xmlns=\"http://www.w3.org/2000/svg\" height=\"24px\"viewBox=\"0 0 24 24\"\n",
              "       width=\"24px\">\n",
              "    <path d=\"M0 0h24v24H0V0z\" fill=\"none\"/>\n",
              "    <path d=\"M18.56 5.44l.94 2.06.94-2.06 2.06-.94-2.06-.94-.94-2.06-.94 2.06-2.06.94zm-11 1L8.5 8.5l.94-2.06 2.06-.94-2.06-.94L8.5 2.5l-.94 2.06-2.06.94zm10 10l.94 2.06.94-2.06 2.06-.94-2.06-.94-.94-2.06-.94 2.06-2.06.94z\"/><path d=\"M17.41 7.96l-1.37-1.37c-.4-.4-.92-.59-1.43-.59-.52 0-1.04.2-1.43.59L10.3 9.45l-7.72 7.72c-.78.78-.78 2.05 0 2.83L4 21.41c.39.39.9.59 1.41.59.51 0 1.02-.2 1.41-.59l7.78-7.78 2.81-2.81c.8-.78.8-2.07 0-2.86zM5.41 20L4 18.59l7.72-7.72 1.47 1.35L5.41 20z\"/>\n",
              "  </svg>\n",
              "      </button>\n",
              "      \n",
              "  <style>\n",
              "    .colab-df-container {\n",
              "      display:flex;\n",
              "      flex-wrap:wrap;\n",
              "      gap: 12px;\n",
              "    }\n",
              "\n",
              "    .colab-df-convert {\n",
              "      background-color: #E8F0FE;\n",
              "      border: none;\n",
              "      border-radius: 50%;\n",
              "      cursor: pointer;\n",
              "      display: none;\n",
              "      fill: #1967D2;\n",
              "      height: 32px;\n",
              "      padding: 0 0 0 0;\n",
              "      width: 32px;\n",
              "    }\n",
              "\n",
              "    .colab-df-convert:hover {\n",
              "      background-color: #E2EBFA;\n",
              "      box-shadow: 0px 1px 2px rgba(60, 64, 67, 0.3), 0px 1px 3px 1px rgba(60, 64, 67, 0.15);\n",
              "      fill: #174EA6;\n",
              "    }\n",
              "\n",
              "    [theme=dark] .colab-df-convert {\n",
              "      background-color: #3B4455;\n",
              "      fill: #D2E3FC;\n",
              "    }\n",
              "\n",
              "    [theme=dark] .colab-df-convert:hover {\n",
              "      background-color: #434B5C;\n",
              "      box-shadow: 0px 1px 3px 1px rgba(0, 0, 0, 0.15);\n",
              "      filter: drop-shadow(0px 1px 2px rgba(0, 0, 0, 0.3));\n",
              "      fill: #FFFFFF;\n",
              "    }\n",
              "  </style>\n",
              "\n",
              "      <script>\n",
              "        const buttonEl =\n",
              "          document.querySelector('#df-a2c04f45-c7a5-4abb-8d10-9f0df02fa81b button.colab-df-convert');\n",
              "        buttonEl.style.display =\n",
              "          google.colab.kernel.accessAllowed ? 'block' : 'none';\n",
              "\n",
              "        async function convertToInteractive(key) {\n",
              "          const element = document.querySelector('#df-a2c04f45-c7a5-4abb-8d10-9f0df02fa81b');\n",
              "          const dataTable =\n",
              "            await google.colab.kernel.invokeFunction('convertToInteractive',\n",
              "                                                     [key], {});\n",
              "          if (!dataTable) return;\n",
              "\n",
              "          const docLinkHtml = 'Like what you see? Visit the ' +\n",
              "            '<a target=\"_blank\" href=https://colab.research.google.com/notebooks/data_table.ipynb>data table notebook</a>'\n",
              "            + ' to learn more about interactive tables.';\n",
              "          element.innerHTML = '';\n",
              "          dataTable['output_type'] = 'display_data';\n",
              "          await google.colab.output.renderOutput(dataTable, element);\n",
              "          const docLink = document.createElement('div');\n",
              "          docLink.innerHTML = docLinkHtml;\n",
              "          element.appendChild(docLink);\n",
              "        }\n",
              "      </script>\n",
              "    </div>\n",
              "  </div>\n",
              "  "
            ]
          },
          "metadata": {},
          "execution_count": 7
        }
      ],
      "source": [
        "X = mush.drop(columns=['poisonous'])\n",
        "y = mush['poisonous']\n",
        "\n",
        "X_train, X_test, y_train, y_test = train_test_split(X, y, train_size=.8, random_state=8)\n",
        "X_train.head()"
      ]
    },
    {
      "cell_type": "markdown",
      "metadata": {
        "id": "mDLk30SMsG94"
      },
      "source": [
        "## 3. Pipeline"
      ]
    },
    {
      "cell_type": "markdown",
      "metadata": {
        "id": "FC10uuIPsG94"
      },
      "source": [
        "We have chosen the `RandomForestClassifier()` as our model but you can try any other classifier."
      ]
    },
    {
      "cell_type": "code",
      "execution_count": null,
      "metadata": {
        "tags": [],
        "colab": {
          "base_uri": "https://localhost:8080/"
        },
        "id": "01yDRHXnsG95",
        "outputId": "705c9dd1-d460-42ea-c1ed-62b1d9d3d41b"
      },
      "outputs": [
        {
          "output_type": "execute_result",
          "data": {
            "text/plain": [
              "['cap.shape',\n",
              " 'cap.color',\n",
              " 'stalk.color.above.ring',\n",
              " 'stalk.color.below.ring',\n",
              " 'population']"
            ]
          },
          "metadata": {},
          "execution_count": 8
        }
      ],
      "source": [
        "cat_col= list(X_train.select_dtypes(include=[\"object\"]))\n",
        "cat_col"
      ]
    },
    {
      "cell_type": "code",
      "execution_count": null,
      "metadata": {
        "tags": [],
        "id": "zfavadC8sG95"
      },
      "outputs": [],
      "source": [
        "categorical_pipeline = Pipeline(steps=[\n",
        "    ('one-hot', OneHotEncoder(handle_unknown='ignore'))\n",
        "])\n",
        "\n",
        "full_processor = ColumnTransformer(transformers=[\n",
        "    ('category', categorical_pipeline, cat_col)\n",
        "])"
      ]
    },
    {
      "cell_type": "code",
      "execution_count": null,
      "metadata": {
        "tags": [],
        "id": "fWNlNNzesG95"
      },
      "outputs": [],
      "source": [
        "rf_pipeline = Pipeline(steps=[\n",
        "    ('processor', full_processor), \n",
        "    ('model', RandomForestClassifier(n_estimators=500, random_state=123))\n",
        "])"
      ]
    },
    {
      "cell_type": "code",
      "execution_count": null,
      "metadata": {
        "tags": [],
        "id": "agSb2zjpsG96"
      },
      "outputs": [],
      "source": [
        "_ = rf_pipeline.fit(X_train, y_train)"
      ]
    },
    {
      "cell_type": "code",
      "execution_count": null,
      "metadata": {
        "colab": {
          "base_uri": "https://localhost:8080/",
          "height": 282
        },
        "id": "JXNe7G_JsG96",
        "outputId": "913e544d-26f3-43a8-c9ff-e188a0c7b277"
      },
      "outputs": [
        {
          "output_type": "display_data",
          "data": {
            "text/plain": [
              "<Figure size 432x288 with 2 Axes>"
            ],
            "image/png": "[encoded data removed]"
          },
          "metadata": {
            "needs_background": "light"
          }
        }
      ],
      "source": [
        "from sklearn.metrics import ConfusionMatrixDisplay\n",
        "ConfusionMatrixDisplay.from_estimator(\n",
        "    rf_pipeline, X_test, y_test, display_labels=['Not poisonous', 'Poisonous']);"
      ]
    },
    {
      "cell_type": "markdown",
      "metadata": {
        "id": "e3LL-F8MsG96"
      },
      "source": [
        "The confusion matrix shows that our model predictes 36 False negatives, which means 36 poisonous mushrooms will be predicted as non-poisonous. Our task is to avoid these situations at all costs, so we need to find a way to make that left-bottom corner of confusion matrix to be 0."
      ]
    },
    {
      "cell_type": "markdown",
      "metadata": {
        "id": "x0HDR10NsG96"
      },
      "source": [
        "## 4. Probabilities with `predict_proba()`"
      ]
    },
    {
      "cell_type": "markdown",
      "metadata": {
        "id": "sl2K3NM4sG97"
      },
      "source": [
        "In this notebook we will try to change threshold with which we are predicting our classes."
      ]
    },
    {
      "cell_type": "markdown",
      "metadata": {
        "id": "nciPCTwvsG97"
      },
      "source": [
        "**What is a threshold?**\n",
        "\n",
        "It is a value above or below which a model predicts a different class.  \n",
        "The default threshold is `0.5`, which means that if a sample has `0.51` chance to be class 0 and `0.49` chance to be class 1, the model will predict that sample as class 0.\n",
        "\n",
        "In our case, this can be very dangerous because a `0.49` chance that a mushroom is poisonous is still a high chance, but our model with the default threshold will still predict it as non-poisonous.\n",
        "\n",
        "If you're intending to eat a mushroom, would you prefer that it is labeled as poisonous even if it's non-poisonous, or that it is labeled non-poisonous even if it's poisonous?\n",
        "\n",
        "Uneaten non-poisonous mushrooms are a pity, but eaten poisonous mushrooms are a deathly risk.\n",
        "\n",
        "After moving threshold this will indeed happen:  \n",
        "A lot of non-poisonous might be labeled poisonous and they will be left uneaten, but at least no poisonous will be labeled non-poisonous and noone will die!"
      ]
    },
    {
      "cell_type": "markdown",
      "metadata": {
        "id": "RmuzUg8XsG97"
      },
      "source": [
        "The **`predict_proba()`** method will help us with our task.\n",
        " \n",
        "\n",
        "`predict_proba()` is a method that many Scikit-Learn classification models have, including `LogisticRegression`, `KNeighborsClassifier`, `DecisionTreeClassifier` or the one we'll use in our example, `RandomForestClassifier`. (You can check what methods any Scikit-Learn transformer/model have by just looking at its documentation.) As [the documentation for that method outlines](https://scikit-learn.org/stable/modules/generated/sklearn.ensemble.RandomForestClassifier.html#sklearn.ensemble.RandomForestClassifier.predict_proba), after fitting one of the mentioned models to the data,  `predict_proba()` will return the probabilities of each sample to belong to each possible class.\n",
        "\n",
        "In our case, for each mushroom, `predict_proba()` will tell us probability of that mushroom being non-poisonous (class 0) and poisonous (class 1). Let's have a look:"
      ]
    },
    {
      "cell_type": "code",
      "execution_count": null,
      "metadata": {
        "tags": [],
        "colab": {
          "base_uri": "https://localhost:8080/",
          "height": 424
        },
        "id": "MvJ8jN33sG97",
        "outputId": "f3db6376-b4d6-4295-d4cb-0565d16502a2"
      },
      "outputs": [
        {
          "output_type": "execute_result",
          "data": {
            "text/plain": [
              "             0         1\n",
              "0     0.590304  0.409696\n",
              "1     1.000000  0.000000\n",
              "2     0.151588  0.848412\n",
              "3     0.000000  1.000000\n",
              "4     0.132549  0.867451\n",
              "...        ...       ...\n",
              "1295  1.000000  0.000000\n",
              "1296  0.154944  0.845056\n",
              "1297  1.000000  0.000000\n",
              "1298  1.000000  0.000000\n",
              "1299  0.982000  0.018000\n",
              "\n",
              "[1300 rows x 2 columns]"
            ],
            "text/html": [
              "\n",
              "  <div id=\"df-36fa583d-eba8-494f-89fa-5b810ff0dddb\">\n",
              "    <div class=\"colab-df-container\">\n",
              "      <div>\n",
              "<style scoped>\n",
              "    .dataframe tbody tr th:only-of-type {\n",
              "        vertical-align: middle;\n",
              "    }\n",
              "\n",
              "    .dataframe tbody tr th {\n",
              "        vertical-align: top;\n",
              "    }\n",
              "\n",
              "    .dataframe thead th {\n",
              "        text-align: right;\n",
              "    }\n",
              "</style>\n",
              "<table border=\"1\" class=\"dataframe\">\n",
              "  <thead>\n",
              "    <tr style=\"text-align: right;\">\n",
              "      <th></th>\n",
              "      <th>0</th>\n",
              "      <th>1</th>\n",
              "    </tr>\n",
              "  </thead>\n",
              "  <tbody>\n",
              "    <tr>\n",
              "      <th>0</th>\n",
              "      <td>0.590304</td>\n",
              "      <td>0.409696</td>\n",
              "    </tr>\n",
              "    <tr>\n",
              "      <th>1</th>\n",
              "      <td>1.000000</td>\n",
              "      <td>0.000000</td>\n",
              "    </tr>\n",
              "    <tr>\n",
              "      <th>2</th>\n",
              "      <td>0.151588</td>\n",
              "      <td>0.848412</td>\n",
              "    </tr>\n",
              "    <tr>\n",
              "      <th>3</th>\n",
              "      <td>0.000000</td>\n",
              "      <td>1.000000</td>\n",
              "    </tr>\n",
              "    <tr>\n",
              "      <th>4</th>\n",
              "      <td>0.132549</td>\n",
              "      <td>0.867451</td>\n",
              "    </tr>\n",
              "    <tr>\n",
              "      <th>...</th>\n",
              "      <td>...</td>\n",
              "      <td>...</td>\n",
              "    </tr>\n",
              "    <tr>\n",
              "      <th>1295</th>\n",
              "      <td>1.000000</td>\n",
              "      <td>0.000000</td>\n",
              "    </tr>\n",
              "    <tr>\n",
              "      <th>1296</th>\n",
              "      <td>0.154944</td>\n",
              "      <td>0.845056</td>\n",
              "    </tr>\n",
              "    <tr>\n",
              "      <th>1297</th>\n",
              "      <td>1.000000</td>\n",
              "      <td>0.000000</td>\n",
              "    </tr>\n",
              "    <tr>\n",
              "      <th>1298</th>\n",
              "      <td>1.000000</td>\n",
              "      <td>0.000000</td>\n",
              "    </tr>\n",
              "    <tr>\n",
              "      <th>1299</th>\n",
              "      <td>0.982000</td>\n",
              "      <td>0.018000</td>\n",
              "    </tr>\n",
              "  </tbody>\n",
              "</table>\n",
              "<p>1300 rows × 2 columns</p>\n",
              "</div>\n",
              "      <button class=\"colab-df-convert\" onclick=\"convertToInteractive('df-36fa583d-eba8-494f-89fa-5b810ff0dddb')\"\n",
              "              title=\"Convert this dataframe to an interactive table.\"\n",
              "              style=\"display:none;\">\n",
              "        \n",
              "  <svg xmlns=\"http://www.w3.org/2000/svg\" height=\"24px\"viewBox=\"0 0 24 24\"\n",
              "       width=\"24px\">\n",
              "    <path d=\"M0 0h24v24H0V0z\" fill=\"none\"/>\n",
              "    <path d=\"M18.56 5.44l.94 2.06.94-2.06 2.06-.94-2.06-.94-.94-2.06-.94 2.06-2.06.94zm-11 1L8.5 8.5l.94-2.06 2.06-.94-2.06-.94L8.5 2.5l-.94 2.06-2.06.94zm10 10l.94 2.06.94-2.06 2.06-.94-2.06-.94-.94-2.06-.94 2.06-2.06.94z\"/><path d=\"M17.41 7.96l-1.37-1.37c-.4-.4-.92-.59-1.43-.59-.52 0-1.04.2-1.43.59L10.3 9.45l-7.72 7.72c-.78.78-.78 2.05 0 2.83L4 21.41c.39.39.9.59 1.41.59.51 0 1.02-.2 1.41-.59l7.78-7.78 2.81-2.81c.8-.78.8-2.07 0-2.86zM5.41 20L4 18.59l7.72-7.72 1.47 1.35L5.41 20z\"/>\n",
              "  </svg>\n",
              "      </button>\n",
              "      \n",
              "  <style>\n",
              "    .colab-df-container {\n",
              "      display:flex;\n",
              "      flex-wrap:wrap;\n",
              "      gap: 12px;\n",
              "    }\n",
              "\n",
              "    .colab-df-convert {\n",
              "      background-color: #E8F0FE;\n",
              "      border: none;\n",
              "      border-radius: 50%;\n",
              "      cursor: pointer;\n",
              "      display: none;\n",
              "      fill: #1967D2;\n",
              "      height: 32px;\n",
              "      padding: 0 0 0 0;\n",
              "      width: 32px;\n",
              "    }\n",
              "\n",
              "    .colab-df-convert:hover {\n",
              "      background-color: #E2EBFA;\n",
              "      box-shadow: 0px 1px 2px rgba(60, 64, 67, 0.3), 0px 1px 3px 1px rgba(60, 64, 67, 0.15);\n",
              "      fill: #174EA6;\n",
              "    }\n",
              "\n",
              "    [theme=dark] .colab-df-convert {\n",
              "      background-color: #3B4455;\n",
              "      fill: #D2E3FC;\n",
              "    }\n",
              "\n",
              "    [theme=dark] .colab-df-convert:hover {\n",
              "      background-color: #434B5C;\n",
              "      box-shadow: 0px 1px 3px 1px rgba(0, 0, 0, 0.15);\n",
              "      filter: drop-shadow(0px 1px 2px rgba(0, 0, 0, 0.3));\n",
              "      fill: #FFFFFF;\n",
              "    }\n",
              "  </style>\n",
              "\n",
              "      <script>\n",
              "        const buttonEl =\n",
              "          document.querySelector('#df-36fa583d-eba8-494f-89fa-5b810ff0dddb button.colab-df-convert');\n",
              "        buttonEl.style.display =\n",
              "          google.colab.kernel.accessAllowed ? 'block' : 'none';\n",
              "\n",
              "        async function convertToInteractive(key) {\n",
              "          const element = document.querySelector('#df-36fa583d-eba8-494f-89fa-5b810ff0dddb');\n",
              "          const dataTable =\n",
              "            await google.colab.kernel.invokeFunction('convertToInteractive',\n",
              "                                                     [key], {});\n",
              "          if (!dataTable) return;\n",
              "\n",
              "          const docLinkHtml = 'Like what you see? Visit the ' +\n",
              "            '<a target=\"_blank\" href=https://colab.research.google.com/notebooks/data_table.ipynb>data table notebook</a>'\n",
              "            + ' to learn more about interactive tables.';\n",
              "          element.innerHTML = '';\n",
              "          dataTable['output_type'] = 'display_data';\n",
              "          await google.colab.output.renderOutput(dataTable, element);\n",
              "          const docLink = document.createElement('div');\n",
              "          docLink.innerHTML = docLinkHtml;\n",
              "          element.appendChild(docLink);\n",
              "        }\n",
              "      </script>\n",
              "    </div>\n",
              "  </div>\n",
              "  "
            ]
          },
          "metadata": {},
          "execution_count": 19
        }
      ],
      "source": [
        "rf_proba = rf_pipeline.predict_proba(X_test)\n",
        "pd.DataFrame(rf_proba)"
      ]
    },
    {
      "cell_type": "markdown",
      "metadata": {
        "id": "_CR9j0ewsG97"
      },
      "source": [
        "The `rf_proba` array has a shape of (1300,2):\n",
        "* 1300 is a number of mushroooms in our X-test set  \n",
        "* 2 is a number of classes, in our case 0 and 1 (non-poisonous and poisonous)  \n",
        "\n",
        "The first column holds the values of probabilites for a mushroom being class 0  \n",
        "The second column holds the values of probabilites for a mushroom being class 1"
      ]
    },
    {
      "cell_type": "code",
      "execution_count": null,
      "metadata": {
        "id": "UxUKpvZAsG98"
      },
      "outputs": [],
      "source": [
        "rf_proba = rf_proba[:,1]\n",
        "# if we select only the second column we will select all probabilities for our test mushrooms to be poisonous"
      ]
    },
    {
      "cell_type": "markdown",
      "metadata": {
        "id": "dQDXsNGcsG98"
      },
      "source": [
        "## 5. ROC and threshold selection"
      ]
    },
    {
      "cell_type": "markdown",
      "metadata": {
        "id": "--bMZ3xQsG98"
      },
      "source": [
        "ROC and AUC will help us with choosing the treshold. Please, go through these links to learn about these important metrics for binary classification. It will help you understand the rest of the notebook:  \n",
        "* https://www.kaggle.com/getting-started/53782  \n",
        "* https://machinelearningmastery.com/roc-curves-and-precision-recall-curves-for-classification-in-python/  \n",
        "https://www.youtube.com/watch?v=4jRBRDbJemM"
      ]
    },
    {
      "cell_type": "markdown",
      "metadata": {
        "id": "1cJ7tUAhsG98"
      },
      "source": [
        "The `roc_curve()` function computes the results of many models using several different thesholds, from 0 to 1. Then, it returns three arrays:\n",
        "\n",
        "1. An array with false positive rates.\n",
        "2. An array with true positive rates.\n",
        "3. An array with the threshold that determines the results obtained in the two previous arrays.\n",
        "\n",
        "More on the `roc_curve()` function here: https://scikit-learn.org/stable/modules/generated/sklearn.metrics.roc_curve.html  "
      ]
    },
    {
      "cell_type": "code",
      "execution_count": null,
      "metadata": {
        "tags": [],
        "id": "rzMIMaFssG98"
      },
      "outputs": [],
      "source": [
        "from sklearn.metrics import roc_curve\n",
        "\n",
        "rf_fpr, rf_tpr, rf_threshold = roc_curve(y_test, rf_proba)"
      ]
    },
    {
      "cell_type": "markdown",
      "metadata": {
        "id": "nuxflrSIsG98"
      },
      "source": [
        "We can create a dataframe with fpr, tpr and threshold arrays that we got from roc_curve function and visualize the roc plot as well."
      ]
    },
    {
      "cell_type": "code",
      "execution_count": null,
      "metadata": {
        "tags": [],
        "colab": {
          "base_uri": "https://localhost:8080/",
          "height": 295
        },
        "id": "JnGXTRZYsG99",
        "outputId": "333a26b1-9aac-4c26-e782-27a075b327dc"
      },
      "outputs": [
        {
          "output_type": "display_data",
          "data": {
            "text/plain": [
              "<Figure size 432x288 with 1 Axes>"
            ],
            "image/png": "[encoded data removed]"
          },
          "metadata": {
            "needs_background": "light"
          }
        }
      ],
      "source": [
        "from sklearn.metrics import roc_auc_score\n",
        "rf_auc = roc_auc_score(y_test,rf_proba)\n",
        "\n",
        "plt.plot(rf_fpr, rf_tpr, marker='.', label='Random forest (AUROC = %0.3f)' % rf_auc)\n",
        "\n",
        "# Title\n",
        "plt.title('ROC Plot')\n",
        "# Axis labels\n",
        "plt.xlabel('False Positive Rate')\n",
        "plt.ylabel('True Positive Rate')\n",
        "# Show legend\n",
        "plt.legend() # \n",
        "# Show plot\n",
        "plt.show()"
      ]
    },
    {
      "cell_type": "markdown",
      "metadata": {
        "id": "2r_vQmaGsG99"
      },
      "source": [
        "We can see on above ROC plot that True positive rate becomes 1 when False positive rate is around 0.3. Let's see what is the value of threshold when True positive rate is 1."
      ]
    },
    {
      "cell_type": "code",
      "execution_count": null,
      "metadata": {
        "tags": [],
        "colab": {
          "base_uri": "https://localhost:8080/",
          "height": 1000
        },
        "id": "5A_9ZiSjsG99",
        "outputId": "d838187b-e16c-4a8a-9e36-86f69281b383"
      },
      "outputs": [
        {
          "output_type": "execute_result",
          "data": {
            "text/plain": [
              "         fpr       tpr  threshold\n",
              "0   0.000000  0.000000   2.000000\n",
              "1   0.000000  0.514867   1.000000\n",
              "2   0.000000  0.516432   0.999478\n",
              "3   0.000000  0.519562   0.998000\n",
              "4   0.000000  0.532081   0.929049\n",
              "5   0.000000  0.535211   0.914652\n",
              "6   0.000000  0.544601   0.904460\n",
              "7   0.006051  0.558685   0.867451\n",
              "8   0.013616  0.574335   0.861962\n",
              "9   0.019667  0.597809   0.848412\n",
              "10  0.028744  0.621283   0.845056\n",
              "11  0.034796  0.644757   0.835964\n",
              "12  0.039334  0.672926   0.830938\n",
              "13  0.045386  0.685446   0.829309\n",
              "14  0.048411  0.696401   0.822100\n",
              "15  0.048411  0.697966   0.814983\n",
              "16  0.049924  0.719875   0.811383\n",
              "17  0.052950  0.732394   0.810862\n",
              "18  0.059002  0.762128   0.804077\n",
              "19  0.062027  0.773083   0.795868\n",
              "20  0.065053  0.791862   0.770821\n",
              "21  0.066566  0.805947   0.768269\n",
              "22  0.068079  0.827856   0.760822\n",
              "23  0.074130  0.854460   0.759260\n",
              "24  0.080182  0.868545   0.757889\n",
              "25  0.086233  0.898279   0.725098\n",
              "26  0.092284  0.915493   0.636311\n",
              "27  0.096823  0.917058   0.599998\n",
              "28  0.104387  0.931142   0.576284\n",
              "29  0.108926  0.934272   0.572675\n",
              "30  0.113464  0.938967   0.562532\n",
              "31  0.114977  0.943662   0.519461\n",
              "32  0.118003  0.946792   0.457449\n",
              "33  0.164902  0.960876   0.409696\n",
              "34  0.183056  0.970266   0.380196\n",
              "35  0.198185  0.976526   0.316071\n",
              "36  0.226929  0.985915   0.302002\n",
              "37  0.248109  0.995305   0.296915\n",
              "38  0.249622  0.995305   0.290000\n",
              "39  0.249622  0.998435   0.274000\n",
              "40  0.249622  1.000000   0.252954\n",
              "41  0.254160  1.000000   0.245370\n",
              "42  0.255673  1.000000   0.038485\n",
              "43  0.261725  1.000000   0.029713\n",
              "44  0.266263  1.000000   0.016743\n",
              "45  0.270802  1.000000   0.011809\n",
              "46  0.276853  1.000000   0.011267\n",
              "47  0.278366  1.000000   0.008613\n",
              "48  0.281392  1.000000   0.006130\n",
              "49  0.282905  1.000000   0.005846\n",
              "50  0.302572  1.000000   0.004000\n",
              "51  0.305598  1.000000   0.003750\n",
              "52  0.307110  1.000000   0.003333\n",
              "53  0.316188  1.000000   0.001974\n",
              "54  1.000000  1.000000   0.000000"
            ],
            "text/html": [
              "\n",
              "  <div id=\"df-e2b5b665-35da-4abe-8dba-baafded009fe\">\n",
              "    <div class=\"colab-df-container\">\n",
              "      <div>\n",
              "<style scoped>\n",
              "    .dataframe tbody tr th:only-of-type {\n",
              "        vertical-align: middle;\n",
              "    }\n",
              "\n",
              "    .dataframe tbody tr th {\n",
              "        vertical-align: top;\n",
              "    }\n",
              "\n",
              "    .dataframe thead th {\n",
              "        text-align: right;\n",
              "    }\n",
              "</style>\n",
              "<table border=\"1\" class=\"dataframe\">\n",
              "  <thead>\n",
              "    <tr style=\"text-align: right;\">\n",
              "      <th></th>\n",
              "      <th>fpr</th>\n",
              "      <th>tpr</th>\n",
              "      <th>threshold</th>\n",
              "    </tr>\n",
              "  </thead>\n",
              "  <tbody>\n",
              "    <tr>\n",
              "      <th>0</th>\n",
              "      <td>0.000000</td>\n",
              "      <td>0.000000</td>\n",
              "      <td>2.000000</td>\n",
              "    </tr>\n",
              "    <tr>\n",
              "      <th>1</th>\n",
              "      <td>0.000000</td>\n",
              "      <td>0.514867</td>\n",
              "      <td>1.000000</td>\n",
              "    </tr>\n",
              "    <tr>\n",
              "      <th>2</th>\n",
              "      <td>0.000000</td>\n",
              "      <td>0.516432</td>\n",
              "      <td>0.999478</td>\n",
              "    </tr>\n",
              "    <tr>\n",
              "      <th>3</th>\n",
              "      <td>0.000000</td>\n",
              "      <td>0.519562</td>\n",
              "      <td>0.998000</td>\n",
              "    </tr>\n",
              "    <tr>\n",
              "      <th>4</th>\n",
              "      <td>0.000000</td>\n",
              "      <td>0.532081</td>\n",
              "      <td>0.929049</td>\n",
              "    </tr>\n",
              "    <tr>\n",
              "      <th>5</th>\n",
              "      <td>0.000000</td>\n",
              "      <td>0.535211</td>\n",
              "      <td>0.914652</td>\n",
              "    </tr>\n",
              "    <tr>\n",
              "      <th>6</th>\n",
              "      <td>0.000000</td>\n",
              "      <td>0.544601</td>\n",
              "      <td>0.904460</td>\n",
              "    </tr>\n",
              "    <tr>\n",
              "      <th>7</th>\n",
              "      <td>0.006051</td>\n",
              "      <td>0.558685</td>\n",
              "      <td>0.867451</td>\n",
              "    </tr>\n",
              "    <tr>\n",
              "      <th>8</th>\n",
              "      <td>0.013616</td>\n",
              "      <td>0.574335</td>\n",
              "      <td>0.861962</td>\n",
              "    </tr>\n",
              "    <tr>\n",
              "      <th>9</th>\n",
              "      <td>0.019667</td>\n",
              "      <td>0.597809</td>\n",
              "      <td>0.848412</td>\n",
              "    </tr>\n",
              "    <tr>\n",
              "      <th>10</th>\n",
              "      <td>0.028744</td>\n",
              "      <td>0.621283</td>\n",
              "      <td>0.845056</td>\n",
              "    </tr>\n",
              "    <tr>\n",
              "      <th>11</th>\n",
              "      <td>0.034796</td>\n",
              "      <td>0.644757</td>\n",
              "      <td>0.835964</td>\n",
              "    </tr>\n",
              "    <tr>\n",
              "      <th>12</th>\n",
              "      <td>0.039334</td>\n",
              "      <td>0.672926</td>\n",
              "      <td>0.830938</td>\n",
              "    </tr>\n",
              "    <tr>\n",
              "      <th>13</th>\n",
              "      <td>0.045386</td>\n",
              "      <td>0.685446</td>\n",
              "      <td>0.829309</td>\n",
              "    </tr>\n",
              "    <tr>\n",
              "      <th>14</th>\n",
              "      <td>0.048411</td>\n",
              "      <td>0.696401</td>\n",
              "      <td>0.822100</td>\n",
              "    </tr>\n",
              "    <tr>\n",
              "      <th>15</th>\n",
              "      <td>0.048411</td>\n",
              "      <td>0.697966</td>\n",
              "      <td>0.814983</td>\n",
              "    </tr>\n",
              "    <tr>\n",
              "      <th>16</th>\n",
              "      <td>0.049924</td>\n",
              "      <td>0.719875</td>\n",
              "      <td>0.811383</td>\n",
              "    </tr>\n",
              "    <tr>\n",
              "      <th>17</th>\n",
              "      <td>0.052950</td>\n",
              "      <td>0.732394</td>\n",
              "      <td>0.810862</td>\n",
              "    </tr>\n",
              "    <tr>\n",
              "      <th>18</th>\n",
              "      <td>0.059002</td>\n",
              "      <td>0.762128</td>\n",
              "      <td>0.804077</td>\n",
              "    </tr>\n",
              "    <tr>\n",
              "      <th>19</th>\n",
              "      <td>0.062027</td>\n",
              "      <td>0.773083</td>\n",
              "      <td>0.795868</td>\n",
              "    </tr>\n",
              "    <tr>\n",
              "      <th>20</th>\n",
              "      <td>0.065053</td>\n",
              "      <td>0.791862</td>\n",
              "      <td>0.770821</td>\n",
              "    </tr>\n",
              "    <tr>\n",
              "      <th>21</th>\n",
              "      <td>0.066566</td>\n",
              "      <td>0.805947</td>\n",
              "      <td>0.768269</td>\n",
              "    </tr>\n",
              "    <tr>\n",
              "      <th>22</th>\n",
              "      <td>0.068079</td>\n",
              "      <td>0.827856</td>\n",
              "      <td>0.760822</td>\n",
              "    </tr>\n",
              "    <tr>\n",
              "      <th>23</th>\n",
              "      <td>0.074130</td>\n",
              "      <td>0.854460</td>\n",
              "      <td>0.759260</td>\n",
              "    </tr>\n",
              "    <tr>\n",
              "      <th>24</th>\n",
              "      <td>0.080182</td>\n",
              "      <td>0.868545</td>\n",
              "      <td>0.757889</td>\n",
              "    </tr>\n",
              "    <tr>\n",
              "      <th>25</th>\n",
              "      <td>0.086233</td>\n",
              "      <td>0.898279</td>\n",
              "      <td>0.725098</td>\n",
              "    </tr>\n",
              "    <tr>\n",
              "      <th>26</th>\n",
              "      <td>0.092284</td>\n",
              "      <td>0.915493</td>\n",
              "      <td>0.636311</td>\n",
              "    </tr>\n",
              "    <tr>\n",
              "      <th>27</th>\n",
              "      <td>0.096823</td>\n",
              "      <td>0.917058</td>\n",
              "      <td>0.599998</td>\n",
              "    </tr>\n",
              "    <tr>\n",
              "      <th>28</th>\n",
              "      <td>0.104387</td>\n",
              "      <td>0.931142</td>\n",
              "      <td>0.576284</td>\n",
              "    </tr>\n",
              "    <tr>\n",
              "      <th>29</th>\n",
              "      <td>0.108926</td>\n",
              "      <td>0.934272</td>\n",
              "      <td>0.572675</td>\n",
              "    </tr>\n",
              "    <tr>\n",
              "      <th>30</th>\n",
              "      <td>0.113464</td>\n",
              "      <td>0.938967</td>\n",
              "      <td>0.562532</td>\n",
              "    </tr>\n",
              "    <tr>\n",
              "      <th>31</th>\n",
              "      <td>0.114977</td>\n",
              "      <td>0.943662</td>\n",
              "      <td>0.519461</td>\n",
              "    </tr>\n",
              "    <tr>\n",
              "      <th>32</th>\n",
              "      <td>0.118003</td>\n",
              "      <td>0.946792</td>\n",
              "      <td>0.457449</td>\n",
              "    </tr>\n",
              "    <tr>\n",
              "      <th>33</th>\n",
              "      <td>0.164902</td>\n",
              "      <td>0.960876</td>\n",
              "      <td>0.409696</td>\n",
              "    </tr>\n",
              "    <tr>\n",
              "      <th>34</th>\n",
              "      <td>0.183056</td>\n",
              "      <td>0.970266</td>\n",
              "      <td>0.380196</td>\n",
              "    </tr>\n",
              "    <tr>\n",
              "      <th>35</th>\n",
              "      <td>0.198185</td>\n",
              "      <td>0.976526</td>\n",
              "      <td>0.316071</td>\n",
              "    </tr>\n",
              "    <tr>\n",
              "      <th>36</th>\n",
              "      <td>0.226929</td>\n",
              "      <td>0.985915</td>\n",
              "      <td>0.302002</td>\n",
              "    </tr>\n",
              "    <tr>\n",
              "      <th>37</th>\n",
              "      <td>0.248109</td>\n",
              "      <td>0.995305</td>\n",
              "      <td>0.296915</td>\n",
              "    </tr>\n",
              "    <tr>\n",
              "      <th>38</th>\n",
              "      <td>0.249622</td>\n",
              "      <td>0.995305</td>\n",
              "      <td>0.290000</td>\n",
              "    </tr>\n",
              "    <tr>\n",
              "      <th>39</th>\n",
              "      <td>0.249622</td>\n",
              "      <td>0.998435</td>\n",
              "      <td>0.274000</td>\n",
              "    </tr>\n",
              "    <tr>\n",
              "      <th>40</th>\n",
              "      <td>0.249622</td>\n",
              "      <td>1.000000</td>\n",
              "      <td>0.252954</td>\n",
              "    </tr>\n",
              "    <tr>\n",
              "      <th>41</th>\n",
              "      <td>0.254160</td>\n",
              "      <td>1.000000</td>\n",
              "      <td>0.245370</td>\n",
              "    </tr>\n",
              "    <tr>\n",
              "      <th>42</th>\n",
              "      <td>0.255673</td>\n",
              "      <td>1.000000</td>\n",
              "      <td>0.038485</td>\n",
              "    </tr>\n",
              "    <tr>\n",
              "      <th>43</th>\n",
              "      <td>0.261725</td>\n",
              "      <td>1.000000</td>\n",
              "      <td>0.029713</td>\n",
              "    </tr>\n",
              "    <tr>\n",
              "      <th>44</th>\n",
              "      <td>0.266263</td>\n",
              "      <td>1.000000</td>\n",
              "      <td>0.016743</td>\n",
              "    </tr>\n",
              "    <tr>\n",
              "      <th>45</th>\n",
              "      <td>0.270802</td>\n",
              "      <td>1.000000</td>\n",
              "      <td>0.011809</td>\n",
              "    </tr>\n",
              "    <tr>\n",
              "      <th>46</th>\n",
              "      <td>0.276853</td>\n",
              "      <td>1.000000</td>\n",
              "      <td>0.011267</td>\n",
              "    </tr>\n",
              "    <tr>\n",
              "      <th>47</th>\n",
              "      <td>0.278366</td>\n",
              "      <td>1.000000</td>\n",
              "      <td>0.008613</td>\n",
              "    </tr>\n",
              "    <tr>\n",
              "      <th>48</th>\n",
              "      <td>0.281392</td>\n",
              "      <td>1.000000</td>\n",
              "      <td>0.006130</td>\n",
              "    </tr>\n",
              "    <tr>\n",
              "      <th>49</th>\n",
              "      <td>0.282905</td>\n",
              "      <td>1.000000</td>\n",
              "      <td>0.005846</td>\n",
              "    </tr>\n",
              "    <tr>\n",
              "      <th>50</th>\n",
              "      <td>0.302572</td>\n",
              "      <td>1.000000</td>\n",
              "      <td>0.004000</td>\n",
              "    </tr>\n",
              "    <tr>\n",
              "      <th>51</th>\n",
              "      <td>0.305598</td>\n",
              "      <td>1.000000</td>\n",
              "      <td>0.003750</td>\n",
              "    </tr>\n",
              "    <tr>\n",
              "      <th>52</th>\n",
              "      <td>0.307110</td>\n",
              "      <td>1.000000</td>\n",
              "      <td>0.003333</td>\n",
              "    </tr>\n",
              "    <tr>\n",
              "      <th>53</th>\n",
              "      <td>0.316188</td>\n",
              "      <td>1.000000</td>\n",
              "      <td>0.001974</td>\n",
              "    </tr>\n",
              "    <tr>\n",
              "      <th>54</th>\n",
              "      <td>1.000000</td>\n",
              "      <td>1.000000</td>\n",
              "      <td>0.000000</td>\n",
              "    </tr>\n",
              "  </tbody>\n",
              "</table>\n",
              "</div>\n",
              "      <button class=\"colab-df-convert\" onclick=\"convertToInteractive('df-e2b5b665-35da-4abe-8dba-baafded009fe')\"\n",
              "              title=\"Convert this dataframe to an interactive table.\"\n",
              "              style=\"display:none;\">\n",
              "        \n",
              "  <svg xmlns=\"http://www.w3.org/2000/svg\" height=\"24px\"viewBox=\"0 0 24 24\"\n",
              "       width=\"24px\">\n",
              "    <path d=\"M0 0h24v24H0V0z\" fill=\"none\"/>\n",
              "    <path d=\"M18.56 5.44l.94 2.06.94-2.06 2.06-.94-2.06-.94-.94-2.06-.94 2.06-2.06.94zm-11 1L8.5 8.5l.94-2.06 2.06-.94-2.06-.94L8.5 2.5l-.94 2.06-2.06.94zm10 10l.94 2.06.94-2.06 2.06-.94-2.06-.94-.94-2.06-.94 2.06-2.06.94z\"/><path d=\"M17.41 7.96l-1.37-1.37c-.4-.4-.92-.59-1.43-.59-.52 0-1.04.2-1.43.59L10.3 9.45l-7.72 7.72c-.78.78-.78 2.05 0 2.83L4 21.41c.39.39.9.59 1.41.59.51 0 1.02-.2 1.41-.59l7.78-7.78 2.81-2.81c.8-.78.8-2.07 0-2.86zM5.41 20L4 18.59l7.72-7.72 1.47 1.35L5.41 20z\"/>\n",
              "  </svg>\n",
              "      </button>\n",
              "      \n",
              "  <style>\n",
              "    .colab-df-container {\n",
              "      display:flex;\n",
              "      flex-wrap:wrap;\n",
              "      gap: 12px;\n",
              "    }\n",
              "\n",
              "    .colab-df-convert {\n",
              "      background-color: #E8F0FE;\n",
              "      border: none;\n",
              "      border-radius: 50%;\n",
              "      cursor: pointer;\n",
              "      display: none;\n",
              "      fill: #1967D2;\n",
              "      height: 32px;\n",
              "      padding: 0 0 0 0;\n",
              "      width: 32px;\n",
              "    }\n",
              "\n",
              "    .colab-df-convert:hover {\n",
              "      background-color: #E2EBFA;\n",
              "      box-shadow: 0px 1px 2px rgba(60, 64, 67, 0.3), 0px 1px 3px 1px rgba(60, 64, 67, 0.15);\n",
              "      fill: #174EA6;\n",
              "    }\n",
              "\n",
              "    [theme=dark] .colab-df-convert {\n",
              "      background-color: #3B4455;\n",
              "      fill: #D2E3FC;\n",
              "    }\n",
              "\n",
              "    [theme=dark] .colab-df-convert:hover {\n",
              "      background-color: #434B5C;\n",
              "      box-shadow: 0px 1px 3px 1px rgba(0, 0, 0, 0.15);\n",
              "      filter: drop-shadow(0px 1px 2px rgba(0, 0, 0, 0.3));\n",
              "      fill: #FFFFFF;\n",
              "    }\n",
              "  </style>\n",
              "\n",
              "      <script>\n",
              "        const buttonEl =\n",
              "          document.querySelector('#df-e2b5b665-35da-4abe-8dba-baafded009fe button.colab-df-convert');\n",
              "        buttonEl.style.display =\n",
              "          google.colab.kernel.accessAllowed ? 'block' : 'none';\n",
              "\n",
              "        async function convertToInteractive(key) {\n",
              "          const element = document.querySelector('#df-e2b5b665-35da-4abe-8dba-baafded009fe');\n",
              "          const dataTable =\n",
              "            await google.colab.kernel.invokeFunction('convertToInteractive',\n",
              "                                                     [key], {});\n",
              "          if (!dataTable) return;\n",
              "\n",
              "          const docLinkHtml = 'Like what you see? Visit the ' +\n",
              "            '<a target=\"_blank\" href=https://colab.research.google.com/notebooks/data_table.ipynb>data table notebook</a>'\n",
              "            + ' to learn more about interactive tables.';\n",
              "          element.innerHTML = '';\n",
              "          dataTable['output_type'] = 'display_data';\n",
              "          await google.colab.output.renderOutput(dataTable, element);\n",
              "          const docLink = document.createElement('div');\n",
              "          docLink.innerHTML = docLinkHtml;\n",
              "          element.appendChild(docLink);\n",
              "        }\n",
              "      </script>\n",
              "    </div>\n",
              "  </div>\n",
              "  "
            ]
          },
          "metadata": {},
          "execution_count": 24
        }
      ],
      "source": [
        "win_threshold = pd.DataFrame({'fpr':rf_fpr,'tpr':rf_tpr,'threshold':rf_threshold})\n",
        "win_threshold"
      ]
    },
    {
      "cell_type": "markdown",
      "metadata": {
        "id": "MQZgOR8XsG99"
      },
      "source": [
        "Lets take one row of above DataFrame to explain the values"
      ]
    },
    {
      "cell_type": "code",
      "execution_count": null,
      "metadata": {
        "colab": {
          "base_uri": "https://localhost:8080/"
        },
        "id": "UlJogi5esG99",
        "outputId": "1ece2d7d-1000-482a-e37e-87559b747ad7"
      },
      "outputs": [
        {
          "output_type": "execute_result",
          "data": {
            "text/plain": [
              "fpr          0.048411\n",
              "tpr          0.697966\n",
              "threshold    0.814983\n",
              "Name: 15, dtype: float64"
            ]
          },
          "metadata": {},
          "execution_count": 25
        }
      ],
      "source": [
        "win_threshold.loc[15]"
      ]
    },
    {
      "cell_type": "markdown",
      "metadata": {
        "id": "G2n4f4nzsG99"
      },
      "source": [
        "This row means that if we set the threshold as `0.81`, the false positive rate will be `0.05` and true positive rate will be `0.7`.\n",
        "\n",
        "It means that for that theshold, 5% of all non-poisonous mushrooms will be (incorrectly) labaled as poisonous, and 70% of all poisonous mushrooms will be correctly labeled as such."
      ]
    },
    {
      "cell_type": "markdown",
      "metadata": {
        "id": "rhTtIpalsG99"
      },
      "source": [
        "Since our task is to NOT predict poisonous as non-poisonous, which means, we should have 0 False negatives, our True positive rate has to be 1 (100% of poisonous get labeled as poisonous).  \n",
        "Visually examining the above DataFrame we can se that TPR is increasing from 0 to 1 and finally reaches 1 in the row 40. In that same row, the threshold value is `0.25`, and that is the one we will choose to filter our results."
      ]
    },
    {
      "cell_type": "code",
      "execution_count": null,
      "metadata": {
        "tags": [],
        "colab": {
          "base_uri": "https://localhost:8080/"
        },
        "id": "fPtA7gxZsG99",
        "outputId": "9608cc78-23f1-4d11-91dc-82fb5f80bda6"
      },
      "outputs": [
        {
          "output_type": "execute_result",
          "data": {
            "text/plain": [
              "0.2529542397452717"
            ]
          },
          "metadata": {},
          "execution_count": 26
        }
      ],
      "source": [
        "win_threshold_value= win_threshold.threshold[40]\n",
        "win_threshold_value"
      ]
    },
    {
      "cell_type": "markdown",
      "source": [
        "We encourage you to scan the results shown above, but here's a slightly more automated way to find the best threshold:"
      ],
      "metadata": {
        "id": "p0Ozl9ZifVtq"
      }
    },
    {
      "cell_type": "code",
      "source": [
        "win_threshold[win_threshold.tpr==1].sort_values(\"threshold\", ascending=False).head(1)"
      ],
      "metadata": {
        "colab": {
          "base_uri": "https://localhost:8080/",
          "height": 81
        },
        "id": "u2ol8lbpevgf",
        "outputId": "390e4d47-fdd4-4508-fe67-2fa08d3bba65"
      },
      "execution_count": null,
      "outputs": [
        {
          "output_type": "execute_result",
          "data": {
            "text/plain": [
              "         fpr  tpr  threshold\n",
              "40  0.249622  1.0   0.252954"
            ],
            "text/html": [
              "\n",
              "  <div id=\"df-ec0846b6-04aa-4570-a58c-cbf58c1ca77a\">\n",
              "    <div class=\"colab-df-container\">\n",
              "      <div>\n",
              "<style scoped>\n",
              "    .dataframe tbody tr th:only-of-type {\n",
              "        vertical-align: middle;\n",
              "    }\n",
              "\n",
              "    .dataframe tbody tr th {\n",
              "        vertical-align: top;\n",
              "    }\n",
              "\n",
              "    .dataframe thead th {\n",
              "        text-align: right;\n",
              "    }\n",
              "</style>\n",
              "<table border=\"1\" class=\"dataframe\">\n",
              "  <thead>\n",
              "    <tr style=\"text-align: right;\">\n",
              "      <th></th>\n",
              "      <th>fpr</th>\n",
              "      <th>tpr</th>\n",
              "      <th>threshold</th>\n",
              "    </tr>\n",
              "  </thead>\n",
              "  <tbody>\n",
              "    <tr>\n",
              "      <th>40</th>\n",
              "      <td>0.249622</td>\n",
              "      <td>1.0</td>\n",
              "      <td>0.252954</td>\n",
              "    </tr>\n",
              "  </tbody>\n",
              "</table>\n",
              "</div>\n",
              "      <button class=\"colab-df-convert\" onclick=\"convertToInteractive('df-ec0846b6-04aa-4570-a58c-cbf58c1ca77a')\"\n",
              "              title=\"Convert this dataframe to an interactive table.\"\n",
              "              style=\"display:none;\">\n",
              "        \n",
              "  <svg xmlns=\"http://www.w3.org/2000/svg\" height=\"24px\"viewBox=\"0 0 24 24\"\n",
              "       width=\"24px\">\n",
              "    <path d=\"M0 0h24v24H0V0z\" fill=\"none\"/>\n",
              "    <path d=\"M18.56 5.44l.94 2.06.94-2.06 2.06-.94-2.06-.94-.94-2.06-.94 2.06-2.06.94zm-11 1L8.5 8.5l.94-2.06 2.06-.94-2.06-.94L8.5 2.5l-.94 2.06-2.06.94zm10 10l.94 2.06.94-2.06 2.06-.94-2.06-.94-.94-2.06-.94 2.06-2.06.94z\"/><path d=\"M17.41 7.96l-1.37-1.37c-.4-.4-.92-.59-1.43-.59-.52 0-1.04.2-1.43.59L10.3 9.45l-7.72 7.72c-.78.78-.78 2.05 0 2.83L4 21.41c.39.39.9.59 1.41.59.51 0 1.02-.2 1.41-.59l7.78-7.78 2.81-2.81c.8-.78.8-2.07 0-2.86zM5.41 20L4 18.59l7.72-7.72 1.47 1.35L5.41 20z\"/>\n",
              "  </svg>\n",
              "      </button>\n",
              "      \n",
              "  <style>\n",
              "    .colab-df-container {\n",
              "      display:flex;\n",
              "      flex-wrap:wrap;\n",
              "      gap: 12px;\n",
              "    }\n",
              "\n",
              "    .colab-df-convert {\n",
              "      background-color: #E8F0FE;\n",
              "      border: none;\n",
              "      border-radius: 50%;\n",
              "      cursor: pointer;\n",
              "      display: none;\n",
              "      fill: #1967D2;\n",
              "      height: 32px;\n",
              "      padding: 0 0 0 0;\n",
              "      width: 32px;\n",
              "    }\n",
              "\n",
              "    .colab-df-convert:hover {\n",
              "      background-color: #E2EBFA;\n",
              "      box-shadow: 0px 1px 2px rgba(60, 64, 67, 0.3), 0px 1px 3px 1px rgba(60, 64, 67, 0.15);\n",
              "      fill: #174EA6;\n",
              "    }\n",
              "\n",
              "    [theme=dark] .colab-df-convert {\n",
              "      background-color: #3B4455;\n",
              "      fill: #D2E3FC;\n",
              "    }\n",
              "\n",
              "    [theme=dark] .colab-df-convert:hover {\n",
              "      background-color: #434B5C;\n",
              "      box-shadow: 0px 1px 3px 1px rgba(0, 0, 0, 0.15);\n",
              "      filter: drop-shadow(0px 1px 2px rgba(0, 0, 0, 0.3));\n",
              "      fill: #FFFFFF;\n",
              "    }\n",
              "  </style>\n",
              "\n",
              "      <script>\n",
              "        const buttonEl =\n",
              "          document.querySelector('#df-ec0846b6-04aa-4570-a58c-cbf58c1ca77a button.colab-df-convert');\n",
              "        buttonEl.style.display =\n",
              "          google.colab.kernel.accessAllowed ? 'block' : 'none';\n",
              "\n",
              "        async function convertToInteractive(key) {\n",
              "          const element = document.querySelector('#df-ec0846b6-04aa-4570-a58c-cbf58c1ca77a');\n",
              "          const dataTable =\n",
              "            await google.colab.kernel.invokeFunction('convertToInteractive',\n",
              "                                                     [key], {});\n",
              "          if (!dataTable) return;\n",
              "\n",
              "          const docLinkHtml = 'Like what you see? Visit the ' +\n",
              "            '<a target=\"_blank\" href=https://colab.research.google.com/notebooks/data_table.ipynb>data table notebook</a>'\n",
              "            + ' to learn more about interactive tables.';\n",
              "          element.innerHTML = '';\n",
              "          dataTable['output_type'] = 'display_data';\n",
              "          await google.colab.output.renderOutput(dataTable, element);\n",
              "          const docLink = document.createElement('div');\n",
              "          docLink.innerHTML = docLinkHtml;\n",
              "          element.appendChild(docLink);\n",
              "        }\n",
              "      </script>\n",
              "    </div>\n",
              "  </div>\n",
              "  "
            ]
          },
          "metadata": {},
          "execution_count": 33
        }
      ]
    },
    {
      "cell_type": "markdown",
      "metadata": {
        "id": "nJkdKG9EsG9-"
      },
      "source": [
        "## 6. Adjusting the predictions based on treshold value - X-test"
      ]
    },
    {
      "cell_type": "markdown",
      "metadata": {
        "id": "6o8YRsmFsG9-"
      },
      "source": [
        "The following code is filtering predicted values based on the probability \n",
        "of a sample being a class 1 (of a mushroom to be poisonous) that `predicted_proba()` returned.\n",
        "\n",
        "If a value is higher than the threshold it will set prediction as 1 (poisonous). Only if a probability is lower than the threshold it will predicted as 0 (non-poisonous)."
      ]
    },
    {
      "cell_type": "code",
      "execution_count": null,
      "metadata": {
        "id": "pAkC3O5ssG9-"
      },
      "outputs": [],
      "source": [
        "predicted_proba = rf_pipeline.predict_proba(X_test)\n",
        "\n",
        "predicted = (predicted_proba [:,1] >= win_threshold_value).astype('int')"
      ]
    },
    {
      "cell_type": "code",
      "execution_count": null,
      "metadata": {
        "colab": {
          "base_uri": "https://localhost:8080/"
        },
        "id": "DX0KRn_IsG9-",
        "outputId": "cedc4347-abfa-4517-8fb2-b8fab4be5060"
      },
      "outputs": [
        {
          "output_type": "stream",
          "name": "stdout",
          "text": [
            "Probability: [0.40969587 0.         0.84841232 1.         0.86745138]\n",
            "Set value: [1 0 1 1 1]\n"
          ]
        }
      ],
      "source": [
        "# just the sample so you can see how values are set based on predicted_proba values:\n",
        "print(f'Probability: {predicted_proba [:5,1]}')\n",
        "print(f'Set value: {predicted[:5]}')"
      ]
    },
    {
      "cell_type": "markdown",
      "metadata": {
        "id": "t0Uj5VxesG9-"
      },
      "source": [
        "## 7. Confusion matrix of adjusted results"
      ]
    },
    {
      "cell_type": "code",
      "execution_count": null,
      "metadata": {
        "id": "PoFx6mO3sG9-"
      },
      "outputs": [],
      "source": [
        "from sklearn.metrics import confusion_matrix\n",
        "\n",
        "#Generate the confusion matrix\n",
        "cf_matrix = confusion_matrix(y_test, predicted)"
      ]
    },
    {
      "cell_type": "code",
      "execution_count": null,
      "metadata": {
        "tags": [],
        "colab": {
          "base_uri": "https://localhost:8080/",
          "height": 337
        },
        "id": "D_buqVR3sG9-",
        "outputId": "15ba4966-3cc2-4c27-b8d2-7e5bda666a4f"
      },
      "outputs": [
        {
          "output_type": "display_data",
          "data": {
            "text/plain": [
              "<Figure size 432x288 with 2 Axes>"
            ],
            "image/png": "[encoded data removed]"
          },
          "metadata": {
            "needs_background": "light"
          }
        }
      ],
      "source": [
        "import seaborn as sns\n",
        "\n",
        "ax = sns.heatmap(cf_matrix, annot=True, cmap='Blues', fmt='g')\n",
        "\n",
        "ax.set_title('Confusion Matrix for mushrooms\\n\\n');\n",
        "ax.set_xlabel('\\nPredicted Values')\n",
        "ax.set_ylabel('Actual Values ');\n",
        "\n",
        "## Ticket labels - List must be in alphabetical order\n",
        "ax.xaxis.set_ticklabels(['Not poisonous','Poisonous'])\n",
        "ax.yaxis.set_ticklabels(['Not poisonous','Poisonous'])\n",
        "\n",
        "## Display the visualization of the Confusion Matrix.\n",
        "plt.show()"
      ]
    },
    {
      "cell_type": "markdown",
      "metadata": {
        "id": "uV2t1-CJsG9_"
      },
      "source": [
        "## 8. Adjusting the predictions based on threshold value - test"
      ]
    },
    {
      "cell_type": "markdown",
      "metadata": {
        "id": "vRRclNHbsG9_"
      },
      "source": [
        "Now we can do the same on a real test set that we want to predict:"
      ]
    },
    {
      "cell_type": "code",
      "execution_count": null,
      "metadata": {
        "id": "ziCky3z8sG-A"
      },
      "outputs": [],
      "source": [
        "predicted_proba_test = rf_pipeline.predict_proba(mush_test)\n",
        "predicted_test = (predicted_proba_test [:,1] >= win_threshold_value).astype('int')"
      ]
    },
    {
      "cell_type": "markdown",
      "metadata": {
        "id": "Hc4F99tisG-B"
      },
      "source": [
        "## 9. Creating a submission file"
      ]
    },
    {
      "cell_type": "code",
      "execution_count": null,
      "metadata": {
        "colab": {
          "base_uri": "https://localhost:8080/",
          "height": 424
        },
        "id": "Q_WVTO_YsG-B",
        "outputId": "7a7bf16f-a7f2-4d86-f2e8-240091208661"
      },
      "outputs": [
        {
          "output_type": "execute_result",
          "data": {
            "text/plain": [
              "        Id  poisonous\n",
              "0     5165          1\n",
              "1     4281          1\n",
              "2      231          1\n",
              "3     3890          1\n",
              "4     1521          1\n",
              "...    ...        ...\n",
              "1620   983          1\n",
              "1621  7055          0\n",
              "1622  7456          1\n",
              "1623  5132          0\n",
              "1624  6821          1\n",
              "\n",
              "[1625 rows x 2 columns]"
            ],
            "text/html": [
              "\n",
              "  <div id=\"df-700c0b68-14c8-4880-b7d8-770fc68acc9c\">\n",
              "    <div class=\"colab-df-container\">\n",
              "      <div>\n",
              "<style scoped>\n",
              "    .dataframe tbody tr th:only-of-type {\n",
              "        vertical-align: middle;\n",
              "    }\n",
              "\n",
              "    .dataframe tbody tr th {\n",
              "        vertical-align: top;\n",
              "    }\n",
              "\n",
              "    .dataframe thead th {\n",
              "        text-align: right;\n",
              "    }\n",
              "</style>\n",
              "<table border=\"1\" class=\"dataframe\">\n",
              "  <thead>\n",
              "    <tr style=\"text-align: right;\">\n",
              "      <th></th>\n",
              "      <th>Id</th>\n",
              "      <th>poisonous</th>\n",
              "    </tr>\n",
              "  </thead>\n",
              "  <tbody>\n",
              "    <tr>\n",
              "      <th>0</th>\n",
              "      <td>5165</td>\n",
              "      <td>1</td>\n",
              "    </tr>\n",
              "    <tr>\n",
              "      <th>1</th>\n",
              "      <td>4281</td>\n",
              "      <td>1</td>\n",
              "    </tr>\n",
              "    <tr>\n",
              "      <th>2</th>\n",
              "      <td>231</td>\n",
              "      <td>1</td>\n",
              "    </tr>\n",
              "    <tr>\n",
              "      <th>3</th>\n",
              "      <td>3890</td>\n",
              "      <td>1</td>\n",
              "    </tr>\n",
              "    <tr>\n",
              "      <th>4</th>\n",
              "      <td>1521</td>\n",
              "      <td>1</td>\n",
              "    </tr>\n",
              "    <tr>\n",
              "      <th>...</th>\n",
              "      <td>...</td>\n",
              "      <td>...</td>\n",
              "    </tr>\n",
              "    <tr>\n",
              "      <th>1620</th>\n",
              "      <td>983</td>\n",
              "      <td>1</td>\n",
              "    </tr>\n",
              "    <tr>\n",
              "      <th>1621</th>\n",
              "      <td>7055</td>\n",
              "      <td>0</td>\n",
              "    </tr>\n",
              "    <tr>\n",
              "      <th>1622</th>\n",
              "      <td>7456</td>\n",
              "      <td>1</td>\n",
              "    </tr>\n",
              "    <tr>\n",
              "      <th>1623</th>\n",
              "      <td>5132</td>\n",
              "      <td>0</td>\n",
              "    </tr>\n",
              "    <tr>\n",
              "      <th>1624</th>\n",
              "      <td>6821</td>\n",
              "      <td>1</td>\n",
              "    </tr>\n",
              "  </tbody>\n",
              "</table>\n",
              "<p>1625 rows × 2 columns</p>\n",
              "</div>\n",
              "      <button class=\"colab-df-convert\" onclick=\"convertToInteractive('df-700c0b68-14c8-4880-b7d8-770fc68acc9c')\"\n",
              "              title=\"Convert this dataframe to an interactive table.\"\n",
              "              style=\"display:none;\">\n",
              "        \n",
              "  <svg xmlns=\"http://www.w3.org/2000/svg\" height=\"24px\"viewBox=\"0 0 24 24\"\n",
              "       width=\"24px\">\n",
              "    <path d=\"M0 0h24v24H0V0z\" fill=\"none\"/>\n",
              "    <path d=\"M18.56 5.44l.94 2.06.94-2.06 2.06-.94-2.06-.94-.94-2.06-.94 2.06-2.06.94zm-11 1L8.5 8.5l.94-2.06 2.06-.94-2.06-.94L8.5 2.5l-.94 2.06-2.06.94zm10 10l.94 2.06.94-2.06 2.06-.94-2.06-.94-.94-2.06-.94 2.06-2.06.94z\"/><path d=\"M17.41 7.96l-1.37-1.37c-.4-.4-.92-.59-1.43-.59-.52 0-1.04.2-1.43.59L10.3 9.45l-7.72 7.72c-.78.78-.78 2.05 0 2.83L4 21.41c.39.39.9.59 1.41.59.51 0 1.02-.2 1.41-.59l7.78-7.78 2.81-2.81c.8-.78.8-2.07 0-2.86zM5.41 20L4 18.59l7.72-7.72 1.47 1.35L5.41 20z\"/>\n",
              "  </svg>\n",
              "      </button>\n",
              "      \n",
              "  <style>\n",
              "    .colab-df-container {\n",
              "      display:flex;\n",
              "      flex-wrap:wrap;\n",
              "      gap: 12px;\n",
              "    }\n",
              "\n",
              "    .colab-df-convert {\n",
              "      background-color: #E8F0FE;\n",
              "      border: none;\n",
              "      border-radius: 50%;\n",
              "      cursor: pointer;\n",
              "      display: none;\n",
              "      fill: #1967D2;\n",
              "      height: 32px;\n",
              "      padding: 0 0 0 0;\n",
              "      width: 32px;\n",
              "    }\n",
              "\n",
              "    .colab-df-convert:hover {\n",
              "      background-color: #E2EBFA;\n",
              "      box-shadow: 0px 1px 2px rgba(60, 64, 67, 0.3), 0px 1px 3px 1px rgba(60, 64, 67, 0.15);\n",
              "      fill: #174EA6;\n",
              "    }\n",
              "\n",
              "    [theme=dark] .colab-df-convert {\n",
              "      background-color: #3B4455;\n",
              "      fill: #D2E3FC;\n",
              "    }\n",
              "\n",
              "    [theme=dark] .colab-df-convert:hover {\n",
              "      background-color: #434B5C;\n",
              "      box-shadow: 0px 1px 3px 1px rgba(0, 0, 0, 0.15);\n",
              "      filter: drop-shadow(0px 1px 2px rgba(0, 0, 0, 0.3));\n",
              "      fill: #FFFFFF;\n",
              "    }\n",
              "  </style>\n",
              "\n",
              "      <script>\n",
              "        const buttonEl =\n",
              "          document.querySelector('#df-700c0b68-14c8-4880-b7d8-770fc68acc9c button.colab-df-convert');\n",
              "        buttonEl.style.display =\n",
              "          google.colab.kernel.accessAllowed ? 'block' : 'none';\n",
              "\n",
              "        async function convertToInteractive(key) {\n",
              "          const element = document.querySelector('#df-700c0b68-14c8-4880-b7d8-770fc68acc9c');\n",
              "          const dataTable =\n",
              "            await google.colab.kernel.invokeFunction('convertToInteractive',\n",
              "                                                     [key], {});\n",
              "          if (!dataTable) return;\n",
              "\n",
              "          const docLinkHtml = 'Like what you see? Visit the ' +\n",
              "            '<a target=\"_blank\" href=https://colab.research.google.com/notebooks/data_table.ipynb>data table notebook</a>'\n",
              "            + ' to learn more about interactive tables.';\n",
              "          element.innerHTML = '';\n",
              "          dataTable['output_type'] = 'display_data';\n",
              "          await google.colab.output.renderOutput(dataTable, element);\n",
              "          const docLink = document.createElement('div');\n",
              "          docLink.innerHTML = docLinkHtml;\n",
              "          element.appendChild(docLink);\n",
              "        }\n",
              "      </script>\n",
              "    </div>\n",
              "  </div>\n",
              "  "
            ]
          },
          "metadata": {},
          "execution_count": 42
        }
      ],
      "source": [
        "submission_file = pd.DataFrame({'Id': mush_test.index, 'poisonous': pd.Series(predicted_test)})\n",
        "submission_file"
      ]
    },
    {
      "cell_type": "code",
      "execution_count": null,
      "metadata": {
        "id": "3CMfIQwzsG-B"
      },
      "outputs": [],
      "source": [
        "# submission_file.to_csv('submission.csv', index=None )"
      ]
    }
  ],
  "metadata": {
    "kernelspec": {
      "display_name": "Python 3 (ipykernel)",
      "language": "python",
      "name": "python3"
    },
    "language_info": {
      "codemirror_mode": {
        "name": "ipython",
        "version": 3
      },
      "file_extension": ".py",
      "mimetype": "text/x-python",
      "name": "python",
      "nbconvert_exporter": "python",
      "pygments_lexer": "ipython3",
      "version": "3.9.7"
    },
    "colab": {
      "name": "mushrooms-competition.ipynb",
      "provenance": [],
      "collapsed_sections": []
    }
  },
  "nbformat": 4,
  "nbformat_minor": 0
}